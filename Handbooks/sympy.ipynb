{
 "cells": [
  {
   "cell_type": "markdown",
   "id": "b72f7eab-770d-48ee-b084-93c6712a278a",
   "metadata": {},
   "source": [
    "import sympy as sp\n",
    "\n",
    "sp.symbols()\n",
    "sp.diff()\n",
    "sp.derive_by_array()"
   ]
  },
  {
   "cell_type": "code",
   "execution_count": null,
   "id": "6b7d9080-2d42-4c34-8916-8d448e3a8cb8",
   "metadata": {},
   "outputs": [],
   "source": []
  }
 ],
 "metadata": {
  "kernelspec": {
   "display_name": "Python 3 (ipykernel)",
   "language": "python",
   "name": "python3"
  },
  "language_info": {
   "codemirror_mode": {
    "name": "ipython",
    "version": 3
   },
   "file_extension": ".py",
   "mimetype": "text/x-python",
   "name": "python",
   "nbconvert_exporter": "python",
   "pygments_lexer": "ipython3",
   "version": "3.12.7"
  }
 },
 "nbformat": 4,
 "nbformat_minor": 5
}
