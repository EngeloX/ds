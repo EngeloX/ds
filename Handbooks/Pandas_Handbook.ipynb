{
 "cells": [
  {
   "cell_type": "markdown",
   "id": "58ca16eb-7789-4f99-96ed-c0640cf54274",
   "metadata": {},
   "source": [
    "### Основные структуры"
   ]
  },
  {
   "cell_type": "markdown",
   "id": "9f36cfcc-03c9-4a6c-b1a7-a595647bfb67",
   "metadata": {},
   "source": [
    "1. **Series** - Одномерный объект (Контейнер для скаляров)\n",
    "2. **DataFrame** - Двумерный объект (Контейнер для объектов Series)\n",
    "3. **Index** - "
   ]
  },
  {
   "cell_type": "markdown",
   "id": "2ae9866a-4449-43f7-9b31-e00be2760545",
   "metadata": {},
   "source": [
    "#### Index"
   ]
  },
  {
   "cell_type": "markdown",
   "id": "e082d3ae-84f1-451a-8f09-2a439bbb1be0",
   "metadata": {},
   "source": [
    "#### Series"
   ]
  },
  {
   "cell_type": "markdown",
   "id": "11ac7543-79ce-45fe-86c5-9ea3033ede44",
   "metadata": {},
   "source": [
    "#### DataFrame"
   ]
  },
  {
   "cell_type": "code",
   "execution_count": null,
   "id": "b08558cc-0383-4b2f-b4fb-5697652cf61f",
   "metadata": {},
   "outputs": [],
   "source": []
  }
 ],
 "metadata": {
  "kernelspec": {
   "display_name": "Python 3 (ipykernel)",
   "language": "python",
   "name": "python3"
  },
  "language_info": {
   "codemirror_mode": {
    "name": "ipython",
    "version": 3
   },
   "file_extension": ".py",
   "mimetype": "text/x-python",
   "name": "python",
   "nbconvert_exporter": "python",
   "pygments_lexer": "ipython3",
   "version": "3.12.7"
  }
 },
 "nbformat": 4,
 "nbformat_minor": 5
}
