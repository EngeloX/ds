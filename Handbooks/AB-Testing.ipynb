{
 "cells": [
  {
   "cell_type": "markdown",
   "id": "c2a6a63f-7818-48a5-a9f0-6df68efc7b5f",
   "metadata": {},
   "source": [
    "**t-распределение Стьюдента и t-тест**\\\n",
    "t-Статистика (t-statistic) \\\n",
    "Стандартизированная версия часто встречающихся проверочных статистик, таких как среднее значение.\\\n",
    "t-Распределение(t-distribution) Эталонное распределение (в данном случае полученное из нулевой гипотезы), \\\n",
    "с которым может быть сопоставлена наблюдаемая t-статистика. scipy.stats.ttest_ind\\\n",
    "f-Распределение \\"
   ]
  },
  {
   "cell_type": "markdown",
   "id": "188ed386-6d23-40a6-9602-675719bd8450",
   "metadata": {},
   "source": [
    "# A/B-тестирование"
   ]
  },
  {
   "cell_type": "markdown",
   "id": "1e4c3f01-56fe-42ca-b2c1-b28626796217",
   "metadata": {},
   "source": [
    "**`Вариант эксперимента (treatment)`** : Нечто, что испытуемому предлагается в целях тестирования. \\\n",
    "**`Тестовая группа (treatment group)`** : Группа испытуемых, которым предлагается конкретный вариант. \\\n",
    "**`Контрольная группа (control group)`** : Группа испытуемых, которым предлагается стандартный вариаент или не предлагается вообще никакой. \\\n",
    "**`Испытуемые (subjects)`** : Субьекты, которым предлагаются варианты. \\\n",
    "**`Рандомизация (randomization)`** : Процесс случайного отнесения испытуемых к вариантам. \\\n",
    "**`Проверочная статистика (test statistic)`** : Метрика, которая используется для проверки варианта.\n",
    "\n",
    "**`Пермутация (permutation)`** : \\\n",
    "**`Эрзац=пеоеменная или прокси`** :"
   ]
  },
  {
   "cell_type": "markdown",
   "id": "615af583-c831-4f4a-8e38-46578fd2f6ae",
   "metadata": {},
   "source": [
    "Нулевая гипотеза \\\n",
    "Ненулевая гипотеза\n"
   ]
  },
  {
   "cell_type": "markdown",
   "id": "ffcfd68d-fba3-4fb2-b045-0044a2454621",
   "metadata": {},
   "source": [
    "p-value\\\n",
    "alpha\\\n",
    "Ошибка 1-го рода\\\n",
    "Ошибка 2-го рода"
   ]
  },
  {
   "cell_type": "markdown",
   "id": "f131fabc-0150-491c-9713-e7d66cc3143d",
   "metadata": {},
   "source": [
    "**Дисперсионный анализ(ANalysis Of VAriance) | ANOVA**"
   ]
  },
  {
   "cell_type": "markdown",
   "id": "fb9debee-faac-4f9a-a20a-6a03e4a12cb4",
   "metadata": {},
   "source": [
    "134"
   ]
  },
  {
   "cell_type": "markdown",
   "id": "0781b34e-2c3e-4a7c-9b7c-f7d4d4899052",
   "metadata": {},
   "source": [
    "**хи-квадраты**"
   ]
  },
  {
   "cell_type": "markdown",
   "id": "6c382b8b-392b-4a27-a98b-ac712bccde59",
   "metadata": {},
   "source": [
    "**Многорукий бандит**"
   ]
  },
  {
   "cell_type": "markdown",
   "id": "3c113ce3-51b6-43bf-9d2e-c2fc4f71056f",
   "metadata": {},
   "source": [
    "**Байес**"
   ]
  },
  {
   "cell_type": "code",
   "execution_count": null,
   "id": "a557b82f-4d61-4312-9513-e68a2c4a77df",
   "metadata": {},
   "outputs": [],
   "source": []
  }
 ],
 "metadata": {
  "kernelspec": {
   "display_name": "Python 3 (ipykernel)",
   "language": "python",
   "name": "python3"
  },
  "language_info": {
   "codemirror_mode": {
    "name": "ipython",
    "version": 3
   },
   "file_extension": ".py",
   "mimetype": "text/x-python",
   "name": "python",
   "nbconvert_exporter": "python",
   "pygments_lexer": "ipython3",
   "version": "3.12.7"
  }
 },
 "nbformat": 4,
 "nbformat_minor": 5
}
