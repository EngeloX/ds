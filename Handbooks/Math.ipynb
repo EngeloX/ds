{
 "cells": [
  {
   "cell_type": "markdown",
   "id": "ca40d85f-df69-4877-b455-f360900ac321",
   "metadata": {},
   "source": [
    "# Статистика"
   ]
  },
  {
   "cell_type": "markdown",
   "id": "fa0811a3-1bd2-4b23-8c45-3fcde8f82025",
   "metadata": {},
   "source": [
    "**`Коэффициент вариации`** - Относительную изменчивость данных в наборах данных с разными масштабами.\n",
    "$$\n",
    "КВ = \\frac{s}{\\mu}\n",
    "$$\n",
    "$s$ - Стандартное отклонение\\\n",
    "$\\mu$ - Среднее арифметическое"
   ]
  },
  {
   "cell_type": "code",
   "execution_count": 8,
   "id": "2357fd3d-5523-44a6-9548-3450f4fa1ade",
   "metadata": {},
   "outputs": [],
   "source": [
    "import numpy as np\n",
    "cm = np.array([180, 190, 195]) # Рост в см\n",
    "inch = np.array([70.8661, 74.8031, 76.7717]) # Тот же рост в дюймах"
   ]
  },
  {
   "cell_type": "code",
   "execution_count": 11,
   "id": "516152bc-f5fc-47d4-8258-ac33e56e4f31",
   "metadata": {},
   "outputs": [
    {
     "data": {
      "text/plain": [
       "(0.03311201227233576, 0.03311243332922641)"
      ]
     },
     "execution_count": 11,
     "metadata": {},
     "output_type": "execute_result"
    }
   ],
   "source": [
    "np.std(cm)/np.mean(cm), np.std(inch)/np.mean(inch)"
   ]
  },
  {
   "cell_type": "code",
   "execution_count": 13,
   "id": "b6098470-7c35-453b-9b68-ea4e5d0c83f8",
   "metadata": {},
   "outputs": [
    {
     "data": {
      "text/plain": [
       "(0.03311201227233576, 0.03311243332922641)"
      ]
     },
     "execution_count": 13,
     "metadata": {},
     "output_type": "execute_result"
    }
   ],
   "source": [
    "from scipy.stats import variation\n",
    "variation(cm), variation(inch)"
   ]
  },
  {
   "cell_type": "markdown",
   "id": "0d38edb1-ad28-48ea-b167-5d4847f8375a",
   "metadata": {},
   "source": [
    "# Дифференцирование"
   ]
  },
  {
   "cell_type": "markdown",
   "id": "806f53de-f01e-4154-a9a6-25c8b2777306",
   "metadata": {},
   "source": [
    "`Ассимптота` : Это прямая, к которой приближается график функции, но никогда не пересекает её. \\\n",
    "`lim` : "
   ]
  },
  {
   "cell_type": "markdown",
   "id": "2f31d58c-67de-4e50-a138-1b9f248e483a",
   "metadata": {},
   "source": [
    "`Производная` : Скорость изменения функции одной переменной в конкретной точке. Как сильно изменяется значение функции $y$ от изменения аргумента $x$.\n",
    "$$\n",
    "f'(x) = \\frac{\\partial f}{\\partial x}\n",
    "$$\n",
    "Любая производная вычисляется по формуле.\n",
    "$$\n",
    "f'(x) = n*x^{n-1}\n",
    "$$\n",
    "**Геометрический смысл производной**: Производная функции в точке равна угловому коэффиенту касательной проведенной через эту точку, угловой коэффицент $k$ равен тангенсу, то есть отношение противлежащего катета к прилежащему это и будет значение производной данной функции. Семантически это даже не касательная а секущая, прямая линия построенная по двум точкам, $x$ и $dx$, только в качестве $dx$ взята точка стремящаяся к $x$ ($lim->x$) поэтому разница между $x$ и $dx$ в пределе стремится к нулю, поэтому секущая сводится к касательной.\n",
    "\n",
    "\n",
    "`Экстремум` : Такое значение $x$ при котором функция становится максимально или минимально возможной среди всех блихлежащих точек. Производная функции в этой точке равна нулю. *Функция меняет свое направление*\n",
    "Локальный экстремум - Минимум или максимум функции в локальной области. \\\n",
    "Глобальный экстремум - Наибольшее или наименьшее значение функции, которое возможно у всей функции. \\\n",
    "\n",
    "`Частная производная` : Производная функции нескольких переменных по одной из этих переменных. Все остальные переменные фиксируются как константы\n",
    "\n",
    "`Градиент` : Вектор частных производных по каждому аргументу"
   ]
  },
  {
   "cell_type": "markdown",
   "id": "3a09992a-7466-4b74-9776-0a93c2c73b53",
   "metadata": {},
   "source": [
    "# Линейная алгебра"
   ]
  },
  {
   "cell_type": "markdown",
   "id": "f4a9a36a-75cb-48ac-8acb-44f8603f5027",
   "metadata": {},
   "source": [
    "**`Длина вектора`** : Сумма квадратов из всех его компонент(Гипотенуза в теореме Пифагора)\n",
    "$$\n",
    "|| \\vec{v} \\| = \\sqrt{v_1^2 + v_2^2 + \\dots + v_n^2}\n",
    "$$\n",
    "\n",
    "-----\n",
    "**`Скалярное произведение`** : Сумма произведений соответствующих компонент вектора. Сумма покомпонетных умножений.\\\n",
    "a = x1, x2, x3 (Первый вектор)\\\n",
    "b = y1, y2, y3 (Второй вектор)\\\n",
    "$a * b = x1*y1 + x2*y2 + x3*y3$\n",
    "\n",
    "$$\n",
    "\\vec{a}*\\vec{b} = \\sum{{a_i}*{b_i}}\n",
    "$$\n",
    "\n",
    "\n",
    "----\n",
    "**`Матричное произведение`** : Умножение матриц.\\\n",
    "Обязательное условие, чтобы количество столбцов в матрице $A$ равнялось количеству строк в матрице $B$.\\\n",
    "В таком случаи результатом умножения матрицы $A (n*m)$ на матрицу $B (m*p)$ будет являться матрица $C (n*p)$\\\n",
    "Каждый элемент матрицы $C$ рассчитывается как скалярное произведение соответствующих строк матрицы $A$ и столбцов матрицы $B$.\n",
    "\n",
    "$$\n",
    "C_{ij} = \\sum{A_{ik}*{B_{kj}}}\n",
    "$$"
   ]
  },
  {
   "cell_type": "code",
   "execution_count": 18,
   "id": "1fe2f197-729f-47b8-b0f0-fce6564a0e5a",
   "metadata": {},
   "outputs": [
    {
     "name": "stdout",
     "output_type": "stream",
     "text": [
      "Матрица А(3,2)\n",
      "[[3 3]\n",
      " [2 5]\n",
      " [2 3]]\n",
      "\n",
      "Матрица B(2,3)\n",
      "[[4 1 2]\n",
      " [2 1 2]]\n"
     ]
    }
   ],
   "source": [
    "import numpy as np\n",
    "np.random.seed(10)\n",
    "A = np.random.randint(2, 6, size=(3, 2))\n",
    "B = np.random.randint(1, 5, size=(2, 3))\n",
    "print('Матрица А(3,2)')\n",
    "print(A)\n",
    "print()\n",
    "print('Матрица B(2,3)')\n",
    "print(B)"
   ]
  },
  {
   "cell_type": "code",
   "execution_count": 22,
   "id": "ce39c9a4-8299-4ef6-bd0b-fc297f85e32a",
   "metadata": {},
   "outputs": [
    {
     "data": {
      "text/plain": [
       "array([[18,  6, 12],\n",
       "       [18,  7, 14],\n",
       "       [14,  5, 10]])"
      ]
     },
     "execution_count": 22,
     "metadata": {},
     "output_type": "execute_result"
    }
   ],
   "source": [
    "A @ B"
   ]
  },
  {
   "cell_type": "code",
   "execution_count": 23,
   "id": "07d6e539-8c59-4513-bd61-d6fbd3f4c57a",
   "metadata": {},
   "outputs": [
    {
     "data": {
      "text/plain": [
       "array([[18,  6, 12],\n",
       "       [18,  7, 14],\n",
       "       [14,  5, 10]])"
      ]
     },
     "execution_count": 23,
     "metadata": {},
     "output_type": "execute_result"
    }
   ],
   "source": [
    "np.dot(A, B)"
   ]
  },
  {
   "cell_type": "code",
   "execution_count": 24,
   "id": "5a0044ca-7c85-4df7-a8fd-82eb25b01e85",
   "metadata": {},
   "outputs": [
    {
     "data": {
      "text/plain": [
       "array([[18,  6, 12],\n",
       "       [18,  7, 14],\n",
       "       [14,  5, 10]])"
      ]
     },
     "execution_count": 24,
     "metadata": {},
     "output_type": "execute_result"
    }
   ],
   "source": [
    "np.matmul(A, B)"
   ]
  },
  {
   "cell_type": "markdown",
   "id": "eb73b9af-4c5a-4847-8e94-ea1552c4a868",
   "metadata": {},
   "source": [
    "-----\n",
    "**`Транспонированная матрица`** - Матрица у которой столбцы и строки поменяны местами\n",
    "$$\n",
    "A^T\n",
    "$$"
   ]
  },
  {
   "cell_type": "code",
   "execution_count": 56,
   "id": "28978bef-d159-4564-918d-84d40de1d3d2",
   "metadata": {},
   "outputs": [
    {
     "name": "stdout",
     "output_type": "stream",
     "text": [
      "Исходная матрица:\n",
      "[[2 6 3]\n",
      " [5 2 3]]\n"
     ]
    }
   ],
   "source": [
    "A = np.random.randint(2, 8, size=(2, 3))\n",
    "print(f'Исходная матрица:')\n",
    "print(A)"
   ]
  },
  {
   "cell_type": "code",
   "execution_count": 57,
   "id": "d5716762-f50e-47d0-8e86-a309f3ff66e4",
   "metadata": {},
   "outputs": [
    {
     "name": "stdout",
     "output_type": "stream",
     "text": [
      "Транспонированная матрица:\n",
      "[[2 5]\n",
      " [6 2]\n",
      " [3 3]]\n"
     ]
    }
   ],
   "source": [
    "print(f'Транспонированная матрица:')\n",
    "print(A.T)"
   ]
  },
  {
   "cell_type": "markdown",
   "id": "9de948b9-f11a-4b5e-9e04-23cbf3a0495a",
   "metadata": {},
   "source": [
    "**`Обратная матрица`** - Матрица существующая только для квадратной матрицы. Такая матрица при умножении на которую исходной квадратной матрицы в результате получается **единичная матрица**\\\n",
    "**`Единичная матрица`** - Квадратная матрица у которой все элементы на главной диагонали - единицы, а все остальные - нули.\n",
    "\n",
    "$$\n",
    "A^{-1}\n",
    "$$\n",
    "$$\n",
    "AA^{-1} = I\n",
    "$$\n",
    "$A$ - Квадратная матрица\\\n",
    "$A^{-1}$ - Обратная матрица\\\n",
    "$I$ - Единичная матрица"
   ]
  },
  {
   "cell_type": "code",
   "execution_count": 58,
   "id": "805244af-db86-43e0-8484-373592053a10",
   "metadata": {},
   "outputs": [
    {
     "name": "stdout",
     "output_type": "stream",
     "text": [
      "Исходная квадратная матрица:\n",
      "[[6 3 3]\n",
      " [3 2 6]\n",
      " [4 7 4]]\n"
     ]
    }
   ],
   "source": [
    "A = np.random.randint(2, 8, size=(3, 3))\n",
    "\n",
    "print(f'Исходная квадратная матрица:')\n",
    "print(A)"
   ]
  },
  {
   "cell_type": "code",
   "execution_count": 59,
   "id": "737cd192-2620-4a3e-822e-4164359bbc7e",
   "metadata": {},
   "outputs": [
    {
     "name": "stdout",
     "output_type": "stream",
     "text": [
      "Обратная матрица:\n",
      "[[ 0.26356589 -0.06976744 -0.09302326]\n",
      " [-0.09302326 -0.09302326  0.20930233]\n",
      " [-0.10077519  0.23255814 -0.02325581]]\n"
     ]
    }
   ],
   "source": [
    "invA = np.linalg.inv(A)\n",
    "\n",
    "print(f'Обратная матрица:')\n",
    "print(invA)"
   ]
  },
  {
   "cell_type": "code",
   "execution_count": 60,
   "id": "9d0f5ac0-c48c-4185-b526-2680646ee6c1",
   "metadata": {},
   "outputs": [
    {
     "name": "stdout",
     "output_type": "stream",
     "text": [
      "Единичная матрица:\n",
      "[[ 1.  0.  0.]\n",
      " [ 0.  1.  0.]\n",
      " [-0. -0.  1.]]\n"
     ]
    }
   ],
   "source": [
    "I = invA @ A\n",
    "I = I.round()\n",
    "\n",
    "print(f'Единичная матрица:')\n",
    "print(I)"
   ]
  },
  {
   "cell_type": "markdown",
   "id": "fc52f965-9d37-464b-b6d1-10cabbec0e00",
   "metadata": {},
   "source": [
    "**`Диагональная матрица`** - Матрица у которой все значения кроме главной диагонали равны нулю. Её можно сконстрировать из вектора."
   ]
  },
  {
   "cell_type": "code",
   "execution_count": 68,
   "id": "7b5d4636-0199-4c52-a67b-5134d018cd1d",
   "metadata": {},
   "outputs": [
    {
     "name": "stdout",
     "output_type": "stream",
     "text": [
      "Исходный вектор\n",
      "[3 3 1 4 3]\n",
      "Диагональная матрица\n",
      "[[3 0 0 0 0]\n",
      " [0 3 0 0 0]\n",
      " [0 0 1 0 0]\n",
      " [0 0 0 4 0]\n",
      " [0 0 0 0 3]]\n"
     ]
    }
   ],
   "source": [
    "vec = np.random.randint(1, 5, size=5)\n",
    "diag = np.diag(vec)\n",
    "print('Исходный вектор')\n",
    "print(vec)\n",
    "print('Диагональная матрица')\n",
    "print(diag)"
   ]
  },
  {
   "cell_type": "markdown",
   "id": "f86a20a0-f63a-4813-bd7a-755bccf7d8ed",
   "metadata": {},
   "source": [
    "**`Ортнормальная матрица`** - или **Ортогональная** если она вещественная(в ней отсутствуют комплексные числа). Матрица $Q$ ортнормальная если Q-транспонированная равна Q-обратной.\\\n",
    "т.е.\n",
    "- Вектор-столбцы и вектор-строки взаимно ортоганальны\n",
    "- И нормированы. Длина каждого вектора равна единице.\n",
    "\n",
    "$$\n",
    "Q^TQ=I\n",
    "$$\n",
    "$$\n",
    "Q^{-1}=Q^T\n",
    "$$"
   ]
  },
  {
   "cell_type": "markdown",
   "id": "3c570035-2fa2-4197-9dbe-f52faa9e532a",
   "metadata": {},
   "source": [
    "**`Ранк`** - Количество линейно независимых строк(или столбцов). Нельзя получить строку в матрице комбинацией или произведением из другой строки."
   ]
  },
  {
   "cell_type": "code",
   "execution_count": 84,
   "id": "97dfcf07-d52c-4bbe-aad5-fa49e5af2066",
   "metadata": {},
   "outputs": [
    {
     "data": {
      "text/plain": [
       "array([[1, 2, 3],\n",
       "       [2, 4, 6],\n",
       "       [7, 8, 9]])"
      ]
     },
     "execution_count": 84,
     "metadata": {},
     "output_type": "execute_result"
    }
   ],
   "source": [
    "A = np.array([[1, 2, 3], \n",
    "              [2, 4, 6],\n",
    "              [7, 8, 9]])\n",
    "A"
   ]
  },
  {
   "cell_type": "code",
   "execution_count": 85,
   "id": "6ef3a598-8ec7-4613-b39d-7a2c74977f2d",
   "metadata": {},
   "outputs": [
    {
     "name": "stdout",
     "output_type": "stream",
     "text": [
      "Ранг матрицы: 2\n"
     ]
    }
   ],
   "source": [
    "rank_A = np.linalg.matrix_rank(A)\n",
    "print('Ранг матрицы:', rank_A)\n"
   ]
  },
  {
   "cell_type": "markdown",
   "id": "009e93ec-0223-456f-8e0e-dff49d0fa93f",
   "metadata": {},
   "source": [
    "**`Выражденная матрица`** - Матрица у которой **Детерменант** равен нулю, что говорит о том, что у неё нет обратной матрицы, не имеет полной ранговой структуры и её столбцы или строки линейно зависимы\n"
   ]
  },
  {
   "cell_type": "markdown",
   "id": "3de0b2bc-ccf1-42c3-ad8a-f5619f3d76f0",
   "metadata": {},
   "source": [
    "**`Детерминант`** - Коэффициент масштабируемости квадратной матрицы. То как матрица сжимает или растягивает пространство.\\\n",
    "Если детерменант равен 0 - матрица выражденная. Объекты теряют размерность.\\\n",
    "Если детерминант положительный - матрица растягивает пространство.\n",
    "Если детерминант отрицательный - матрица растягивает пространство с изменением ориентации координат(например зеркальное отображение)\n"
   ]
  },
  {
   "cell_type": "code",
   "execution_count": 86,
   "id": "db7dc340-059b-4680-b7fb-cf797ddbf572",
   "metadata": {},
   "outputs": [
    {
     "data": {
      "text/plain": [
       "array([[1, 2, 3],\n",
       "       [2, 4, 6],\n",
       "       [7, 8, 9]])"
      ]
     },
     "execution_count": 86,
     "metadata": {},
     "output_type": "execute_result"
    }
   ],
   "source": [
    "A"
   ]
  },
  {
   "cell_type": "code",
   "execution_count": 92,
   "id": "2dea3bf7-cf2d-424d-bb37-2fe3f51bd7f5",
   "metadata": {},
   "outputs": [
    {
     "data": {
      "text/plain": [
       "0.0"
      ]
     },
     "execution_count": 92,
     "metadata": {},
     "output_type": "execute_result"
    }
   ],
   "source": [
    "np.linalg.det(A) # Выраждена"
   ]
  },
  {
   "cell_type": "code",
   "execution_count": 93,
   "id": "c5fd3c10-c2c0-40db-a676-7874ea130721",
   "metadata": {},
   "outputs": [
    {
     "data": {
      "text/plain": [
       "array([[3, 6, 1],\n",
       "       [1, 6, 6],\n",
       "       [5, 2, 4]])"
      ]
     },
     "execution_count": 93,
     "metadata": {},
     "output_type": "execute_result"
    }
   ],
   "source": [
    "A2 = np.random.randint(1, 7, size=(3, 3))\n",
    "A2"
   ]
  },
  {
   "cell_type": "code",
   "execution_count": 94,
   "id": "7f7d2b06-7218-4920-8fc7-41461291a91f",
   "metadata": {},
   "outputs": [
    {
     "data": {
      "text/plain": [
       "163.99999999999991"
      ]
     },
     "execution_count": 94,
     "metadata": {},
     "output_type": "execute_result"
    }
   ],
   "source": [
    "np.linalg.det(A2) # Не выраждена"
   ]
  },
  {
   "cell_type": "code",
   "execution_count": null,
   "id": "242a9c04-7a5c-42c9-b980-75c774d3a78f",
   "metadata": {},
   "outputs": [],
   "source": []
  }
 ],
 "metadata": {
  "kernelspec": {
   "display_name": "Python 3 (ipykernel)",
   "language": "python",
   "name": "python3"
  },
  "language_info": {
   "codemirror_mode": {
    "name": "ipython",
    "version": 3
   },
   "file_extension": ".py",
   "mimetype": "text/x-python",
   "name": "python",
   "nbconvert_exporter": "python",
   "pygments_lexer": "ipython3",
   "version": "3.12.3"
  }
 },
 "nbformat": 4,
 "nbformat_minor": 5
}
