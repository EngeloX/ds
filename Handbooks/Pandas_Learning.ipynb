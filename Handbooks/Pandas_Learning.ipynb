{
 "cells": [
  {
   "cell_type": "code",
   "execution_count": 252,
   "id": "6981c9b9-3ae3-4401-8b3b-5024cba869d1",
   "metadata": {},
   "outputs": [],
   "source": [
    "import numpy as np\n",
    "import pandas as pd"
   ]
  },
  {
   "cell_type": "code",
   "execution_count": 253,
   "id": "4d9a9826-2365-41c1-af2f-b0912f97925d",
   "metadata": {},
   "outputs": [
    {
     "data": {
      "text/plain": [
       "'2.2.2'"
      ]
     },
     "execution_count": 253,
     "metadata": {},
     "output_type": "execute_result"
    }
   ],
   "source": [
    "pd.__version__"
   ]
  },
  {
   "cell_type": "markdown",
   "id": "a7361215-91c8-4250-8535-c73ffccce6c1",
   "metadata": {},
   "source": [
    "#### **Объект Index**"
   ]
  },
  {
   "cell_type": "markdown",
   "id": "9eaf1ac2-663d-4282-8067-595330e88edc",
   "metadata": {},
   "source": [
    "**pd.Index** - явный индекс в объектах **pd.Series** и **pd.DataFrame**. Обладает свойствами неизменяемого массива(immutable array), так и мультимножества(ordered set)(его значения могут дублироваться). При конструировании структур данных **Series** и **DataFrame** объект создается по умолчанию. Но для заданий конкретных значений индексов следует создавать заранее"
   ]
  },
  {
   "cell_type": "code",
   "execution_count": 323,
   "id": "e453573f-3f8b-4b8b-bfeb-2e940c03d2b7",
   "metadata": {},
   "outputs": [],
   "source": [
    "ind = pd.Index(['a', 'b', 'c', 'd'])"
   ]
  },
  {
   "cell_type": "code",
   "execution_count": 324,
   "id": "d50ce2ba-c5f6-418b-b9af-5bb9ee80e775",
   "metadata": {},
   "outputs": [
    {
     "name": "stdout",
     "output_type": "stream",
     "text": [
      "Количество элементов: 4 | Форма: (4,) | Размерность: 1 | Тип данных: object\n"
     ]
    }
   ],
   "source": [
    "print(f'Количество элементов: {ind.size} | Форма: {ind.shape} | Размерность: {ind.ndim} | Тип данных: {ind.dtype}')"
   ]
  },
  {
   "cell_type": "markdown",
   "id": "4160e768-d1aa-4611-a031-926ac5d8598e",
   "metadata": {},
   "source": [
    "Обладая свойствами множества(**Set**) поддерживает соответствующие операции"
   ]
  },
  {
   "cell_type": "code",
   "execution_count": 325,
   "id": "bd87517d-c94a-45be-9bb1-e4da31a31755",
   "metadata": {},
   "outputs": [],
   "source": [
    "indA = pd.Index([1, 3, 5, 7, 9])\n",
    "indB = pd.Index([2, 3, 5, 7, 11])"
   ]
  },
  {
   "cell_type": "code",
   "execution_count": 326,
   "id": "88a10af1-3a1b-4225-ace4-b07f6d8ec244",
   "metadata": {},
   "outputs": [
    {
     "data": {
      "text/plain": [
       "Index([0, 3, 5, 7, 9], dtype='int64')"
      ]
     },
     "execution_count": 326,
     "metadata": {},
     "output_type": "execute_result"
    }
   ],
   "source": [
    "# Пересечение\n",
    "indA & indB"
   ]
  },
  {
   "cell_type": "code",
   "execution_count": 327,
   "id": "8738300a-bdf0-4608-aec0-5d2081c2664b",
   "metadata": {},
   "outputs": [
    {
     "data": {
      "text/plain": [
       "Index([3, 3, 5, 7, 11], dtype='int64')"
      ]
     },
     "execution_count": 327,
     "metadata": {},
     "output_type": "execute_result"
    }
   ],
   "source": [
    "# Объединение\n",
    "indA | indB "
   ]
  },
  {
   "cell_type": "code",
   "execution_count": 328,
   "id": "60526c12-3c29-46c1-9c82-082a7a94e4c8",
   "metadata": {},
   "outputs": [
    {
     "data": {
      "text/plain": [
       "Index([3, 0, 0, 0, 2], dtype='int64')"
      ]
     },
     "execution_count": 328,
     "metadata": {},
     "output_type": "execute_result"
    }
   ],
   "source": [
    "# Симметрическая разность\n",
    "indA ^ indB"
   ]
  },
  {
   "cell_type": "markdown",
   "id": "f8e9153d-4ec7-4eaf-9fba-0584707778d1",
   "metadata": {},
   "source": [
    "Операции также реализованы в соответствующих методах \\\n",
    "indA.intersection(indB)"
   ]
  },
  {
   "cell_type": "code",
   "execution_count": null,
   "id": "3fe3844f-60eb-400e-8ca9-3da7ace764b6",
   "metadata": {},
   "outputs": [],
   "source": []
  },
  {
   "cell_type": "code",
   "execution_count": null,
   "id": "799734a8-ea35-400b-9984-fd1493cf95b4",
   "metadata": {},
   "outputs": [],
   "source": []
  },
  {
   "cell_type": "code",
   "execution_count": null,
   "id": "f28f762e-3861-4451-98a3-076dacb82994",
   "metadata": {},
   "outputs": [],
   "source": []
  },
  {
   "cell_type": "markdown",
   "id": "83fc78fb-4b15-4599-97ec-fb6327ab4264",
   "metadata": {},
   "source": [
    "#### **Объект Series**"
   ]
  },
  {
   "cell_type": "markdown",
   "id": "b8268f69-529c-48ca-b47c-2b44a4bf051b",
   "metadata": {},
   "source": [
    "**Объект Series** - Одномерный массив иднесированных данных. \\\n",
    "Индексы объекта также становятся его аттрибутами \\\n",
    "*Индексы связаны со значениями подобно словарю*"
   ]
  },
  {
   "cell_type": "code",
   "execution_count": 329,
   "id": "1a9a0a63-067f-48b0-ba1f-2fc600f62b6e",
   "metadata": {},
   "outputs": [],
   "source": [
    "L = [0.25, 0.5, 0.75, 1]\n",
    "data = pd.Series(L)"
   ]
  },
  {
   "cell_type": "code",
   "execution_count": 330,
   "id": "0205eba5-9b8e-4ab7-a22a-31265b2ca9f0",
   "metadata": {},
   "outputs": [
    {
     "data": {
      "text/plain": [
       "0    0.25\n",
       "1    0.50\n",
       "2    0.75\n",
       "3    1.00\n",
       "dtype: float64"
      ]
     },
     "execution_count": 330,
     "metadata": {},
     "output_type": "execute_result"
    }
   ],
   "source": [
    "data"
   ]
  },
  {
   "cell_type": "code",
   "execution_count": 331,
   "id": "a7c6c08f-1e8e-4d0e-8519-f637285fa07b",
   "metadata": {},
   "outputs": [
    {
     "name": "stdout",
     "output_type": "stream",
     "text": [
      "[0.25 0.5  0.75 1.  ]\n",
      "RangeIndex(start=0, stop=4, step=1)\n"
     ]
    }
   ],
   "source": [
    "print(data.values) # значения\n",
    "print(data.index) # индексы"
   ]
  },
  {
   "cell_type": "markdown",
   "id": "2f5e7fd7-a77a-4174-b324-9286033cf57e",
   "metadata": {},
   "source": [
    "**Создание из словаря**"
   ]
  },
  {
   "cell_type": "code",
   "execution_count": 332,
   "id": "a2ca23d3-7fde-4e16-ac2c-697321bca59d",
   "metadata": {},
   "outputs": [],
   "source": [
    "population_dict = {'California': 38332521,\n",
    " 'Texas': 26448193,\n",
    " 'New York': 19651127,\n",
    " 'Florida': 19552860,\n",
    " 'Illinois': 12882135}"
   ]
  },
  {
   "cell_type": "code",
   "execution_count": 333,
   "id": "325a5e7b-e14c-435d-a3b1-c95d8cf7ad5d",
   "metadata": {},
   "outputs": [],
   "source": [
    "# Ключи словаря станут индексами объекта Series\n",
    "population = pd.Series(population_dict)"
   ]
  },
  {
   "cell_type": "code",
   "execution_count": 334,
   "id": "915f2b63-2dcd-4f15-aaf1-5a023be18ab5",
   "metadata": {},
   "outputs": [
    {
     "data": {
      "text/plain": [
       "California    38332521\n",
       "Texas         26448193\n",
       "New York      19651127\n",
       "Florida       19552860\n",
       "Illinois      12882135\n",
       "dtype: int64"
      ]
     },
     "execution_count": 334,
     "metadata": {},
     "output_type": "execute_result"
    }
   ],
   "source": [
    "population"
   ]
  },
  {
   "cell_type": "markdown",
   "id": "7a66ae1d-8528-46aa-94bc-00c90a5fcbee",
   "metadata": {},
   "source": [
    "**Обращение к значениям**"
   ]
  },
  {
   "cell_type": "code",
   "execution_count": 335,
   "id": "a0b44924-0829-4483-8d0a-dd5f5ad69845",
   "metadata": {},
   "outputs": [
    {
     "data": {
      "text/plain": [
       "26448193"
      ]
     },
     "execution_count": 335,
     "metadata": {},
     "output_type": "execute_result"
    }
   ],
   "source": [
    "# Обращение к элементу в формате ключа\n",
    "population['Texas']"
   ]
  },
  {
   "cell_type": "code",
   "execution_count": 336,
   "id": "fb28ab9e-b663-4668-a82b-b192c21aa246",
   "metadata": {},
   "outputs": [
    {
     "data": {
      "text/plain": [
       "26448193"
      ]
     },
     "execution_count": 336,
     "metadata": {},
     "output_type": "execute_result"
    }
   ],
   "source": [
    "# Обращение к элементу через аттрибут\n",
    "population.Texas"
   ]
  },
  {
   "cell_type": "code",
   "execution_count": 337,
   "id": "c273d77c-2a93-48be-a62e-f4e474d95100",
   "metadata": {},
   "outputs": [
    {
     "data": {
      "text/plain": [
       "Texas       26448193\n",
       "New York    19651127\n",
       "Florida     19552860\n",
       "dtype: int64"
      ]
     },
     "execution_count": 337,
     "metadata": {},
     "output_type": "execute_result"
    }
   ],
   "source": [
    "# Использование срезов (stop - включительно)\n",
    "population['Texas':'Florida']"
   ]
  },
  {
   "cell_type": "code",
   "execution_count": 338,
   "id": "1705a470-cac7-4750-8598-942826619c33",
   "metadata": {},
   "outputs": [
    {
     "data": {
      "text/plain": [
       "California    38332521\n",
       "Texas         26448193\n",
       "New York      19651127\n",
       "dtype: int64"
      ]
     },
     "execution_count": 338,
     "metadata": {},
     "output_type": "execute_result"
    }
   ],
   "source": [
    "# Использование срезов неявных индексов(stop - не включительно)\n",
    "population[0:3]"
   ]
  },
  {
   "cell_type": "code",
   "execution_count": 339,
   "id": "60580a66-1133-463a-97c8-daa9e7cd03b5",
   "metadata": {},
   "outputs": [
    {
     "data": {
      "text/plain": [
       "True"
      ]
     },
     "execution_count": 339,
     "metadata": {},
     "output_type": "execute_result"
    }
   ],
   "source": [
    "# Проверка на приндлежность операторм in\n",
    "'Texas' in population"
   ]
  },
  {
   "cell_type": "code",
   "execution_count": 340,
   "id": "9a88c3b6-0b13-4036-b9d8-08025c03733d",
   "metadata": {},
   "outputs": [
    {
     "data": {
      "text/plain": [
       "array([38332521, 26448193, 19651127, 19552860, 12882135], dtype=int64)"
      ]
     },
     "execution_count": 340,
     "metadata": {},
     "output_type": "execute_result"
    }
   ],
   "source": [
    "# Обращение к значениям\n",
    "population.values"
   ]
  },
  {
   "cell_type": "code",
   "execution_count": 341,
   "id": "5ab3d5b2-1f21-4379-8527-63714ae0b622",
   "metadata": {},
   "outputs": [
    {
     "data": {
      "text/plain": [
       "Index(['California', 'Texas', 'New York', 'Florida', 'Illinois'], dtype='object')"
      ]
     },
     "execution_count": 341,
     "metadata": {},
     "output_type": "execute_result"
    }
   ],
   "source": [
    "# Обращение к индексам\n",
    "population.index"
   ]
  },
  {
   "cell_type": "code",
   "execution_count": 342,
   "id": "9387d5e3-676a-40a3-a594-ae4f02ca3246",
   "metadata": {},
   "outputs": [
    {
     "data": {
      "text/plain": [
       "Index(['California', 'Texas', 'New York', 'Florida', 'Illinois'], dtype='object')"
      ]
     },
     "execution_count": 342,
     "metadata": {},
     "output_type": "execute_result"
    }
   ],
   "source": [
    "# Обращение к ключам(Идентично индексам) | подобно словарю\n",
    "population.keys()"
   ]
  },
  {
   "cell_type": "code",
   "execution_count": 274,
   "id": "25c36c83-7531-48e2-bb8e-8ce1f648ed1b",
   "metadata": {},
   "outputs": [
    {
     "data": {
      "text/plain": [
       "[('California', 38332521),\n",
       " ('Texas', 26448193),\n",
       " ('New York', 19651127),\n",
       " ('Florida', 19552860),\n",
       " ('Illinois', 12882135)]"
      ]
     },
     "execution_count": 274,
     "metadata": {},
     "output_type": "execute_result"
    }
   ],
   "source": [
    "# Обращение ко всем компонентам | подобно словарю\n",
    "list(population.items())"
   ]
  },
  {
   "cell_type": "code",
   "execution_count": 275,
   "id": "33510b58-43cc-4d7a-b0d9-f413a1875cea",
   "metadata": {},
   "outputs": [
    {
     "data": {
      "text/plain": [
       "California    38332521\n",
       "Texas         26448193\n",
       "dtype: int64"
      ]
     },
     "execution_count": 275,
     "metadata": {},
     "output_type": "execute_result"
    }
   ],
   "source": [
    "# Маскирование\n",
    "population[population>20_000_000]"
   ]
  },
  {
   "cell_type": "code",
   "execution_count": 276,
   "id": "2add21d6-a59e-4993-8686-d0396943b415",
   "metadata": {},
   "outputs": [
    {
     "data": {
      "text/plain": [
       "Texas         26448193\n",
       "California    38332521\n",
       "dtype: int64"
      ]
     },
     "execution_count": 276,
     "metadata": {},
     "output_type": "execute_result"
    }
   ],
   "source": [
    "# Прихотливая индексация\n",
    "population[['Texas', 'California']]"
   ]
  },
  {
   "cell_type": "markdown",
   "id": "7059ac7d-21f2-46dd-ac78-d593be90b188",
   "metadata": {},
   "source": [
    "**Атрибуты-индексаторы**"
   ]
  },
  {
   "cell_type": "markdown",
   "id": "94abfe67-c3ed-47f0-8e8d-5956f22cedaa",
   "metadata": {},
   "source": [
    "\n",
    "Атрибуты-индексаторы позволяют явным образом применять конкретные схемы индексации во избежание путаницы. \\\n",
    "Они являются не функциональными методами, а именно атрибутами, предоставляющими для данных из объекта Series определенный интерфейс для выполнения срезов."
   ]
  },
  {
   "cell_type": "code",
   "execution_count": 277,
   "id": "41ba513a-5223-4c68-9990-57b0e0fa90da",
   "metadata": {},
   "outputs": [
    {
     "name": "stdout",
     "output_type": "stream",
     "text": [
      "1    A\n",
      "2    B\n",
      "3    C\n",
      "4    D\n",
      "dtype: object\n"
     ]
    }
   ],
   "source": [
    "data = ['A', 'B', 'C', 'D']\n",
    "ind = [1, 2, 3, 4]\n",
    "data = pd.Series(data=data, index=ind)\n",
    "print(data)"
   ]
  },
  {
   "cell_type": "markdown",
   "id": "7753fecd-4ab5-4c91-9822-aacb9f286cef",
   "metadata": {},
   "source": [
    "**loc** - атрибут, позволяющий выполнять индексацию и срезы с использованием **явного индекса**"
   ]
  },
  {
   "cell_type": "code",
   "execution_count": 278,
   "id": "ce78e5bb-ec32-4260-8b13-08bfdd64cd37",
   "metadata": {},
   "outputs": [
    {
     "data": {
      "text/plain": [
       "1    A\n",
       "2    B\n",
       "3    C\n",
       "dtype: object"
      ]
     },
     "execution_count": 278,
     "metadata": {},
     "output_type": "execute_result"
    }
   ],
   "source": [
    "# Срез явными индексами | Фактическое значения в объекте(для буквенных собственно буква),stop - включительно\n",
    "data.loc[1:3]"
   ]
  },
  {
   "cell_type": "markdown",
   "id": "9a84d879-1bd2-40d6-a497-282f65c961c4",
   "metadata": {},
   "source": [
    "**iloc** - атрибут, позволяющий выполнять индексацию и срезы с использованием **НЕявного индекса**"
   ]
  },
  {
   "cell_type": "code",
   "execution_count": 279,
   "id": "742e94b9-1a1a-4876-8fee-a6475bc38beb",
   "metadata": {},
   "outputs": [
    {
     "data": {
      "text/plain": [
       "1    A\n",
       "2    B\n",
       "3    C\n",
       "dtype: object"
      ]
     },
     "execution_count": 279,
     "metadata": {},
     "output_type": "execute_result"
    }
   ],
   "source": [
    "data.iloc[0:3] # Срез неявными индексами | Индексы аналогичные спискам Pytho (0 для первого элемента, stop - невключительно)"
   ]
  },
  {
   "cell_type": "markdown",
   "id": "88075413-f4e5-4f96-977a-bf1e159913fb",
   "metadata": {},
   "source": [
    "#### **Объект DataFrame**"
   ]
  },
  {
   "cell_type": "markdown",
   "id": "e43b06d4-f701-40dd-8185-c827068d3eea",
   "metadata": {},
   "source": [
    "**DataFrame** -Упорядоченная последовательность выровненных объектов **Series**, использующих один и тот же индекс."
   ]
  },
  {
   "cell_type": "markdown",
   "id": "f827c3c5-8dbe-4a66-b57c-b155716c8091",
   "metadata": {},
   "source": [
    "##### **Создание объекта DataFrame**"
   ]
  },
  {
   "cell_type": "markdown",
   "id": "0feff3d7-c598-43d0-b128-013f5b018be9",
   "metadata": {},
   "source": [
    "**Создание из словаря**"
   ]
  },
  {
   "cell_type": "markdown",
   "id": "b944b696-f88b-47bf-8360-7da9b351e8fd",
   "metadata": {},
   "source": [
    "Ключи(будущие Индексы) всех словарей из которых конструируется объект DataFrame должны быть одинаковы, иначе значения не сопоставятся в соответствии \\\n",
    "*поэтому стоит выносить их отдельно*"
   ]
  },
  {
   "cell_type": "code",
   "execution_count": 281,
   "id": "78d9da5f-93e9-4991-8c96-ee8cb3ecf390",
   "metadata": {},
   "outputs": [],
   "source": [
    "area_dict = {'California': 423967, 'Texas': 695662, 'New York': 141297,'Florida': 170312, 'Illinois': 149995}\n",
    "area = pd.Series(area_dict)"
   ]
  },
  {
   "cell_type": "code",
   "execution_count": 282,
   "id": "820d104c-53fd-42b0-9fdd-920540d87d33",
   "metadata": {},
   "outputs": [
    {
     "data": {
      "text/plain": [
       "California    423967\n",
       "Texas         695662\n",
       "New York      141297\n",
       "Florida       170312\n",
       "Illinois      149995\n",
       "dtype: int64"
      ]
     },
     "execution_count": 282,
     "metadata": {},
     "output_type": "execute_result"
    }
   ],
   "source": [
    "area"
   ]
  },
  {
   "cell_type": "code",
   "execution_count": 283,
   "id": "75e0e4be-10dc-4a55-bd52-e406ff370e55",
   "metadata": {},
   "outputs": [],
   "source": [
    "states = pd.DataFrame({'population':population,\n",
    "                       'area':area})"
   ]
  },
  {
   "cell_type": "code",
   "execution_count": 284,
   "id": "08afecf8-2b0a-4d5b-9af1-73ba8f1b98e2",
   "metadata": {},
   "outputs": [
    {
     "data": {
      "text/html": [
       "<div>\n",
       "<style scoped>\n",
       "    .dataframe tbody tr th:only-of-type {\n",
       "        vertical-align: middle;\n",
       "    }\n",
       "\n",
       "    .dataframe tbody tr th {\n",
       "        vertical-align: top;\n",
       "    }\n",
       "\n",
       "    .dataframe thead th {\n",
       "        text-align: right;\n",
       "    }\n",
       "</style>\n",
       "<table border=\"1\" class=\"dataframe\">\n",
       "  <thead>\n",
       "    <tr style=\"text-align: right;\">\n",
       "      <th></th>\n",
       "      <th>population</th>\n",
       "      <th>area</th>\n",
       "    </tr>\n",
       "  </thead>\n",
       "  <tbody>\n",
       "    <tr>\n",
       "      <th>California</th>\n",
       "      <td>38332521</td>\n",
       "      <td>423967</td>\n",
       "    </tr>\n",
       "    <tr>\n",
       "      <th>Texas</th>\n",
       "      <td>26448193</td>\n",
       "      <td>695662</td>\n",
       "    </tr>\n",
       "    <tr>\n",
       "      <th>New York</th>\n",
       "      <td>19651127</td>\n",
       "      <td>141297</td>\n",
       "    </tr>\n",
       "    <tr>\n",
       "      <th>Florida</th>\n",
       "      <td>19552860</td>\n",
       "      <td>170312</td>\n",
       "    </tr>\n",
       "    <tr>\n",
       "      <th>Illinois</th>\n",
       "      <td>12882135</td>\n",
       "      <td>149995</td>\n",
       "    </tr>\n",
       "  </tbody>\n",
       "</table>\n",
       "</div>"
      ],
      "text/plain": [
       "            population    area\n",
       "California    38332521  423967\n",
       "Texas         26448193  695662\n",
       "New York      19651127  141297\n",
       "Florida       19552860  170312\n",
       "Illinois      12882135  149995"
      ]
     },
     "execution_count": 284,
     "metadata": {},
     "output_type": "execute_result"
    }
   ],
   "source": [
    "states"
   ]
  },
  {
   "cell_type": "code",
   "execution_count": 285,
   "id": "87564f79-5f00-4d17-a3da-cbf868f4c0ea",
   "metadata": {},
   "outputs": [
    {
     "data": {
      "text/plain": [
       "Index(['California', 'Texas', 'New York', 'Florida', 'Illinois'], dtype='object')"
      ]
     },
     "execution_count": 285,
     "metadata": {},
     "output_type": "execute_result"
    }
   ],
   "source": [
    "# Объединенный объект Index\n",
    "states.index"
   ]
  },
  {
   "cell_type": "code",
   "execution_count": 286,
   "id": "bdf00f45-77d9-4650-a299-1edec2533cf0",
   "metadata": {},
   "outputs": [
    {
     "data": {
      "text/plain": [
       "Index(['population', 'area'], dtype='object')"
      ]
     },
     "execution_count": 286,
     "metadata": {},
     "output_type": "execute_result"
    }
   ],
   "source": [
    "# Столбцы ДатаФрейма\n",
    "states.columns"
   ]
  },
  {
   "cell_type": "code",
   "execution_count": 287,
   "id": "c086741e-bc52-464e-a000-8c2a7112fe63",
   "metadata": {},
   "outputs": [
    {
     "data": {
      "text/plain": [
       "array([[38332521,   423967],\n",
       "       [26448193,   695662],\n",
       "       [19651127,   141297],\n",
       "       [19552860,   170312],\n",
       "       [12882135,   149995]], dtype=int64)"
      ]
     },
     "execution_count": 287,
     "metadata": {},
     "output_type": "execute_result"
    }
   ],
   "source": [
    "# Значения ДатаФрейма(его элементы) - массив NumPy\n",
    "states.values"
   ]
  },
  {
   "cell_type": "markdown",
   "id": "af60b87f-4e01-4caf-b301-095f6e253af8",
   "metadata": {},
   "source": [
    "**Создание из двумерного массива NumPy**"
   ]
  },
  {
   "cell_type": "code",
   "execution_count": 288,
   "id": "a474a939-ffda-4b0b-b745-501bf2c06fd7",
   "metadata": {},
   "outputs": [],
   "source": [
    "arr = np.random.rand(3,2)\n",
    "columns = ['foo', 'bar']\n",
    "index = ['a', 'b', 'c']"
   ]
  },
  {
   "cell_type": "code",
   "execution_count": 289,
   "id": "5f861bad-d6dc-4efa-82d5-951a54c50310",
   "metadata": {},
   "outputs": [
    {
     "data": {
      "text/html": [
       "<div>\n",
       "<style scoped>\n",
       "    .dataframe tbody tr th:only-of-type {\n",
       "        vertical-align: middle;\n",
       "    }\n",
       "\n",
       "    .dataframe tbody tr th {\n",
       "        vertical-align: top;\n",
       "    }\n",
       "\n",
       "    .dataframe thead th {\n",
       "        text-align: right;\n",
       "    }\n",
       "</style>\n",
       "<table border=\"1\" class=\"dataframe\">\n",
       "  <thead>\n",
       "    <tr style=\"text-align: right;\">\n",
       "      <th></th>\n",
       "      <th>foo</th>\n",
       "      <th>bar</th>\n",
       "    </tr>\n",
       "  </thead>\n",
       "  <tbody>\n",
       "    <tr>\n",
       "      <th>a</th>\n",
       "      <td>0.705267</td>\n",
       "      <td>0.598553</td>\n",
       "    </tr>\n",
       "    <tr>\n",
       "      <th>b</th>\n",
       "      <td>0.266797</td>\n",
       "      <td>0.219554</td>\n",
       "    </tr>\n",
       "    <tr>\n",
       "      <th>c</th>\n",
       "      <td>0.094338</td>\n",
       "      <td>0.905571</td>\n",
       "    </tr>\n",
       "  </tbody>\n",
       "</table>\n",
       "</div>"
      ],
      "text/plain": [
       "        foo       bar\n",
       "a  0.705267  0.598553\n",
       "b  0.266797  0.219554\n",
       "c  0.094338  0.905571"
      ]
     },
     "execution_count": 289,
     "metadata": {},
     "output_type": "execute_result"
    }
   ],
   "source": [
    "pd.DataFrame(arr, columns=columns, index=index)"
   ]
  },
  {
   "cell_type": "markdown",
   "id": "de6d4d5d-87b3-4f68-8099-71c523262d8f",
   "metadata": {},
   "source": [
    "**Создание из объектов pd.Series**"
   ]
  },
  {
   "cell_type": "code",
   "execution_count": 290,
   "id": "4d4404f4-5ec5-4ba0-b164-13cab9ac7824",
   "metadata": {},
   "outputs": [
    {
     "name": "stdout",
     "output_type": "stream",
     "text": [
      "              area       pop\n",
      "California  423967  38332521\n",
      "Texas       695662  26448193\n",
      "New York    141297  19651127\n",
      "Florida     170312  19552860\n",
      "Illinois    149995  12882135\n"
     ]
    }
   ],
   "source": [
    "area = pd.Series({'California': 423967, 'Texas': 695662, 'New York': 141297, 'Florida': 170312, 'Illinois': 149995})\n",
    "pop = pd.Series({'California': 38332521, 'Texas': 26448193, 'New York': 19651127, 'Florida': 19552860, 'Illinois': 12882135})\n",
    "data = pd.DataFrame({'area':area, 'pop':pop})\n",
    "\n",
    "print(data)"
   ]
  },
  {
   "cell_type": "code",
   "execution_count": 291,
   "id": "9be33251-cb82-461a-b85c-381b543b0f74",
   "metadata": {},
   "outputs": [
    {
     "data": {
      "text/plain": [
       "California    38332521\n",
       "Texas         26448193\n",
       "New York      19651127\n",
       "Florida       19552860\n",
       "Illinois      12882135\n",
       "Name: pop, dtype: int64"
      ]
     },
     "execution_count": 291,
     "metadata": {},
     "output_type": "execute_result"
    }
   ],
   "source": [
    "# Обращение к столбцу pop(отдельному объекту pd.Series) как к ключу словаря\n",
    "data['pop']"
   ]
  },
  {
   "cell_type": "code",
   "execution_count": 292,
   "id": "c55e0ae2-e0e2-489d-ab93-c0eaccfe96a9",
   "metadata": {},
   "outputs": [
    {
     "data": {
      "text/plain": [
       "California    423967\n",
       "Texas         695662\n",
       "New York      141297\n",
       "Florida       170312\n",
       "Illinois      149995\n",
       "Name: area, dtype: int64"
      ]
     },
     "execution_count": 292,
     "metadata": {},
     "output_type": "execute_result"
    }
   ],
   "source": [
    "# Обращение к столбцу area(отдельному объекту pd.Series) как к атрибуту, используя строковое имя столбца\n",
    "data.area"
   ]
  },
  {
   "cell_type": "code",
   "execution_count": 293,
   "id": "f31e93c1-8396-4b10-8254-3a34708468ff",
   "metadata": {},
   "outputs": [
    {
     "data": {
      "text/plain": [
       "True"
      ]
     },
     "execution_count": 293,
     "metadata": {},
     "output_type": "execute_result"
    }
   ],
   "source": [
    "data.area is data['area']"
   ]
  },
  {
   "cell_type": "code",
   "execution_count": 294,
   "id": "62d7a1e6-8042-42b2-9e58-1765f5847590",
   "metadata": {},
   "outputs": [],
   "source": [
    "# Присвоение значение новосозданному столбцу(т.е. объекту Series)\n",
    "data['density'] = data['pop'] / data['area']"
   ]
  },
  {
   "cell_type": "code",
   "execution_count": 295,
   "id": "f2f8a59f-06d5-4996-8f65-7ac6f7c3e692",
   "metadata": {},
   "outputs": [
    {
     "data": {
      "text/html": [
       "<div>\n",
       "<style scoped>\n",
       "    .dataframe tbody tr th:only-of-type {\n",
       "        vertical-align: middle;\n",
       "    }\n",
       "\n",
       "    .dataframe tbody tr th {\n",
       "        vertical-align: top;\n",
       "    }\n",
       "\n",
       "    .dataframe thead th {\n",
       "        text-align: right;\n",
       "    }\n",
       "</style>\n",
       "<table border=\"1\" class=\"dataframe\">\n",
       "  <thead>\n",
       "    <tr style=\"text-align: right;\">\n",
       "      <th></th>\n",
       "      <th>area</th>\n",
       "      <th>pop</th>\n",
       "      <th>density</th>\n",
       "    </tr>\n",
       "  </thead>\n",
       "  <tbody>\n",
       "    <tr>\n",
       "      <th>California</th>\n",
       "      <td>423967</td>\n",
       "      <td>38332521</td>\n",
       "      <td>90.413926</td>\n",
       "    </tr>\n",
       "    <tr>\n",
       "      <th>Texas</th>\n",
       "      <td>695662</td>\n",
       "      <td>26448193</td>\n",
       "      <td>38.018740</td>\n",
       "    </tr>\n",
       "    <tr>\n",
       "      <th>New York</th>\n",
       "      <td>141297</td>\n",
       "      <td>19651127</td>\n",
       "      <td>139.076746</td>\n",
       "    </tr>\n",
       "    <tr>\n",
       "      <th>Florida</th>\n",
       "      <td>170312</td>\n",
       "      <td>19552860</td>\n",
       "      <td>114.806121</td>\n",
       "    </tr>\n",
       "    <tr>\n",
       "      <th>Illinois</th>\n",
       "      <td>149995</td>\n",
       "      <td>12882135</td>\n",
       "      <td>85.883763</td>\n",
       "    </tr>\n",
       "  </tbody>\n",
       "</table>\n",
       "</div>"
      ],
      "text/plain": [
       "              area       pop     density\n",
       "California  423967  38332521   90.413926\n",
       "Texas       695662  26448193   38.018740\n",
       "New York    141297  19651127  139.076746\n",
       "Florida     170312  19552860  114.806121\n",
       "Illinois    149995  12882135   85.883763"
      ]
     },
     "execution_count": 295,
     "metadata": {},
     "output_type": "execute_result"
    }
   ],
   "source": [
    "data"
   ]
  },
  {
   "cell_type": "markdown",
   "id": "68fef669-9cec-474d-821e-f35f398feabb",
   "metadata": {},
   "source": [
    "**data.T** - Возвращает транспанированное представление ДатаФрейма, не меняя его"
   ]
  },
  {
   "cell_type": "code",
   "execution_count": 296,
   "id": "3acbe7ce-2009-4c9c-aab9-63cd6abf93de",
   "metadata": {},
   "outputs": [
    {
     "data": {
      "text/html": [
       "<div>\n",
       "<style scoped>\n",
       "    .dataframe tbody tr th:only-of-type {\n",
       "        vertical-align: middle;\n",
       "    }\n",
       "\n",
       "    .dataframe tbody tr th {\n",
       "        vertical-align: top;\n",
       "    }\n",
       "\n",
       "    .dataframe thead th {\n",
       "        text-align: right;\n",
       "    }\n",
       "</style>\n",
       "<table border=\"1\" class=\"dataframe\">\n",
       "  <thead>\n",
       "    <tr style=\"text-align: right;\">\n",
       "      <th></th>\n",
       "      <th>California</th>\n",
       "      <th>Texas</th>\n",
       "      <th>New York</th>\n",
       "      <th>Florida</th>\n",
       "      <th>Illinois</th>\n",
       "    </tr>\n",
       "  </thead>\n",
       "  <tbody>\n",
       "    <tr>\n",
       "      <th>area</th>\n",
       "      <td>4.239670e+05</td>\n",
       "      <td>6.956620e+05</td>\n",
       "      <td>1.412970e+05</td>\n",
       "      <td>1.703120e+05</td>\n",
       "      <td>1.499950e+05</td>\n",
       "    </tr>\n",
       "    <tr>\n",
       "      <th>pop</th>\n",
       "      <td>3.833252e+07</td>\n",
       "      <td>2.644819e+07</td>\n",
       "      <td>1.965113e+07</td>\n",
       "      <td>1.955286e+07</td>\n",
       "      <td>1.288214e+07</td>\n",
       "    </tr>\n",
       "    <tr>\n",
       "      <th>density</th>\n",
       "      <td>9.041393e+01</td>\n",
       "      <td>3.801874e+01</td>\n",
       "      <td>1.390767e+02</td>\n",
       "      <td>1.148061e+02</td>\n",
       "      <td>8.588376e+01</td>\n",
       "    </tr>\n",
       "  </tbody>\n",
       "</table>\n",
       "</div>"
      ],
      "text/plain": [
       "           California         Texas      New York       Florida      Illinois\n",
       "area     4.239670e+05  6.956620e+05  1.412970e+05  1.703120e+05  1.499950e+05\n",
       "pop      3.833252e+07  2.644819e+07  1.965113e+07  1.955286e+07  1.288214e+07\n",
       "density  9.041393e+01  3.801874e+01  1.390767e+02  1.148061e+02  8.588376e+01"
      ]
     },
     "execution_count": 296,
     "metadata": {},
     "output_type": "execute_result"
    }
   ],
   "source": [
    "# Транспанирование.\n",
    "data.T"
   ]
  },
  {
   "cell_type": "code",
   "execution_count": 297,
   "id": "75c0157e-cf83-483b-9969-e156dfaf379b",
   "metadata": {},
   "outputs": [
    {
     "data": {
      "text/html": [
       "<div>\n",
       "<style scoped>\n",
       "    .dataframe tbody tr th:only-of-type {\n",
       "        vertical-align: middle;\n",
       "    }\n",
       "\n",
       "    .dataframe tbody tr th {\n",
       "        vertical-align: top;\n",
       "    }\n",
       "\n",
       "    .dataframe thead th {\n",
       "        text-align: right;\n",
       "    }\n",
       "</style>\n",
       "<table border=\"1\" class=\"dataframe\">\n",
       "  <thead>\n",
       "    <tr style=\"text-align: right;\">\n",
       "      <th></th>\n",
       "      <th>area</th>\n",
       "      <th>pop</th>\n",
       "      <th>density</th>\n",
       "    </tr>\n",
       "  </thead>\n",
       "  <tbody>\n",
       "    <tr>\n",
       "      <th>California</th>\n",
       "      <td>423967</td>\n",
       "      <td>38332521</td>\n",
       "      <td>90.413926</td>\n",
       "    </tr>\n",
       "    <tr>\n",
       "      <th>Texas</th>\n",
       "      <td>695662</td>\n",
       "      <td>26448193</td>\n",
       "      <td>38.018740</td>\n",
       "    </tr>\n",
       "    <tr>\n",
       "      <th>New York</th>\n",
       "      <td>141297</td>\n",
       "      <td>19651127</td>\n",
       "      <td>139.076746</td>\n",
       "    </tr>\n",
       "    <tr>\n",
       "      <th>Florida</th>\n",
       "      <td>170312</td>\n",
       "      <td>19552860</td>\n",
       "      <td>114.806121</td>\n",
       "    </tr>\n",
       "    <tr>\n",
       "      <th>Illinois</th>\n",
       "      <td>149995</td>\n",
       "      <td>12882135</td>\n",
       "      <td>85.883763</td>\n",
       "    </tr>\n",
       "  </tbody>\n",
       "</table>\n",
       "</div>"
      ],
      "text/plain": [
       "              area       pop     density\n",
       "California  423967  38332521   90.413926\n",
       "Texas       695662  26448193   38.018740\n",
       "New York    141297  19651127  139.076746\n",
       "Florida     170312  19552860  114.806121\n",
       "Illinois    149995  12882135   85.883763"
      ]
     },
     "execution_count": 297,
     "metadata": {},
     "output_type": "execute_result"
    }
   ],
   "source": [
    "data"
   ]
  },
  {
   "cell_type": "code",
   "execution_count": 298,
   "id": "25f8ecac-d78e-4a9f-9a04-03ea9f773ff0",
   "metadata": {},
   "outputs": [
    {
     "data": {
      "text/plain": [
       "array([4.23967000e+05, 3.83325210e+07, 9.04139261e+01])"
      ]
     },
     "execution_count": 298,
     "metadata": {},
     "output_type": "execute_result"
    }
   ],
   "source": [
    "# 1 строка массива(соответствующая Калифорнии)\n",
    "data.values[0]"
   ]
  },
  {
   "cell_type": "markdown",
   "id": "70765d00-8555-4019-b525-5a1e18b1eb82",
   "metadata": {},
   "source": [
    "Индексация обращение, через ключи(индексы) подразумевает обращение к **столбцам**. \\\n",
    "Срезы и маскированеи же подразумевают обращение к **строкам** \\\n",
    "Обращение к строкам ДатаФрейма через стандартные способы невозможно, для этого используются атрибуты-индексаторы"
   ]
  },
  {
   "cell_type": "markdown",
   "id": "0e29ffc8-510d-42b1-9245-a7ee7539435e",
   "metadata": {},
   "source": [
    "**iloc** - Неявная индексация"
   ]
  },
  {
   "cell_type": "code",
   "execution_count": 299,
   "id": "9617a8be-45cc-45ac-a876-cb4f31ba7926",
   "metadata": {},
   "outputs": [
    {
     "data": {
      "text/plain": [
       "area       4.239670e+05\n",
       "pop        3.833252e+07\n",
       "density    9.041393e+01\n",
       "Name: California, dtype: float64"
      ]
     },
     "execution_count": 299,
     "metadata": {},
     "output_type": "execute_result"
    }
   ],
   "source": [
    "# 1 строка ДатаФрейма, соответствующая калифорнии\n",
    "data.iloc[0]"
   ]
  },
  {
   "cell_type": "markdown",
   "id": "c2b7b8b6-bc6c-4ef9-b46b-b1150710672a",
   "metadata": {},
   "source": [
    "**loc** - Явная индексация"
   ]
  },
  {
   "cell_type": "code",
   "execution_count": 312,
   "id": "a9a2203c-588c-45b7-99c5-bd66fd425193",
   "metadata": {},
   "outputs": [
    {
     "data": {
      "text/plain": [
       "area       4.239670e+05\n",
       "pop        3.833252e+07\n",
       "density    9.041393e+01\n",
       "Name: California, dtype: float64"
      ]
     },
     "execution_count": 312,
     "metadata": {},
     "output_type": "execute_result"
    }
   ],
   "source": [
    "data.loc['California']"
   ]
  },
  {
   "cell_type": "code",
   "execution_count": 313,
   "id": "4a47bf5b-6354-4862-ad09-c1b9b57c4c46",
   "metadata": {},
   "outputs": [
    {
     "data": {
      "text/plain": [
       "California    423967\n",
       "Texas         695662\n",
       "New York      141297\n",
       "Florida       170312\n",
       "Illinois      149995\n",
       "Name: area, dtype: int64"
      ]
     },
     "execution_count": 313,
     "metadata": {},
     "output_type": "execute_result"
    }
   ],
   "source": [
    "# Индексация применяется к столбцам\n",
    "data['area']"
   ]
  },
  {
   "cell_type": "code",
   "execution_count": 314,
   "id": "bae67732-6254-4806-8d30-d8f3b929aaaf",
   "metadata": {},
   "outputs": [
    {
     "data": {
      "text/html": [
       "<div>\n",
       "<style scoped>\n",
       "    .dataframe tbody tr th:only-of-type {\n",
       "        vertical-align: middle;\n",
       "    }\n",
       "\n",
       "    .dataframe tbody tr th {\n",
       "        vertical-align: top;\n",
       "    }\n",
       "\n",
       "    .dataframe thead th {\n",
       "        text-align: right;\n",
       "    }\n",
       "</style>\n",
       "<table border=\"1\" class=\"dataframe\">\n",
       "  <thead>\n",
       "    <tr style=\"text-align: right;\">\n",
       "      <th></th>\n",
       "      <th>area</th>\n",
       "      <th>pop</th>\n",
       "      <th>density</th>\n",
       "    </tr>\n",
       "  </thead>\n",
       "  <tbody>\n",
       "    <tr>\n",
       "      <th>New York</th>\n",
       "      <td>141297</td>\n",
       "      <td>19651127</td>\n",
       "      <td>139.076746</td>\n",
       "    </tr>\n",
       "    <tr>\n",
       "      <th>Florida</th>\n",
       "      <td>170312</td>\n",
       "      <td>19552860</td>\n",
       "      <td>114.806121</td>\n",
       "    </tr>\n",
       "  </tbody>\n",
       "</table>\n",
       "</div>"
      ],
      "text/plain": [
       "            area       pop     density\n",
       "New York  141297  19651127  139.076746\n",
       "Florida   170312  19552860  114.806121"
      ]
     },
     "execution_count": 314,
     "metadata": {},
     "output_type": "execute_result"
    }
   ],
   "source": [
    "# Срезы применяются к строкам\n",
    "data['New York':'Florida']"
   ]
  },
  {
   "cell_type": "code",
   "execution_count": 320,
   "id": "5445409f-9670-4349-86ea-c4eb5018bb45",
   "metadata": {},
   "outputs": [
    {
     "data": {
      "text/html": [
       "<div>\n",
       "<style scoped>\n",
       "    .dataframe tbody tr th:only-of-type {\n",
       "        vertical-align: middle;\n",
       "    }\n",
       "\n",
       "    .dataframe tbody tr th {\n",
       "        vertical-align: top;\n",
       "    }\n",
       "\n",
       "    .dataframe thead th {\n",
       "        text-align: right;\n",
       "    }\n",
       "</style>\n",
       "<table border=\"1\" class=\"dataframe\">\n",
       "  <thead>\n",
       "    <tr style=\"text-align: right;\">\n",
       "      <th></th>\n",
       "      <th>area</th>\n",
       "      <th>pop</th>\n",
       "      <th>density</th>\n",
       "    </tr>\n",
       "  </thead>\n",
       "  <tbody>\n",
       "    <tr>\n",
       "      <th>California</th>\n",
       "      <td>423967</td>\n",
       "      <td>38332521</td>\n",
       "      <td>90.413926</td>\n",
       "    </tr>\n",
       "    <tr>\n",
       "      <th>Texas</th>\n",
       "      <td>695662</td>\n",
       "      <td>26448193</td>\n",
       "      <td>38.018740</td>\n",
       "    </tr>\n",
       "  </tbody>\n",
       "</table>\n",
       "</div>"
      ],
      "text/plain": [
       "              area       pop    density\n",
       "California  423967  38332521  90.413926\n",
       "Texas       695662  26448193  38.018740"
      ]
     },
     "execution_count": 320,
     "metadata": {},
     "output_type": "execute_result"
    }
   ],
   "source": [
    "# Срез по неявным индексам(по строкам)\n",
    "data[0:2]"
   ]
  },
  {
   "cell_type": "code",
   "execution_count": 322,
   "id": "8985ba0d-6124-49df-af8a-1ba122cf65a8",
   "metadata": {},
   "outputs": [
    {
     "data": {
      "text/html": [
       "<div>\n",
       "<style scoped>\n",
       "    .dataframe tbody tr th:only-of-type {\n",
       "        vertical-align: middle;\n",
       "    }\n",
       "\n",
       "    .dataframe tbody tr th {\n",
       "        vertical-align: top;\n",
       "    }\n",
       "\n",
       "    .dataframe thead th {\n",
       "        text-align: right;\n",
       "    }\n",
       "</style>\n",
       "<table border=\"1\" class=\"dataframe\">\n",
       "  <thead>\n",
       "    <tr style=\"text-align: right;\">\n",
       "      <th></th>\n",
       "      <th>area</th>\n",
       "      <th>pop</th>\n",
       "      <th>density</th>\n",
       "    </tr>\n",
       "  </thead>\n",
       "  <tbody>\n",
       "    <tr>\n",
       "      <th>New York</th>\n",
       "      <td>141297</td>\n",
       "      <td>19651127</td>\n",
       "      <td>139.076746</td>\n",
       "    </tr>\n",
       "    <tr>\n",
       "      <th>Florida</th>\n",
       "      <td>170312</td>\n",
       "      <td>19552860</td>\n",
       "      <td>114.806121</td>\n",
       "    </tr>\n",
       "  </tbody>\n",
       "</table>\n",
       "</div>"
      ],
      "text/plain": [
       "            area       pop     density\n",
       "New York  141297  19651127  139.076746\n",
       "Florida   170312  19552860  114.806121"
      ]
     },
     "execution_count": 322,
     "metadata": {},
     "output_type": "execute_result"
    }
   ],
   "source": [
    "# Маскирование применяется по строкам\n",
    "data[data['density']>100]"
   ]
  },
  {
   "cell_type": "code",
   "execution_count": null,
   "id": "d33ef72f-e40f-47db-8431-d85b7f9e5355",
   "metadata": {},
   "outputs": [],
   "source": []
  },
  {
   "cell_type": "code",
   "execution_count": null,
   "id": "1e7a9ead-338d-42de-aacc-a839eaef284a",
   "metadata": {},
   "outputs": [],
   "source": []
  }
 ],
 "metadata": {
  "kernelspec": {
   "display_name": "Python 3 (ipykernel)",
   "language": "python",
   "name": "python3"
  },
  "language_info": {
   "codemirror_mode": {
    "name": "ipython",
    "version": 3
   },
   "file_extension": ".py",
   "mimetype": "text/x-python",
   "name": "python",
   "nbconvert_exporter": "python",
   "pygments_lexer": "ipython3",
   "version": "3.12.3"
  }
 },
 "nbformat": 4,
 "nbformat_minor": 5
}
