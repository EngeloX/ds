{
 "cells": [
  {
   "cell_type": "code",
   "execution_count": 2,
   "id": "f2d8237b-377c-4efd-b344-6ccfe53a233e",
   "metadata": {},
   "outputs": [],
   "source": [
    "import numpy as np\n",
    "import sympy as sp\n",
    "import matplotlib.pyplot as plt"
   ]
  },
  {
   "cell_type": "code",
   "execution_count": 3,
   "id": "95a48ca3-2b58-469a-880d-bdca4df3e925",
   "metadata": {},
   "outputs": [],
   "source": [
    "x, y = sp.symbols('x y')"
   ]
  },
  {
   "cell_type": "code",
   "execution_count": 4,
   "id": "aa361676-9c63-46de-bc75-c9d6d1ab1528",
   "metadata": {},
   "outputs": [],
   "source": [
    "y = 1+x**2/2"
   ]
  },
  {
   "cell_type": "code",
   "execution_count": 5,
   "id": "11a7ae53-f1ee-4c84-b75c-dafa5f98e79f",
   "metadata": {},
   "outputs": [
    {
     "data": {
      "text/latex": [
       "$\\displaystyle \\frac{x^{2}}{2} + 1$"
      ],
      "text/plain": [
       "x**2/2 + 1"
      ]
     },
     "execution_count": 5,
     "metadata": {},
     "output_type": "execute_result"
    }
   ],
   "source": [
    "y"
   ]
  },
  {
   "cell_type": "code",
   "execution_count": 61,
   "id": "41e11444-63fb-4128-8a63-602fe41f9a53",
   "metadata": {},
   "outputs": [
    {
     "data": {
      "text/latex": [
       "$\\displaystyle x$"
      ],
      "text/plain": [
       "x"
      ]
     },
     "execution_count": 61,
     "metadata": {},
     "output_type": "execute_result"
    }
   ],
   "source": [
    "sp.diff(y)"
   ]
  },
  {
   "cell_type": "code",
   "execution_count": 62,
   "id": "3a22fb5c-53f5-490d-ae0f-28a2925dfde3",
   "metadata": {},
   "outputs": [
    {
     "data": {
      "text/latex": [
       "$\\displaystyle 3$"
      ],
      "text/plain": [
       "3"
      ]
     },
     "execution_count": 62,
     "metadata": {},
     "output_type": "execute_result"
    }
   ],
   "source": [
    "y.subs({x:2})"
   ]
  },
  {
   "cell_type": "code",
   "execution_count": 63,
   "id": "7cac3eda-9659-4cfe-ab46-9d66752fe5b3",
   "metadata": {},
   "outputs": [],
   "source": [
    "from sympy import symbols, Eq, solve"
   ]
  },
  {
   "cell_type": "code",
   "execution_count": 64,
   "id": "3fc95475-ca05-44e0-b43f-f1d56ee5369a",
   "metadata": {},
   "outputs": [],
   "source": [
    "# уравнение\n",
    "x, y = sp.symbols('x y')\n",
    "equation = Eq(x**2, -4)"
   ]
  },
  {
   "cell_type": "code",
   "execution_count": 65,
   "id": "9480751a-2828-433d-897b-7ac75b948e89",
   "metadata": {},
   "outputs": [
    {
     "data": {
      "text/latex": [
       "$\\displaystyle x^{2} = -4$"
      ],
      "text/plain": [
       "Eq(x**2, -4)"
      ]
     },
     "execution_count": 65,
     "metadata": {},
     "output_type": "execute_result"
    }
   ],
   "source": [
    "equation"
   ]
  },
  {
   "cell_type": "code",
   "execution_count": 66,
   "id": "5930e643-3577-4600-bcb0-c8ee738b8fba",
   "metadata": {},
   "outputs": [],
   "source": [
    "s = solve(equation, x)"
   ]
  },
  {
   "cell_type": "code",
   "execution_count": 67,
   "id": "f6b64c4a-a1f9-4b39-8f70-810b24486487",
   "metadata": {},
   "outputs": [
    {
     "data": {
      "text/plain": [
       "[-2*I, 2*I]"
      ]
     },
     "execution_count": 67,
     "metadata": {},
     "output_type": "execute_result"
    }
   ],
   "source": [
    "s"
   ]
  },
  {
   "cell_type": "code",
   "execution_count": 68,
   "id": "29e52d34-2cda-471e-a3ab-b7d4567f3305",
   "metadata": {},
   "outputs": [],
   "source": [
    "# система уравнений\n",
    "x, y, z = sp.symbols('x y z')\n",
    "system = [Eq(x+y+z, 1),\n",
    "          Eq(x-y-z, 0),\n",
    "          Eq(x**2+y**2+z, 1)]"
   ]
  },
  {
   "cell_type": "code",
   "execution_count": 69,
   "id": "045964fb-fd6d-4b5e-ae35-b44b764c2ea2",
   "metadata": {},
   "outputs": [
    {
     "data": {
      "text/plain": [
       "[(1/2, 1/2 - sqrt(2)/2, sqrt(2)/2), (1/2, 1/2 + sqrt(2)/2, -sqrt(2)/2)]"
      ]
     },
     "execution_count": 69,
     "metadata": {},
     "output_type": "execute_result"
    }
   ],
   "source": [
    "solve(system, (x, y, z))"
   ]
  },
  {
   "cell_type": "code",
   "execution_count": 72,
   "id": "aed11db2-3896-4ec6-8f38-82599ca99c74",
   "metadata": {},
   "outputs": [],
   "source": [
    "# Матрицы\n",
    "from sympy import Matrix"
   ]
  },
  {
   "cell_type": "code",
   "execution_count": 71,
   "id": "49cb995b-e5ae-4ebf-be72-cb6fe80b3a89",
   "metadata": {},
   "outputs": [],
   "source": [
    "a, b, c, d = sp.symbols('a b c d')"
   ]
  },
  {
   "cell_type": "code",
   "execution_count": 73,
   "id": "66eb5e7b-45e2-4727-b952-80f930ff7297",
   "metadata": {},
   "outputs": [],
   "source": [
    "matr = Matrix([[a, b], [c, d]])"
   ]
  },
  {
   "cell_type": "code",
   "execution_count": 74,
   "id": "d04b1a59-bc42-481b-9d1d-fca0e9ab0f40",
   "metadata": {},
   "outputs": [
    {
     "data": {
      "text/latex": [
       "$\\displaystyle \\left[\\begin{matrix}a & b\\\\c & d\\end{matrix}\\right]$"
      ],
      "text/plain": [
       "Matrix([\n",
       "[a, b],\n",
       "[c, d]])"
      ]
     },
     "execution_count": 74,
     "metadata": {},
     "output_type": "execute_result"
    }
   ],
   "source": [
    "matr"
   ]
  },
  {
   "cell_type": "code",
   "execution_count": 75,
   "id": "7d6f0858-dbae-4751-9e75-bafcdb82bdb2",
   "metadata": {},
   "outputs": [],
   "source": [
    "matr_2 = Matrix([[1, 2], [3, 4])"
   ]
  },
  {
   "cell_type": "code",
   "execution_count": 76,
   "id": "bebe9532-aa33-4f44-81db-5f4fbb841899",
   "metadata": {},
   "outputs": [
    {
     "data": {
      "text/latex": [
       "$\\displaystyle \\left[\\begin{matrix}a + 1 & b + 2\\\\c + 3 & d + 4\\end{matrix}\\right]$"
      ],
      "text/plain": [
       "Matrix([\n",
       "[a + 1, b + 2],\n",
       "[c + 3, d + 4]])"
      ]
     },
     "execution_count": 76,
     "metadata": {},
     "output_type": "execute_result"
    }
   ],
   "source": [
    "matr+matr_2"
   ]
  },
  {
   "cell_type": "code",
   "execution_count": 77,
   "id": "8e2f43a4-6f0f-4324-8cd6-65ebf73c15f4",
   "metadata": {},
   "outputs": [],
   "source": [
    "vec = Matrix([1, 2])"
   ]
  },
  {
   "cell_type": "code",
   "execution_count": 83,
   "id": "8f620ee7-3cc8-440d-b03d-dea714dc55d5",
   "metadata": {},
   "outputs": [
    {
     "data": {
      "text/latex": [
       "$\\displaystyle \\left[\\begin{matrix}1\\\\2\\end{matrix}\\right]$"
      ],
      "text/plain": [
       "Matrix([\n",
       "[1],\n",
       "[2]])"
      ]
     },
     "execution_count": 83,
     "metadata": {},
     "output_type": "execute_result"
    }
   ],
   "source": [
    "vec"
   ]
  },
  {
   "cell_type": "code",
   "execution_count": 80,
   "id": "1d9df46d-64cf-49ca-a172-bfbb4b70c34e",
   "metadata": {},
   "outputs": [
    {
     "data": {
      "text/latex": [
       "$\\displaystyle \\left[\\begin{matrix}1 & 2\\\\3 & 4\\end{matrix}\\right]$"
      ],
      "text/plain": [
       "Matrix([\n",
       "[1, 2],\n",
       "[3, 4]])"
      ]
     },
     "execution_count": 80,
     "metadata": {},
     "output_type": "execute_result"
    }
   ],
   "source": [
    "matr_2"
   ]
  },
  {
   "cell_type": "code",
   "execution_count": 82,
   "id": "5287eb63-d376-4861-98ac-b09c3cd50118",
   "metadata": {},
   "outputs": [
    {
     "data": {
      "text/latex": [
       "$\\displaystyle \\left[\\begin{matrix}5\\\\11\\end{matrix}\\right]$"
      ],
      "text/plain": [
       "Matrix([\n",
       "[ 5],\n",
       "[11]])"
      ]
     },
     "execution_count": 82,
     "metadata": {},
     "output_type": "execute_result"
    }
   ],
   "source": [
    "matr_2 * vec"
   ]
  },
  {
   "cell_type": "code",
   "execution_count": 85,
   "id": "e34d062e-5756-4ff7-a078-732fd7573f1c",
   "metadata": {},
   "outputs": [
    {
     "data": {
      "text/latex": [
       "$\\displaystyle \\left[\\begin{matrix}a + 3 b & 2 a + 4 b\\\\c + 3 d & 2 c + 4 d\\end{matrix}\\right]$"
      ],
      "text/plain": [
       "Matrix([\n",
       "[a + 3*b, 2*a + 4*b],\n",
       "[c + 3*d, 2*c + 4*d]])"
      ]
     },
     "execution_count": 85,
     "metadata": {},
     "output_type": "execute_result"
    }
   ],
   "source": [
    "matr*matr_2"
   ]
  },
  {
   "cell_type": "code",
   "execution_count": 86,
   "id": "c87d6da1-e7d0-4c09-8672-52921d8bdb05",
   "metadata": {},
   "outputs": [],
   "source": [
    "# lambdify"
   ]
  },
  {
   "cell_type": "code",
   "execution_count": 88,
   "id": "fa4b619e-0a43-44a9-a093-f77ff5ec6cff",
   "metadata": {},
   "outputs": [],
   "source": [
    "x, y = sp.symbols('x y')"
   ]
  },
  {
   "cell_type": "code",
   "execution_count": 89,
   "id": "725b349f-e5ed-47d1-85c1-3122f8f38299",
   "metadata": {},
   "outputs": [],
   "source": [
    "y = x**2"
   ]
  },
  {
   "cell_type": "code",
   "execution_count": 90,
   "id": "6aed1a90-513d-4b36-b989-202e600a0bb5",
   "metadata": {},
   "outputs": [
    {
     "data": {
      "text/latex": [
       "$\\displaystyle x^{2}$"
      ],
      "text/plain": [
       "x**2"
      ]
     },
     "execution_count": 90,
     "metadata": {},
     "output_type": "execute_result"
    }
   ],
   "source": [
    "y"
   ]
  },
  {
   "cell_type": "code",
   "execution_count": 92,
   "id": "a1072794-04d6-4da5-a450-0d8bf4d077cb",
   "metadata": {},
   "outputs": [],
   "source": [
    "f = sp.lambdify(x, y, 'numpy')"
   ]
  },
  {
   "cell_type": "code",
   "execution_count": 93,
   "id": "bf9f3b33-3667-492b-a5d4-ac5124fa1f23",
   "metadata": {},
   "outputs": [
    {
     "data": {
      "text/plain": [
       "<function _lambdifygenerated(x)>"
      ]
     },
     "execution_count": 93,
     "metadata": {},
     "output_type": "execute_result"
    }
   ],
   "source": [
    "f"
   ]
  },
  {
   "cell_type": "code",
   "execution_count": 95,
   "id": "1ef6c333-b29d-4a8a-8c36-abc23499fce5",
   "metadata": {},
   "outputs": [
    {
     "data": {
      "text/plain": [
       "4"
      ]
     },
     "execution_count": 95,
     "metadata": {},
     "output_type": "execute_result"
    }
   ],
   "source": [
    "f(2)"
   ]
  },
  {
   "cell_type": "code",
   "execution_count": 96,
   "id": "8a8cc727-dac1-4a07-8ec0-a13459662e2b",
   "metadata": {},
   "outputs": [
    {
     "data": {
      "text/plain": [
       "9"
      ]
     },
     "execution_count": 96,
     "metadata": {},
     "output_type": "execute_result"
    }
   ],
   "source": [
    "f(3)"
   ]
  },
  {
   "cell_type": "code",
   "execution_count": 97,
   "id": "17d4584d-2004-46d3-b339-dff3af7f2ec5",
   "metadata": {},
   "outputs": [],
   "source": [
    "X = np.array([1, 2, 3])"
   ]
  },
  {
   "cell_type": "code",
   "execution_count": 98,
   "id": "af91975a-1716-4881-a7e6-7b614fa6ecbf",
   "metadata": {},
   "outputs": [
    {
     "data": {
      "text/plain": [
       "array([1, 2, 3])"
      ]
     },
     "execution_count": 98,
     "metadata": {},
     "output_type": "execute_result"
    }
   ],
   "source": [
    "X"
   ]
  },
  {
   "cell_type": "code",
   "execution_count": 101,
   "id": "5b1cc055-9202-4d64-87a2-176aadfb4ade",
   "metadata": {},
   "outputs": [
    {
     "data": {
      "text/plain": [
       "array([1, 4, 9])"
      ]
     },
     "execution_count": 101,
     "metadata": {},
     "output_type": "execute_result"
    }
   ],
   "source": [
    "f(X)"
   ]
  },
  {
   "cell_type": "code",
   "execution_count": 140,
   "id": "23b587a0-f658-4b02-b7ed-0efdc8b022ac",
   "metadata": {},
   "outputs": [],
   "source": [
    "# -\n",
    "y, y_pred, n = sp.symbols('y y_pred n')"
   ]
  },
  {
   "cell_type": "code",
   "execution_count": 143,
   "id": "09cb2859-4c42-4f3f-9b08-047a850b1c73",
   "metadata": {},
   "outputs": [],
   "source": [
    "mse = (y-y_pred)**2/n"
   ]
  },
  {
   "cell_type": "code",
   "execution_count": 144,
   "id": "e31b99c6-8c70-4691-8001-925230901c65",
   "metadata": {},
   "outputs": [
    {
     "data": {
      "text/latex": [
       "$\\displaystyle \\frac{\\left(y - y_{pred}\\right)^{2}}{n}$"
      ],
      "text/plain": [
       "(y - y_pred)**2/n"
      ]
     },
     "execution_count": 144,
     "metadata": {},
     "output_type": "execute_result"
    }
   ],
   "source": [
    "mse"
   ]
  },
  {
   "cell_type": "code",
   "execution_count": 147,
   "id": "9e9433e7-f652-4d1e-8155-272830845e9a",
   "metadata": {},
   "outputs": [],
   "source": [
    "dmse = sp.lambdify([y, y_pred], mse, 'numpy')"
   ]
  },
  {
   "cell_type": "code",
   "execution_count": 151,
   "id": "bc4766b9-680f-4610-a69f-264e18970174",
   "metadata": {},
   "outputs": [
    {
     "data": {
      "text/latex": [
       "$\\displaystyle \\frac{9}{n}$"
      ],
      "text/plain": [
       "9/n"
      ]
     },
     "execution_count": 151,
     "metadata": {},
     "output_type": "execute_result"
    }
   ],
   "source": [
    "dmse(5, 2)"
   ]
  },
  {
   "cell_type": "code",
   "execution_count": 158,
   "id": "0bfcade5-9ed2-45e0-adaf-f3348d3eb42e",
   "metadata": {},
   "outputs": [],
   "source": [
    "np_expr = 'np.sin(x)+np.cos(x)'\n",
    "sp_expr = sp.sympify(np_expr, locals={'np':sp})"
   ]
  },
  {
   "cell_type": "code",
   "execution_count": 159,
   "id": "269f4981-9808-4b98-8181-76af8d7935d9",
   "metadata": {},
   "outputs": [
    {
     "data": {
      "text/latex": [
       "$\\displaystyle \\sin{\\left(x \\right)} + \\cos{\\left(x \\right)}$"
      ],
      "text/plain": [
       "sin(x) + cos(x)"
      ]
     },
     "execution_count": 159,
     "metadata": {},
     "output_type": "execute_result"
    }
   ],
   "source": [
    "sp_expr"
   ]
  },
  {
   "cell_type": "code",
   "execution_count": 194,
   "id": "47adbbc6-0724-4f94-ad91-bf2c7a5b9361",
   "metadata": {},
   "outputs": [],
   "source": [
    "from autograd import grad\n",
    "import autograd.numpy as anp"
   ]
  },
  {
   "cell_type": "code",
   "execution_count": 219,
   "id": "9d8aad97-1844-4a0b-a29f-012f731c441f",
   "metadata": {},
   "outputs": [
    {
     "data": {
      "text/plain": [
       "array([1.33333333, 2.        , 2.66666667])"
      ]
     },
     "execution_count": 219,
     "metadata": {},
     "output_type": "execute_result"
    }
   ],
   "source": [
    "y = np.array([2, 3, 4])\n",
    "y_pred = np.array([4, 6, 8])\n",
    "def loss(y, y_pred):\n",
    "    return anp.mean((y - y_pred)**2)\n",
    "    \n",
    "grad_loss = grad(loss, 1)\n",
    "gradient = grad_loss(y, y_pred)\n",
    "gradient"
   ]
  },
  {
   "cell_type": "code",
   "execution_count": 220,
   "id": "fbc58d1a-7239-47f6-88d0-5be4a1a6f19b",
   "metadata": {},
   "outputs": [],
   "source": [
    "def gr_mserror(y, y_pred):\n",
    "    return np.array([2/len(X)*np.sum((y - y_pred)) * (-1)])"
   ]
  },
  {
   "cell_type": "code",
   "execution_count": 221,
   "id": "1e8de741-bdb1-4af0-94d7-e798e907daa3",
   "metadata": {},
   "outputs": [
    {
     "data": {
      "text/plain": [
       "array([2.66666667])"
      ]
     },
     "execution_count": 221,
     "metadata": {},
     "output_type": "execute_result"
    }
   ],
   "source": [
    "gr_mserror(y[2], y_pred[2])"
   ]
  },
  {
   "cell_type": "code",
   "execution_count": null,
   "id": "1d405b92-e76b-431a-8a8c-5236de96f5d6",
   "metadata": {},
   "outputs": [],
   "source": []
  },
  {
   "cell_type": "code",
   "execution_count": null,
   "id": "6eb7e748-4323-43c0-ba38-5e0974c0b805",
   "metadata": {},
   "outputs": [],
   "source": []
  },
  {
   "cell_type": "code",
   "execution_count": null,
   "id": "066690ef-ef03-47db-b845-d0d0fb9cd8eb",
   "metadata": {},
   "outputs": [],
   "source": []
  },
  {
   "cell_type": "code",
   "execution_count": 2,
   "id": "93be0810-dfc0-4b8e-9452-f672c2e69ab3",
   "metadata": {},
   "outputs": [],
   "source": [
    "x, y = sp.symbols('x y')"
   ]
  },
  {
   "cell_type": "code",
   "execution_count": 4,
   "id": "e2b12687-0995-463f-b732-1f886efb2939",
   "metadata": {},
   "outputs": [],
   "source": [
    "y = sp.cos(x)"
   ]
  },
  {
   "cell_type": "code",
   "execution_count": 5,
   "id": "4dfa0693-d204-4de6-96ed-a227b2857975",
   "metadata": {},
   "outputs": [
    {
     "data": {
      "text/latex": [
       "$\\displaystyle - \\sin{\\left(x \\right)}$"
      ],
      "text/plain": [
       "-sin(x)"
      ]
     },
     "execution_count": 5,
     "metadata": {},
     "output_type": "execute_result"
    }
   ],
   "source": [
    "sp.diff(y)"
   ]
  },
  {
   "cell_type": "code",
   "execution_count": 6,
   "id": "9f8ca580-b1a2-490b-bd0a-f831cce7ce4f",
   "metadata": {},
   "outputs": [],
   "source": [
    "y = x**2"
   ]
  },
  {
   "cell_type": "code",
   "execution_count": 7,
   "id": "41bdc3f5-d5e1-4c98-ac04-f81c385e89e0",
   "metadata": {},
   "outputs": [
    {
     "data": {
      "text/latex": [
       "$\\displaystyle x^{2}$"
      ],
      "text/plain": [
       "x**2"
      ]
     },
     "execution_count": 7,
     "metadata": {},
     "output_type": "execute_result"
    }
   ],
   "source": [
    "x**2"
   ]
  },
  {
   "cell_type": "code",
   "execution_count": 9,
   "id": "dd7ecac6-5b3d-424b-bfeb-9624589a3855",
   "metadata": {},
   "outputs": [
    {
     "data": {
      "text/latex": [
       "$\\displaystyle 2 x$"
      ],
      "text/plain": [
       "2*x"
      ]
     },
     "execution_count": 9,
     "metadata": {},
     "output_type": "execute_result"
    }
   ],
   "source": [
    "sp.diff(x**2)"
   ]
  },
  {
   "cell_type": "markdown",
   "id": "5442f4b8-b4cd-4bd0-9a32-2224fc1c247a",
   "metadata": {},
   "source": [
    "$x^2$"
   ]
  },
  {
   "cell_type": "markdown",
   "id": "9377911a-4c3b-410f-8f9f-eb96969b54a3",
   "metadata": {},
   "source": [
    "$\\frac{2}{n} \\sum_{i=1}^{n} (y_i - \\hat{y}_i) \\cdot (-1)$"
   ]
  },
  {
   "cell_type": "code",
   "execution_count": null,
   "id": "0f7ef518-5072-42ab-a55e-b28cd68a2398",
   "metadata": {},
   "outputs": [],
   "source": []
  }
 ],
 "metadata": {
  "kernelspec": {
   "display_name": "Python 3 (ipykernel)",
   "language": "python",
   "name": "python3"
  },
  "language_info": {
   "codemirror_mode": {
    "name": "ipython",
    "version": 3
   },
   "file_extension": ".py",
   "mimetype": "text/x-python",
   "name": "python",
   "nbconvert_exporter": "python",
   "pygments_lexer": "ipython3",
   "version": "3.12.3"
  }
 },
 "nbformat": 4,
 "nbformat_minor": 5
}
