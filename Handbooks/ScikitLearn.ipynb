{
 "cells": [
  {
   "cell_type": "markdown",
   "id": "712f8f5b-daac-491c-a062-09c9aed36d05",
   "metadata": {},
   "source": [
    "```Python\n",
    "from sklearn.linear_model import LinearRegression\n",
    "from sklearn.linear_model import LogisticRegression\n",
    "from sklearn.linear_model import SGDRegressor\n",
    "from sklearn.linear_model import SGDClassifier\n",
    "from sklearn.neighbors import KNeighborsClassifier\n",
    "from sklearn.tree import DecisionTreeRegressor\n",
    "from sklearn.ensemble import RandomForestRegressor\n",
    "\n",
    "\n",
    "from sklearn.preprocessing import OneHotEncoder\n",
    "from sklearn.preprocessing import OrdinalEncoder\n",
    "from sklearn.preprocessing import LabelEncoder\n",
    "from sklearn.preprocessing import FunctionTransformer\n",
    "from sklearn.preprocessing import MinMaxScaler\n",
    "from sklearn.preprocessing import StandardScaler\n",
    "\n",
    "\n",
    "from sklearn.datasets import make_regression\n",
    "from sklearn.datasets import make_classification\n",
    "\n",
    "\n",
    "from sklearn.model_selection import train_test_split\n",
    "from sklearn.model_selection import StratifiedShuffleSplit\n",
    "from sklearn.model_selection import cross_val_score\n",
    "from sklearn.model_selection import GridSearchCV\n",
    "from sklearn.model_selection import RandomizedSearchCV\n",
    "\n",
    "\n",
    "from sklearn.impute import SimpleImputer\n",
    "\n",
    "\n",
    "from sklearn.metrics import mean_absolute_error\n",
    "from sklearn.metrics import mean_squared_error\n",
    "from sklearn.metrics import root_mean_squared_error\n",
    "from sklearn.metrics import r2_score\n",
    "from sklearn.metrics import accuracy_score\n",
    "from sklearn.metrics import confusion_matrix\n",
    "\n",
    "\n",
    "from sklearn.base import BaseEstimator, TransformerMixin\n",
    "\n",
    "from sklearn.pipeline import Pipeline\n",
    "\n",
    "from sklearn.compose import ColumnTransformer\n"
   ]
  },
  {
   "cell_type": "markdown",
   "id": "725e9a18-4bab-4f74-b458-011641ae7c92",
   "metadata": {},
   "source": [
    "# datasets"
   ]
  },
  {
   "cell_type": "code",
   "execution_count": 55,
   "id": "49922451-bf5f-4d17-a934-1a07add6019d",
   "metadata": {},
   "outputs": [],
   "source": [
    "from sklearn.datasets import make_regression\n",
    "# Генерация синтетических данных для задачи линейной регрессии\n",
    "\n",
    "X, y = make_regression(\n",
    "                       n_samples=100, # Количество строк данных\n",
    "                       n_features=5, # Количество столбцов(признаков)\n",
    "                       n_informative=5, # Количество информативных признаков(Значимых для построения целевого значения)\n",
    "                       random_state=42 # Состояние рандома\n",
    "                      )"
   ]
  },
  {
   "cell_type": "code",
   "execution_count": 56,
   "id": "496e5744-b1ba-4cf5-9cf4-d95a91e126d6",
   "metadata": {},
   "outputs": [
    {
     "data": {
      "text/plain": [
       "((100, 5), (100,))"
      ]
     },
     "execution_count": 56,
     "metadata": {},
     "output_type": "execute_result"
    }
   ],
   "source": [
    "X.shape, y.shape"
   ]
  },
  {
   "cell_type": "markdown",
   "id": "f9a4c5b2-3c56-4ef8-8667-d43febee8d1c",
   "metadata": {},
   "source": [
    "--------"
   ]
  },
  {
   "cell_type": "code",
   "execution_count": 57,
   "id": "33e3fe38-64b1-443c-9b41-7ecfd05671eb",
   "metadata": {},
   "outputs": [],
   "source": [
    "from sklearn.datasets import make_classification\n",
    "# Генерация синтетических данных для задачи классификации\n",
    "\n",
    "X, y = make_classification(\n",
    "                           n_samples=100, # Количество строк данных\n",
    "                           n_features=4, # Количество столбцов(признаков)\n",
    "                           n_informative=3, # Количество информативных признаков(Значимых для определения классов)\n",
    "                           n_redundant=1, # Количество избыточных признаков (Являющиеся линейной комбинацией информативных)\n",
    "                           n_classes=3, # Количество классов(значений целевой переменной y)\n",
    "                           random_state=42 # Состояние рандома\n",
    "                          )"
   ]
  },
  {
   "cell_type": "code",
   "execution_count": 58,
   "id": "d6ece18f-5872-4b3f-9302-258a36753ea6",
   "metadata": {},
   "outputs": [
    {
     "data": {
      "text/plain": [
       "((100, 4), (100,))"
      ]
     },
     "execution_count": 58,
     "metadata": {},
     "output_type": "execute_result"
    }
   ],
   "source": [
    "X.shape, y.shape"
   ]
  },
  {
   "cell_type": "markdown",
   "id": "efdbfac1-f58f-45bc-be09-a36d85389ecf",
   "metadata": {},
   "source": [
    "# model_selection"
   ]
  },
  {
   "cell_type": "code",
   "execution_count": 60,
   "id": "4109c2df-c98f-4cfe-8b3e-b18c6b94d3eb",
   "metadata": {},
   "outputs": [],
   "source": [
    "from sklearn.model_selection import train_test_split\n",
    "# Разделение данных на обучающую и тестовую выборку\n",
    "\n",
    "X_train, X_test, y_train, y_test = train_test_split(\n",
    "                                                    X, # признаки (матрица входных данных).\n",
    "                                                    y, # целевая переменная (метки классов или значения для регрессии)\n",
    "                                                    train_size=0.8, #  доля обучающей выборки.\n",
    "                                                    test_size=0.2, # доля тестовой выборки\n",
    "                                                    random_state=42 # Состояние рандома\n",
    "                                                    )"
   ]
  },
  {
   "cell_type": "code",
   "execution_count": 61,
   "id": "81f90c26-7593-4759-9dc4-31bc72cb9a77",
   "metadata": {},
   "outputs": [
    {
     "data": {
      "text/plain": [
       "((80, 4), (80,))"
      ]
     },
     "execution_count": 61,
     "metadata": {},
     "output_type": "execute_result"
    }
   ],
   "source": [
    "X_train.shape, y_train.shape"
   ]
  },
  {
   "cell_type": "markdown",
   "id": "7199dcc6-9ff1-4916-8f8e-e32b345dc060",
   "metadata": {},
   "source": [
    "----"
   ]
  },
  {
   "cell_type": "code",
   "execution_count": 62,
   "id": "731214d5-4e02-45af-bf7c-7dfca9619d33",
   "metadata": {},
   "outputs": [],
   "source": [
    "from sklearn.model_selection import StratifiedShuffleSplit\n",
    "# Cтратифицированное перемешенное разбиение данных на обучающий и тестовый наборы\n",
    "\n",
    "sss = StratifiedShuffleSplit(\n",
    "                             n_splits=10, # Количество разбиений\n",
    "                             train_size=0.8, # Доля обучающей выборки\n",
    "                             test_size=0.2, # Доля тестовой выборки\n",
    "                             random_state=42 # Состояние рандома\n",
    "                            )"
   ]
  },
  {
   "cell_type": "code",
   "execution_count": 63,
   "id": "7f2ef99b-3468-4fc0-bf57-69a8f84ea998",
   "metadata": {},
   "outputs": [],
   "source": [
    "for train_index, test_index in sss.split(X, y):\n",
    "    X_train, X_test = X[train_index], X[test_index]\n",
    "    y_train, y_test = y[train_index], y[test_index]"
   ]
  },
  {
   "cell_type": "markdown",
   "id": "974de232-a64d-43ea-974d-ced0acaba63c",
   "metadata": {},
   "source": [
    "# metrics"
   ]
  },
  {
   "cell_type": "markdown",
   "id": "659cce8a-6dd6-4e39-9fff-001e4da86c34",
   "metadata": {},
   "source": [
    "## Метрики регрессии"
   ]
  },
  {
   "cell_type": "code",
   "execution_count": 50,
   "id": "d9d31c8a-6376-409b-92c9-0b9d9c0d4832",
   "metadata": {},
   "outputs": [],
   "source": [
    "from sklearn.metrics import mean_absolute_error"
   ]
  },
  {
   "cell_type": "code",
   "execution_count": 51,
   "id": "75a52bcd-8865-402d-9c96-b18c3be38e13",
   "metadata": {},
   "outputs": [],
   "source": [
    "from sklearn.metrics import mean_squared_error"
   ]
  },
  {
   "cell_type": "code",
   "execution_count": 52,
   "id": "babfa774-1515-4137-88ce-f7834f7c37d7",
   "metadata": {},
   "outputs": [],
   "source": [
    "from sklearn.metrics import root_mean_squared_error"
   ]
  },
  {
   "cell_type": "code",
   "execution_count": 53,
   "id": "61960a26-ba55-44ad-a8bb-c1f6ba95f7f3",
   "metadata": {},
   "outputs": [],
   "source": [
    "from sklearn.metrics import r2_score"
   ]
  },
  {
   "cell_type": "markdown",
   "id": "1faee1b7-396d-4afc-ade1-0498c1c37e01",
   "metadata": {},
   "source": [
    "## Метрики классификации"
   ]
  },
  {
   "cell_type": "code",
   "execution_count": 54,
   "id": "35cbede7-b784-4497-813a-87cbfa12cf2c",
   "metadata": {},
   "outputs": [],
   "source": [
    "from sklearn.metrics import accuracy_score"
   ]
  },
  {
   "cell_type": "code",
   "execution_count": 65,
   "id": "ce919e1c-b843-4978-9e09-5dd15932b524",
   "metadata": {},
   "outputs": [],
   "source": [
    "from sklearn.metrics import confusion_matrix"
   ]
  },
  {
   "cell_type": "code",
   "execution_count": null,
   "id": "7618b48b-c11d-491c-a17b-19daea08b819",
   "metadata": {},
   "outputs": [],
   "source": []
  }
 ],
 "metadata": {
  "kernelspec": {
   "display_name": "Python 3 (ipykernel)",
   "language": "python",
   "name": "python3"
  },
  "language_info": {
   "codemirror_mode": {
    "name": "ipython",
    "version": 3
   },
   "file_extension": ".py",
   "mimetype": "text/x-python",
   "name": "python",
   "nbconvert_exporter": "python",
   "pygments_lexer": "ipython3",
   "version": "3.12.3"
  }
 },
 "nbformat": 4,
 "nbformat_minor": 5
}
