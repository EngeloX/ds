{
 "cells": [
  {
   "cell_type": "markdown",
   "id": "f0b987b1-d395-4bc5-87a6-740776cd419a",
   "metadata": {},
   "source": [
    "# Регрессия\n",
    "**Модели**\n",
    "```Python\n",
    "from sklearn.linear_model import LinearRegression         #  Метод наименьших квадратов\n",
    "from sklearn.linear_model import Ridge                    #  L2-Регуляризация\n",
    "from sklearn.linear_model import Lasso                    #  L1-Регуляризация\n",
    "from sklearn.linear_model import ElasticNet               #  L1-L2-Регуляризация\n",
    "from sklearn.linear_model import RidgeCV                  #  L2-Регуляризация с кросс-валидацией\n",
    "from sklearn.linear_model import LassoCV                  #  L1-Регуляризация с кросс-валидацией\n",
    "from sklearn.linear_model import ElasticNetCV             #  L1-L2-Регуляризация с кросс-валидацией\n",
    "\n",
    "from sklearn.linear_model import SGDRegressor             # Стохастический градиентный спуск\n",
    "from sklearn.neighbors import KNeighborsRegressor         # KNN для регрессии\n",
    "from sklearn.tree import DecisionTreeRegressor            # Дерево решений для регрессии\n",
    "```\n",
    "**Метрики регрессии**\n",
    "\n",
    "```Python\n",
    "from sklearn.metrics import mean_absolute_error           # Средне-абсолютная ошибка\n",
    "from sklearn.metrics import mean_squared_error            # Средне-квадратичная ошибка\n",
    "from sklearn.metrics import root_mean_squared_error       # Корень из средне-квадратичной ошибки\n",
    "from sklearn.metrics import r2_score                      # Коэффициент детерминации\n",
    "```\n",
    "----\n",
    "\n",
    "# Классификация\n",
    "**Модели**\n",
    "```Python\n",
    "from sklearn.linear_model import LogisticRegression       # Логистическая регрессия\n",
    "from sklearn.linear_model import RidgeClassifier          # L2-Регуляризация для классификации\n",
    "from sklearn.linear_model import LogisticRegressionCV     # Логистическая регрессия с кросс-валидацией\n",
    "from sklearn.linear_model import RidgeClassifierCV        # L2-Регуляризация для классификации с кросс-валидацией\n",
    "\n",
    "from sklearn.linear_model import SGDClassifier            # Стохастический градиентный спуск\n",
    "from sklearn.neighbors import KNeighborsClassifier        # KNN для классификации\n",
    "from sklearn.tree import DecisionTreeClassifier           # Дерево решений для классификации\n",
    "```\n",
    "**Метрики классификации**\n",
    "\n",
    "```Python\n",
    "from sklearn.metrics import accuracy_score                # Оценка точности\n",
    "```\n",
    "-----\n",
    "\n",
    "# Кластеризация\n",
    "\n",
    "```Python\n",
    "from sklearn.cluster import KMeans                        # K-средних\n",
    "\n",
    "```\n",
    "-------\n",
    "# Подготовка данных\n",
    "\n",
    "```Python\n",
    "from sklearn.impute import SimpleImputer                  # Замена пропусков\n",
    "from sklearn.model_selection import train_test_split      # Разделение данных на обучающую и тестовую выборки\n",
    "from sklearn.preprocessing import MinMaxScaler            # Нормализация\n",
    "from sklearn.preprocessing import StandardScaler          # Стандартизация\n",
    "```\n",
    "\n",
    "---------"
   ]
  },
  {
   "cell_type": "markdown",
   "id": "712f8f5b-daac-491c-a062-09c9aed36d05",
   "metadata": {},
   "source": [
    "```Python\n",
    "\n",
    "from sklearn.ensemble import RandomForestRegressor\n",
    "\n",
    "\n",
    "from sklearn.preprocessing import OneHotEncoder\n",
    "from sklearn.preprocessing import OrdinalEncoder\n",
    "from sklearn.preprocessing import LabelEncoder\n",
    "from sklearn.preprocessing import FunctionTransformer\n",
    "\n",
    "\n",
    "\n",
    "from sklearn.datasets import make_regression\n",
    "from sklearn.datasets import make_classification\n",
    "from sklearn.datasets import fetch_california_housing\n",
    "from sklearn.datasets import make_moons\n",
    "\n",
    "\n",
    "from sklearn.model_selection import StratifiedShuffleSplit\n",
    "from sklearn.model_selection import cross_val_score\n",
    "from sklearn.model_selection import GridSearchCV\n",
    "from sklearn.model_selection import RandomizedSearchCV\n",
    "\n",
    "\n",
    "from sklearn.metrics import confusion_matrix\n",
    "\n",
    "\n",
    "from sklearn.base import BaseEstimator, TransformerMixin\n",
    "\n",
    "from sklearn.pipeline import Pipeline\n",
    "\n",
    "from sklearn.compose import ColumnTransformer\n"
   ]
  },
  {
   "cell_type": "markdown",
   "id": "725e9a18-4bab-4f74-b458-011641ae7c92",
   "metadata": {},
   "source": [
    "# datasets"
   ]
  },
  {
   "cell_type": "code",
   "execution_count": 55,
   "id": "49922451-bf5f-4d17-a934-1a07add6019d",
   "metadata": {},
   "outputs": [],
   "source": [
    "from sklearn.datasets import make_regression\n",
    "# Генерация синтетических данных для задачи линейной регрессии\n",
    "\n",
    "X, y = make_regression(\n",
    "                       n_samples=100, # Количество строк данных\n",
    "                       n_features=5, # Количество столбцов(признаков)\n",
    "                       n_informative=5, # Количество информативных признаков(Значимых для построения целевого значения)\n",
    "                       random_state=42 # Состояние рандома\n",
    "                      )"
   ]
  },
  {
   "cell_type": "code",
   "execution_count": 56,
   "id": "496e5744-b1ba-4cf5-9cf4-d95a91e126d6",
   "metadata": {},
   "outputs": [
    {
     "data": {
      "text/plain": [
       "((100, 5), (100,))"
      ]
     },
     "execution_count": 56,
     "metadata": {},
     "output_type": "execute_result"
    }
   ],
   "source": [
    "X.shape, y.shape"
   ]
  },
  {
   "cell_type": "markdown",
   "id": "f9a4c5b2-3c56-4ef8-8667-d43febee8d1c",
   "metadata": {},
   "source": [
    "--------"
   ]
  },
  {
   "cell_type": "code",
   "execution_count": 57,
   "id": "33e3fe38-64b1-443c-9b41-7ecfd05671eb",
   "metadata": {},
   "outputs": [],
   "source": [
    "from sklearn.datasets import make_classification\n",
    "# Генерация синтетических данных для задачи классификации\n",
    "\n",
    "X, y = make_classification(\n",
    "                           n_samples=100, # Количество строк данных\n",
    "                           n_features=4, # Количество столбцов(признаков)\n",
    "                           n_informative=3, # Количество информативных признаков(Значимых для определения классов)\n",
    "                           n_redundant=1, # Количество избыточных признаков (Являющиеся линейной комбинацией информативных)\n",
    "                           n_classes=3, # Количество классов(значений целевой переменной y)\n",
    "                           random_state=42 # Состояние рандома\n",
    "                          )"
   ]
  },
  {
   "cell_type": "code",
   "execution_count": 58,
   "id": "d6ece18f-5872-4b3f-9302-258a36753ea6",
   "metadata": {},
   "outputs": [
    {
     "data": {
      "text/plain": [
       "((100, 4), (100,))"
      ]
     },
     "execution_count": 58,
     "metadata": {},
     "output_type": "execute_result"
    }
   ],
   "source": [
    "X.shape, y.shape"
   ]
  },
  {
   "cell_type": "markdown",
   "id": "efdbfac1-f58f-45bc-be09-a36d85389ecf",
   "metadata": {},
   "source": [
    "# model_selection"
   ]
  },
  {
   "cell_type": "code",
   "execution_count": 60,
   "id": "4109c2df-c98f-4cfe-8b3e-b18c6b94d3eb",
   "metadata": {},
   "outputs": [],
   "source": [
    "from sklearn.model_selection import train_test_split\n",
    "# Разделение данных на обучающую и тестовую выборку\n",
    "\n",
    "X_train, X_test, y_train, y_test = train_test_split(\n",
    "                                                    X, # признаки (матрица входных данных).\n",
    "                                                    y, # целевая переменная (метки классов или значения для регрессии)\n",
    "                                                    train_size=0.8, #  доля обучающей выборки.\n",
    "                                                    test_size=0.2, # доля тестовой выборки\n",
    "                                                    random_state=42 # Состояние рандома\n",
    "                                                    )"
   ]
  },
  {
   "cell_type": "code",
   "execution_count": 61,
   "id": "81f90c26-7593-4759-9dc4-31bc72cb9a77",
   "metadata": {},
   "outputs": [
    {
     "data": {
      "text/plain": [
       "((80, 4), (80,))"
      ]
     },
     "execution_count": 61,
     "metadata": {},
     "output_type": "execute_result"
    }
   ],
   "source": [
    "X_train.shape, y_train.shape"
   ]
  },
  {
   "cell_type": "markdown",
   "id": "7199dcc6-9ff1-4916-8f8e-e32b345dc060",
   "metadata": {},
   "source": [
    "----"
   ]
  },
  {
   "cell_type": "code",
   "execution_count": 62,
   "id": "731214d5-4e02-45af-bf7c-7dfca9619d33",
   "metadata": {},
   "outputs": [],
   "source": [
    "from sklearn.model_selection import StratifiedShuffleSplit\n",
    "# Cтратифицированное перемешенное разбиение данных на обучающий и тестовый наборы\n",
    "\n",
    "sss = StratifiedShuffleSplit(\n",
    "                             n_splits=10, # Количество разбиений\n",
    "                             train_size=0.8, # Доля обучающей выборки\n",
    "                             test_size=0.2, # Доля тестовой выборки\n",
    "                             random_state=42 # Состояние рандома\n",
    "                            )"
   ]
  },
  {
   "cell_type": "code",
   "execution_count": 63,
   "id": "7f2ef99b-3468-4fc0-bf57-69a8f84ea998",
   "metadata": {},
   "outputs": [],
   "source": [
    "for train_index, test_index in sss.split(X, y):\n",
    "    X_train, X_test = X[train_index], X[test_index]\n",
    "    y_train, y_test = y[train_index], y[test_index]"
   ]
  }
 ],
 "metadata": {
  "kernelspec": {
   "display_name": "Python 3 (ipykernel)",
   "language": "python",
   "name": "python3"
  },
  "language_info": {
   "codemirror_mode": {
    "name": "ipython",
    "version": 3
   },
   "file_extension": ".py",
   "mimetype": "text/x-python",
   "name": "python",
   "nbconvert_exporter": "python",
   "pygments_lexer": "ipython3",
   "version": "3.12.3"
  }
 },
 "nbformat": 4,
 "nbformat_minor": 5
}
