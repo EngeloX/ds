{
 "cells": [
  {
   "cell_type": "code",
   "execution_count": 3,
   "id": "c80dd206-abbc-477b-b80d-3af8bb3dd667",
   "metadata": {},
   "outputs": [],
   "source": [
    "import numpy as np\n",
    "import matplotlib.pyplot as plt"
   ]
  },
  {
   "cell_type": "markdown",
   "id": "59f351ba-6349-4452-9a23-a22803970e51",
   "metadata": {},
   "source": [
    "# Функции"
   ]
  },
  {
   "cell_type": "markdown",
   "id": "4d2b6009-c911-486f-942c-4f06952b2994",
   "metadata": {},
   "source": [
    "##### np.stack()"
   ]
  },
  {
   "cell_type": "markdown",
   "id": "2ee8dd52-a6c2-4f08-8726-0f89d2d833ae",
   "metadata": {},
   "source": [
    "##### np.hstack()"
   ]
  },
  {
   "cell_type": "markdown",
   "id": "f1197ef3-bbcb-415c-9183-139292c1f080",
   "metadata": {},
   "source": [
    "##### np.vstack()"
   ]
  },
  {
   "cell_type": "markdown",
   "id": "4f7b708e-43c8-428b-8c6d-d2a4582f4364",
   "metadata": {},
   "source": [
    "##### np.unstack()"
   ]
  },
  {
   "cell_type": "markdown",
   "id": "8d9f7711-fac3-4c76-b6c4-bfc82f11a0b7",
   "metadata": {},
   "source": [
    "##### np.reshape()"
   ]
  },
  {
   "cell_type": "markdown",
   "id": "d730f1f2-bbd5-440d-9112-a8aa50a877e1",
   "metadata": {},
   "source": [
    "##### np.resize()"
   ]
  },
  {
   "cell_type": "markdown",
   "id": "7fab92dc-0db4-4d15-acb8-b2a2097d928a",
   "metadata": {},
   "source": [
    "##### np.c_"
   ]
  },
  {
   "cell_type": "markdown",
   "id": "00f96f6d-707e-48eb-a09f-8b25804f2c46",
   "metadata": {},
   "source": [
    "np.bincount"
   ]
  },
  {
   "cell_type": "code",
   "execution_count": null,
   "id": "66b9d80c-8622-4778-98f0-fab8f65e5ca3",
   "metadata": {},
   "outputs": [],
   "source": []
  },
  {
   "cell_type": "markdown",
   "id": "96e6f50c-269d-4f49-b396-448edd4de1f8",
   "metadata": {},
   "source": [
    "# Срезы"
   ]
  },
  {
   "cell_type": "markdown",
   "id": "013654cd-6a4a-48ac-a1e3-c5a3a7afc06b",
   "metadata": {},
   "source": [
    "# Модуль linalg"
   ]
  },
  {
   "cell_type": "markdown",
   "id": "02e6d52a-2592-4f74-9241-1562a4161334",
   "metadata": {},
   "source": [
    "##### np.linalg.norm()"
   ]
  },
  {
   "cell_type": "code",
   "execution_count": 83,
   "id": "88b29cf9-8b57-4c61-aac3-09dc42ea9953",
   "metadata": {},
   "outputs": [],
   "source": [
    "point1 = np.array([0, 0])\n",
    "point2 = np.array([3, 4])"
   ]
  },
  {
   "cell_type": "markdown",
   "id": "eec4647f-dca4-4064-bb1b-57b19f1bf8b8",
   "metadata": {},
   "source": [
    "**L2-норма. Евклидова норма**"
   ]
  },
  {
   "cell_type": "markdown",
   "id": "8597fb94-ad5f-4e29-b017-261482872cd5",
   "metadata": {},
   "source": [
    "Евклидово расстояние(Длина гипотенузы по Пифагору)"
   ]
  },
  {
   "cell_type": "code",
   "execution_count": 84,
   "id": "9076a037-019e-4b19-84d3-8e1113679ef0",
   "metadata": {},
   "outputs": [
    {
     "data": {
      "text/plain": [
       "5.0"
      ]
     },
     "execution_count": 84,
     "metadata": {},
     "output_type": "execute_result"
    }
   ],
   "source": [
    "# По умолчанию\n",
    "np.linalg.norm(point1 - point2, ord=None)"
   ]
  },
  {
   "cell_type": "markdown",
   "id": "de479315-554b-46f1-b3a1-e12cd0050d87",
   "metadata": {},
   "source": [
    "**L1-норма. Манхэттенская норма**"
   ]
  },
  {
   "cell_type": "markdown",
   "id": "46517c87-f7b8-40b4-861c-983ade9c2538",
   "metadata": {},
   "source": [
    "Сумма абсолютных значений"
   ]
  },
  {
   "cell_type": "code",
   "execution_count": 85,
   "id": "d8a203a2-f114-46da-a21f-81c3f3c09f96",
   "metadata": {},
   "outputs": [
    {
     "data": {
      "text/plain": [
       "7.0"
      ]
     },
     "execution_count": 85,
     "metadata": {},
     "output_type": "execute_result"
    }
   ],
   "source": [
    "# Манхэттонская норма\n",
    "np.linalg.norm(point1 - point2, ord=1)"
   ]
  },
  {
   "cell_type": "code",
   "execution_count": 86,
   "id": "ddac2497-0da7-43ad-92d7-e73d1fa45683",
   "metadata": {},
   "outputs": [
    {
     "data": {
      "image/png": "[encoded data removed]",
      "text/plain": [
       "<Figure size 640x480 with 1 Axes>"
      ]
     },
     "metadata": {},
     "output_type": "display_data"
    }
   ],
   "source": [
    "plt.grid()\n",
    "plt.xlim((-5, 5))\n",
    "plt.ylim((-5, 5))\n",
    "plt.scatter((point1[0], point2[0]), (point1[1], point2[1]), s=100, c='r')\n",
    "\n",
    "#Гипотенуза\n",
    "plt.plot((point1[0], point2[0]), (point1[1], point2[1]), ls='--', c='k', label='Гипотенуза(norm)')\n",
    "\n",
    "#Катеты\n",
    "plt.plot([point1[0], point2[0]], [point1[1], point1[1]], label='Катет X')\n",
    "plt.plot([point2[0], point2[0]], [point1[1], point2[1]], label='Катет Y')\n",
    "\n",
    "plt.legend();"
   ]
  },
  {
   "cell_type": "markdown",
   "id": "9651f8c2-2800-4d32-9763-2dca6428b7d1",
   "metadata": {},
   "source": [
    "##### np.linalg.det()"
   ]
  },
  {
   "cell_type": "markdown",
   "id": "387b9317-b193-4742-b34e-db8ca3765f49",
   "metadata": {},
   "source": [
    "##### np.linalg.inv()"
   ]
  },
  {
   "cell_type": "markdown",
   "id": "501f98e2-28c9-44a3-aa9c-6bb894d27d69",
   "metadata": {},
   "source": [
    "# Модуль random"
   ]
  },
  {
   "cell_type": "markdown",
   "id": "c441d2e9-0e51-4576-aea1-cf338cabd2f1",
   "metadata": {},
   "source": [
    "# Array"
   ]
  },
  {
   "cell_type": "code",
   "execution_count": null,
   "id": "7988308d-3101-44b1-862f-9b3a56dd9089",
   "metadata": {},
   "outputs": [],
   "source": []
  }
 ],
 "metadata": {
  "kernelspec": {
   "display_name": "Python 3 (ipykernel)",
   "language": "python",
   "name": "python3"
  },
  "language_info": {
   "codemirror_mode": {
    "name": "ipython",
    "version": 3
   },
   "file_extension": ".py",
   "mimetype": "text/x-python",
   "name": "python",
   "nbconvert_exporter": "python",
   "pygments_lexer": "ipython3",
   "version": "3.12.3"
  }
 },
 "nbformat": 4,
 "nbformat_minor": 5
}
