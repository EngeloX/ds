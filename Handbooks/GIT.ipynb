{
 "cells": [
  {
   "cell_type": "markdown",
   "id": "1ab39991-4f39-437e-93b4-1cc28bf7b9bd",
   "metadata": {},
   "source": [
    "### Создание нового репозитория"
   ]
  },
  {
   "cell_type": "markdown",
   "id": "9857b119-273e-4a94-a4a9-fec80e1b41b4",
   "metadata": {},
   "source": [
    "git init\\\n",
    "git remote add origin *`Link`*\\\n",
    "git branch -M main"
   ]
  },
  {
   "cell_type": "markdown",
   "id": "3cf621c9-fb06-4b1a-8808-2c77f864d112",
   "metadata": {},
   "source": [
    "### Внести изменения"
   ]
  },
  {
   "cell_type": "markdown",
   "id": "40ebc5f9-67a0-4591-8bd8-bb150c4aff7b",
   "metadata": {},
   "source": [
    "git add .\\\n",
    "git commit -m *`commit`*\\\n",
    "git push -u origin main"
   ]
  },
  {
   "cell_type": "markdown",
   "id": "d4f14dfb-aec7-4471-b3ee-456db60685de",
   "metadata": {},
   "source": [
    "### Ветки"
   ]
  },
  {
   "cell_type": "markdown",
   "id": "71e31177-861f-48bd-b77b-5bfd657262d0",
   "metadata": {},
   "source": [
    "`Узнать в какой я ветке`:\\\n",
    "git branch\n",
    "\n",
    "`Переключиться на ветку main`:\\\n",
    "git checkout main"
   ]
  },
  {
   "cell_type": "markdown",
   "id": "a9006548-a483-49e1-85db-eb09322e66bd",
   "metadata": {},
   "source": [
    "### Проверить доступные удаленные репозитории"
   ]
  },
  {
   "cell_type": "markdown",
   "id": "c68d9fe8-3db5-4908-8f52-b4f0ce98cdb4",
   "metadata": {},
   "source": [
    "git remote -v"
   ]
  },
  {
   "cell_type": "markdown",
   "id": "ca905080-e394-4645-8425-0ecfb9f25b8e",
   "metadata": {},
   "source": [
    "### Удалить привязанный репозиторий\n"
   ]
  },
  {
   "cell_type": "markdown",
   "id": "1153d1fa-86d7-42f2-bebd-a9f5729ee7e8",
   "metadata": {},
   "source": [
    "git remote remove origin\n",
    "\n",
    "**`Полностью очиститься от git в папке`**\\\n",
    "rm -rf .git"
   ]
  },
  {
   "cell_type": "markdown",
   "id": "b0d5bb21-6ce9-4f2d-b311-9593c31374ff",
   "metadata": {},
   "source": [
    "### Удалить существующую папку из репозитория"
   ]
  },
  {
   "cell_type": "markdown",
   "id": "9ca5f8a0-ea52-467d-afd2-b4fefddab454",
   "metadata": {},
   "source": [
    "echo \".ipynb_checkpoints/\" >> .gitignore\\\n",
    "git rm -r --cached folder_to_remove\\\n",
    "git commit -m 'folder deleted'\\\n",
    "git push origin main"
   ]
  },
  {
   "cell_type": "markdown",
   "id": "fe8028a8-7e79-4069-889b-965a26eae000",
   "metadata": {},
   "source": [
    "### Просмотреть файлы под версионным контролем"
   ]
  },
  {
   "cell_type": "markdown",
   "id": "d10d7573-68f4-4902-8050-2aa8d797dabd",
   "metadata": {},
   "source": [
    "git ls-files"
   ]
  },
  {
   "cell_type": "markdown",
   "id": "f107bdd0-6f2a-4bc4-b065-bf7a4c2e6771",
   "metadata": {},
   "source": [
    "### .gitignore"
   ]
  },
  {
   "cell_type": "markdown",
   "id": "a8c9f961-824b-443c-99a0-46da8e535191",
   "metadata": {},
   "source": [
    "**`Создание .gitignore`**\\\n",
    "touch .gitignore\n",
    "\n",
    "**`Записать исключения`**\\\n",
    "echo \".ipynb_checkpoints/\" >> .gitignore\n",
    "\n",
    "**`Проверка содержимого .gitignore файла`**\\\n",
    "cat .gitignore"
   ]
  },
  {
   "cell_type": "markdown",
   "id": "1679e769-0814-40b6-ba27-b5e3f1072319",
   "metadata": {},
   "source": [
    "### Скачать репозиторий с GitHub"
   ]
  },
  {
   "cell_type": "markdown",
   "id": "2394e30d-d7fd-499e-a560-16cd99974e95",
   "metadata": {},
   "source": [
    "git clone *`Link`*"
   ]
  },
  {
   "cell_type": "markdown",
   "id": "6d2bba19-a2aa-4edf-9cd6-48fdba50ed86",
   "metadata": {},
   "source": [
    "### Просмотреть историю"
   ]
  },
  {
   "cell_type": "markdown",
   "id": "f0c04971-7906-4c17-812a-38b8c087f8a6",
   "metadata": {},
   "source": [
    "git reflog"
   ]
  },
  {
   "cell_type": "markdown",
   "id": "2833184f-8578-483b-b58c-e9e666029342",
   "metadata": {},
   "source": [
    "### Откат"
   ]
  },
  {
   "cell_type": "markdown",
   "id": "d00b260a-d609-4567-b313-548b105a8af2",
   "metadata": {},
   "source": [
    "git reset HEAD~1\n",
    "\n",
    "git reset --soft HEAD~1"
   ]
  },
  {
   "cell_type": "code",
   "execution_count": null,
   "id": "688aa384-561a-4c9b-b7cd-eb53dfc31d84",
   "metadata": {},
   "outputs": [],
   "source": []
  }
 ],
 "metadata": {
  "kernelspec": {
   "display_name": "Python 3 (ipykernel)",
   "language": "python",
   "name": "python3"
  },
  "language_info": {
   "codemirror_mode": {
    "name": "ipython",
    "version": 3
   },
   "file_extension": ".py",
   "mimetype": "text/x-python",
   "name": "python",
   "nbconvert_exporter": "python",
   "pygments_lexer": "ipython3",
   "version": "3.12.3"
  }
 },
 "nbformat": 4,
 "nbformat_minor": 5
}
