{
 "cells": [
  {
   "cell_type": "markdown",
   "id": "d300c92a-47d3-41e3-918c-ccdce1c73fb6",
   "metadata": {},
   "source": [
    "```Python\n",
    "np.vectorize\n",
    "np.dot  | @ | np.matmul\n",
    "\n",
    "np.linalg.norm\n",
    "np.linalg.det\n",
    "np.linalg.inv\n",
    "np.linalg.pinv\n",
    "np.linalg.matrix_rank\n",
    "np.linalg.lstsq\n",
    "```\n",
    "random\n",
    "```Python\n",
    "np.who\n",
    "\n",
    "np.array\n",
    "np.append | np.delete\n",
    "np.arange\n",
    "np.linspace\n",
    "Arr.fill\n",
    "np.diag\n",
    "np.fill_diagonal\n",
    "\n",
    "np.identity\n",
    "np.ones\n",
    "np.zeros\n",
    "np.eye\n",
    "\n",
    "\n",
    "\n",
    "np.random.seed\n",
    "np.random.random\n",
    "np.random.randint\n",
    "np.random.choice\n",
    "np.random.randn\n",
    "np.random.random\n",
    "```\n",
    "```Python\n",
    "np.max, np.min\n",
    "np.argmax, np.argmin\n",
    "np.mean\n",
    "np.median\n",
    "\n",
    "np.nonzero\n",
    "np.where\n",
    "```\n",
    "\n",
    "```Python\n",
    "Arr.shape \n",
    "Arr.size\n",
    "Arr.itemsize\n",
    "Arr.nbytes\n",
    "Arr.dtype\n",
    "Arr.astype\n",
    "``\n",
    "```Python\n",
    "Arr.T\n",
    "Arr.reshape\n",
    "np.hstack\n",
    "np.vstack\n",
    "\n",
    "np.hsplit\n",
    "np.vsplit\n",
    "\n",
    "np.pad\n",
    "```\n"
   ]
  },
  {
   "cell_type": "code",
   "execution_count": 1,
   "id": "2b9e132c-07f1-4f97-a144-17bcdb0ba28b",
   "metadata": {},
   "outputs": [
    {
     "ename": "NameError",
     "evalue": "name 'np' is not defined",
     "output_type": "error",
     "traceback": [
      "\u001b[1;31m---------------------------------------------------------------------------\u001b[0m",
      "\u001b[1;31mNameError\u001b[0m                                 Traceback (most recent call last)",
      "Cell \u001b[1;32mIn[1], line 1\u001b[0m\n\u001b[1;32m----> 1\u001b[0m np\u001b[38;5;241m.\u001b[39mtile\n\u001b[0;32m      2\u001b[0m np\u001b[38;5;241m.\u001b[39munravel_index\n\u001b[0;32m      3\u001b[0m np\u001b[38;5;241m.\u001b[39mc_\n",
      "\u001b[1;31mNameError\u001b[0m: name 'np' is not defined"
     ]
    }
   ],
   "source": [
    "np.tile\n",
    "np.unravel_index\n",
    "np.c_\n",
    "np.concatenate\n",
    "meshgrid\n",
    "ravel"
   ]
  },
  {
   "cell_type": "code",
   "execution_count": null,
   "id": "0b6cb6d1-4403-4a44-861f-cbd42d5e2c49",
   "metadata": {},
   "outputs": [],
   "source": []
  }
 ],
 "metadata": {
  "kernelspec": {
   "display_name": "Python 3 (ipykernel)",
   "language": "python",
   "name": "python3"
  },
  "language_info": {
   "codemirror_mode": {
    "name": "ipython",
    "version": 3
   },
   "file_extension": ".py",
   "mimetype": "text/x-python",
   "name": "python",
   "nbconvert_exporter": "python",
   "pygments_lexer": "ipython3",
   "version": "3.12.3"
  }
 },
 "nbformat": 4,
 "nbformat_minor": 5
}
