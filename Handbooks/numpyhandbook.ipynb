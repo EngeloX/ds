{
 "cells": [
  {
   "cell_type": "markdown",
   "id": "d300c92a-47d3-41e3-918c-ccdce1c73fb6",
   "metadata": {},
   "source": [
    "```Python\n",
    "np.vectorize\n",
    "np.dot  | @ | np.matmul\n",
    "\n",
    "np.linalg.norm\n",
    "np.linalg.det\n",
    "np.linalg.inv\n",
    "np.linalg.pinv\n",
    "np.linalg.matrix_rank\n",
    "np.linalg.lstsq\n",
    "```\n",
    "random\n",
    "```Python\n",
    "np.who\n",
    "\n",
    "np.array\n",
    "np.append | np.delete\n",
    "np.arange\n",
    "np.linspace\n",
    "Arr.fill\n",
    "np.diag\n",
    "np.fill_diagonal\n",
    "\n",
    "np.identity\n",
    "np.ones\n",
    "np.zeros\n",
    "np.eye\n",
    "\n",
    "\n",
    "\n",
    "np.random.seed\n",
    "np.random.random\n",
    "np.random.randint\n",
    "np.random.choice\n",
    "np.random.randn\n",
    "np.random.random\n",
    "```\n",
    "```Python\n",
    "np.max, np.min\n",
    "np.argmax, np.argmin\n",
    "np.mean\n",
    "np.median\n",
    "\n",
    "np.nonzero\n",
    "np.where\n",
    "```\n",
    "\n",
    "```Python\n",
    "Arr.shape \n",
    "Arr.size\n",
    "Arr.itemsize\n",
    "Arr.nbytes\n",
    "Arr.dtype\n",
    "Arr.astype\n",
    "``\n",
    "```Python\n",
    "Arr.T\n",
    "Arr.reshape\n",
    "np.hstack\n",
    "np.vstack\n",
    "\n",
    "np.hsplit\n",
    "np.vsplit\n",
    "\n",
    "np.pad\n",
    "```\n"
   ]
  },
  {
   "cell_type": "code",
   "execution_count": null,
   "id": "2b9e132c-07f1-4f97-a144-17bcdb0ba28b",
   "metadata": {},
   "outputs": [],
   "source": [
    "np.tile\n",
    "np.unravel_index"
   ]
  },
  {
   "cell_type": "code",
   "execution_count": null,
   "id": "ebcb99f3-14bc-4c84-b5d1-3cfa7bcf47a0",
   "metadata": {},
   "outputs": [],
   "source": []
  }
 ],
 "metadata": {
  "kernelspec": {
   "display_name": "Python 3 (ipykernel)",
   "language": "python",
   "name": "python3"
  },
  "language_info": {
   "codemirror_mode": {
    "name": "ipython",
    "version": 3
   },
   "file_extension": ".py",
   "mimetype": "text/x-python",
   "name": "python",
   "nbconvert_exporter": "python",
   "pygments_lexer": "ipython3",
   "version": "3.12.3"
  }
 },
 "nbformat": 4,
 "nbformat_minor": 5
}
