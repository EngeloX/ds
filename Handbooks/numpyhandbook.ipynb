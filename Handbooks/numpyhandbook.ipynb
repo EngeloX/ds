{
 "cells": [
  {
   "cell_type": "code",
   "execution_count": 1,
   "id": "5033864b-00c3-4684-a141-ccce170be0f7",
   "metadata": {},
   "outputs": [],
   "source": [
    "import numpy as np"
   ]
  },
  {
   "cell_type": "code",
   "execution_count": 6,
   "id": "b71d386d-e7f2-4a1a-a20a-96fa32bd07f5",
   "metadata": {},
   "outputs": [
    {
     "data": {
      "text/plain": [
       "array([[1, 3],\n",
       "       [1, 2]])"
      ]
     },
     "execution_count": 6,
     "metadata": {},
     "output_type": "execute_result"
    }
   ],
   "source": [
    "np.array([[1,3], [1, 2]])\n",
    "np"
   ]
  },
  {
   "cell_type": "code",
   "execution_count": 5,
   "id": "ad75dddb-c4a3-45e9-a8b4-5454d5ddb40e",
   "metadata": {},
   "outputs": [
    {
     "data": {
      "text/plain": [
       "<function matrix_rank at 0x0000028F16E4A870>"
      ]
     },
     "execution_count": 5,
     "metadata": {},
     "output_type": "execute_result"
    }
   ],
   "source": [
    "np.linalg.det\n",
    "np.linalg.norm\n",
    "np.linalg.matrix_rank"
   ]
  },
  {
   "cell_type": "code",
   "execution_count": 48,
   "id": "81fd1e3c-fa15-4c52-af80-3b58894f8b56",
   "metadata": {},
   "outputs": [
    {
     "data": {
      "text/plain": [
       "array([ 1.,  2.,  3.,  4.,  5.,  6.,  7.,  8.,  9., 10.])"
      ]
     },
     "execution_count": 48,
     "metadata": {},
     "output_type": "execute_result"
    }
   ],
   "source": [
    "np.random.randint(1, 2, size=3)\n",
    "np.random.choice([1, 2, 3, 4], p=[0.1, 0.8, 0.1, 0])\n",
    "np.random.rand(2, 2)\n",
    "np.random.randn(2, 1)\n",
    "np.random.random((2,1))\n",
    "\n",
    "np.linspace(1, 10, 10)"
   ]
  },
  {
   "cell_type": "code",
   "execution_count": 68,
   "id": "5d4f5931-a0ff-4585-9e15-a732a102baef",
   "metadata": {},
   "outputs": [
    {
     "ename": "TypeError",
     "evalue": "stack() missing 1 required positional argument: 'arrays'",
     "output_type": "error",
     "traceback": [
      "\u001b[1;31m---------------------------------------------------------------------------\u001b[0m",
      "\u001b[1;31mTypeError\u001b[0m                                 Traceback (most recent call last)",
      "Cell \u001b[1;32mIn[68], line 3\u001b[0m\n\u001b[0;32m      1\u001b[0m np\u001b[38;5;241m.\u001b[39mconcatenate([np\u001b[38;5;241m.\u001b[39marray([\u001b[38;5;241m3\u001b[39m, \u001b[38;5;241m1\u001b[39m, \u001b[38;5;241m2\u001b[39m]), np\u001b[38;5;241m.\u001b[39marray([\u001b[38;5;241m2\u001b[39m, \u001b[38;5;241m3\u001b[39m,\u001b[38;5;241m4\u001b[39m])])\n\u001b[0;32m      2\u001b[0m np\u001b[38;5;241m.\u001b[39mc_[np\u001b[38;5;241m.\u001b[39marray([\u001b[38;5;241m1\u001b[39m,\u001b[38;5;241m2\u001b[39m,\u001b[38;5;241m3\u001b[39m]), np\u001b[38;5;241m.\u001b[39marray([\u001b[38;5;241m4\u001b[39m,\u001b[38;5;241m5\u001b[39m,\u001b[38;5;241m6\u001b[39m])]\n\u001b[1;32m----> 3\u001b[0m np\u001b[38;5;241m.\u001b[39mstack()\n\u001b[0;32m      4\u001b[0m np\u001b[38;5;241m.\u001b[39mvstack()\n\u001b[0;32m      5\u001b[0m np\u001b[38;5;241m.\u001b[39mhstack()\n",
      "\u001b[1;31mTypeError\u001b[0m: stack() missing 1 required positional argument: 'arrays'"
     ]
    }
   ],
   "source": [
    "np.concatenate([np.array([3, 1, 2]), np.array([2, 3,4])])\n",
    "np.c_[np.array([1,2,3]), np.array([4,5,6])]\n",
    "np.stack()\n",
    "np.vstack()\n",
    "np.hstack()"
   ]
  },
  {
   "cell_type": "code",
   "execution_count": 69,
   "id": "ad55fc1f-fafb-404d-99aa-de062ef39237",
   "metadata": {},
   "outputs": [
    {
     "data": {
      "text/plain": [
       "array([[0., 0., 0.],\n",
       "       [0., 0., 0.]])"
      ]
     },
     "execution_count": 69,
     "metadata": {},
     "output_type": "execute_result"
    }
   ],
   "source": [
    "np.zeros((2, 3))"
   ]
  },
  {
   "cell_type": "code",
   "execution_count": null,
   "id": "d57a911c-d576-45f0-a4b8-7b7522336a43",
   "metadata": {},
   "outputs": [],
   "source": []
  }
 ],
 "metadata": {
  "kernelspec": {
   "display_name": "Python 3 (ipykernel)",
   "language": "python",
   "name": "python3"
  },
  "language_info": {
   "codemirror_mode": {
    "name": "ipython",
    "version": 3
   },
   "file_extension": ".py",
   "mimetype": "text/x-python",
   "name": "python",
   "nbconvert_exporter": "python",
   "pygments_lexer": "ipython3",
   "version": "3.12.3"
  }
 },
 "nbformat": 4,
 "nbformat_minor": 5
}
