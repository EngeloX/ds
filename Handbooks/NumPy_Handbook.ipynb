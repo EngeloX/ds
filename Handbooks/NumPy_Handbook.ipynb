{
 "cells": [
  {
   "cell_type": "markdown",
   "id": "59f351ba-6349-4452-9a23-a22803970e51",
   "metadata": {},
   "source": [
    "### Функции"
   ]
  },
  {
   "cell_type": "markdown",
   "id": "4d2b6009-c911-486f-942c-4f06952b2994",
   "metadata": {},
   "source": [
    "##### np.stack()"
   ]
  },
  {
   "cell_type": "markdown",
   "id": "2ee8dd52-a6c2-4f08-8726-0f89d2d833ae",
   "metadata": {},
   "source": [
    "##### np.hstack()"
   ]
  },
  {
   "cell_type": "markdown",
   "id": "f1197ef3-bbcb-415c-9183-139292c1f080",
   "metadata": {},
   "source": [
    "##### np.vstack()"
   ]
  },
  {
   "cell_type": "markdown",
   "id": "8d9f7711-fac3-4c76-b6c4-bfc82f11a0b7",
   "metadata": {},
   "source": [
    "##### np.reshape()"
   ]
  },
  {
   "cell_type": "markdown",
   "id": "d730f1f2-bbd5-440d-9112-a8aa50a877e1",
   "metadata": {},
   "source": [
    "##### np.resize()"
   ]
  },
  {
   "cell_type": "markdown",
   "id": "96e6f50c-269d-4f49-b396-448edd4de1f8",
   "metadata": {},
   "source": [
    "### Срезы"
   ]
  },
  {
   "cell_type": "code",
   "execution_count": null,
   "id": "7004917c-8a5f-40bd-a6fb-f7270f0802bc",
   "metadata": {},
   "outputs": [],
   "source": []
  }
 ],
 "metadata": {
  "kernelspec": {
   "display_name": "Python 3 (ipykernel)",
   "language": "python",
   "name": "python3"
  },
  "language_info": {
   "codemirror_mode": {
    "name": "ipython",
    "version": 3
   },
   "file_extension": ".py",
   "mimetype": "text/x-python",
   "name": "python",
   "nbconvert_exporter": "python",
   "pygments_lexer": "ipython3",
   "version": "3.12.7"
  }
 },
 "nbformat": 4,
 "nbformat_minor": 5
}
