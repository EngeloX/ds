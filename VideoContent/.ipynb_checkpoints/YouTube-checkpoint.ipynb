{
 "cells": [
  {
   "cell_type": "markdown",
   "id": "012a960c-026b-48fa-a1a0-f2f3159586ff",
   "metadata": {},
   "source": [
    "**1)** `Хороший YT канал по машинному обучению с лекциями и практическими примерами:` https://www.youtube.com/@machine_learrrning/videos"
   ]
  },
  {
   "cell_type": "code",
   "execution_count": null,
   "id": "099e57c8-4c72-4685-bcae-711ac4030866",
   "metadata": {},
   "outputs": [],
   "source": []
  }
 ],
 "metadata": {
  "kernelspec": {
   "display_name": "Python 3 (ipykernel)",
   "language": "python",
   "name": "python3"
  },
  "language_info": {
   "codemirror_mode": {
    "name": "ipython",
    "version": 3
   },
   "file_extension": ".py",
   "mimetype": "text/x-python",
   "name": "python",
   "nbconvert_exporter": "python",
   "pygments_lexer": "ipython3",
   "version": "3.12.7"
  }
 },
 "nbformat": 4,
 "nbformat_minor": 5
}
