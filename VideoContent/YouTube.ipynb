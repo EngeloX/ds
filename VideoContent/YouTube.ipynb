{
 "cells": [
  {
   "cell_type": "markdown",
   "id": "012a960c-026b-48fa-a1a0-f2f3159586ff",
   "metadata": {},
   "source": [
    "**1)** `Хороший YT канал по машинному обучению с лекциями и практическими примерами:` \\\n",
    "https://www.youtube.com/@machine_learrrning/videos"
   ]
  },
  {
   "cell_type": "markdown",
   "id": "ce042e82",
   "metadata": {},
   "source": [
    "**2)** `Плейлист лекций по математической статистики:` https://www.youtube.com/playlist?list=PLlb7e2G7aSpRIiB5S5ld-3nxxVAH5cyAc"
   ]
  },
  {
   "cell_type": "markdown",
   "id": "04759ec9",
   "metadata": {},
   "source": [
    "Небольшие \\\n",
    "**3.1)** Теория вероятности: https://www.youtube.com/playlist?list=PLA0M1Bcd0w8w_eWvXGgWc3ukSUuJmbPps \\\n",
    "**3.2)** Векторы и преобразования: https://www.youtube.com/playlist?list=PLA0M1Bcd0w8xcPNkaqqRzmh4FEWTB671A"
   ]
  },
  {
   "cell_type": "markdown",
   "id": "2f08af24",
   "metadata": {},
   "source": [
    "**4.1)** Essense of Linear Algebra: https://www.youtube.com/playlist?list=PLVjLpKXnAGLXPaS7FRBjd5yZeXwJxZil2 \\\n",
    "**4.2)** Essense of Calculus: https://www.youtube.com/playlist?list=PLVjLpKXnAGLVbrcJdDb0a2RS6MmRCgxJz"
   ]
  },
  {
   "cell_type": "markdown",
   "id": "79e46846",
   "metadata": {},
   "source": [
    "**5)** `Длинное вводное видео в EDA:` https://www.youtube.com/watch?v=dd3RcafdOQk"
   ]
  },
  {
   "cell_type": "markdown",
   "id": "053551c5",
   "metadata": {},
   "source": [
    "https://www.youtube.com/watch?v=2uvysYbKdjM"
   ]
  },
  {
   "cell_type": "markdown",
   "id": "ae225db5",
   "metadata": {},
   "source": []
  }
 ],
 "metadata": {
  "kernelspec": {
   "display_name": "Python 3 (ipykernel)",
   "language": "python",
   "name": "python3"
  },
  "language_info": {
   "codemirror_mode": {
    "name": "ipython",
    "version": 3
   },
   "file_extension": ".py",
   "mimetype": "text/x-python",
   "name": "python",
   "nbconvert_exporter": "python",
   "pygments_lexer": "ipython3",
   "version": "3.12.7"
  }
 },
 "nbformat": 4,
 "nbformat_minor": 5
}
