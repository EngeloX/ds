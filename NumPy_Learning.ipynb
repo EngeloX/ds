{
 "cells": [
  {
   "cell_type": "code",
   "execution_count": 1,
   "id": "0d91a9f4-0d48-4746-809a-d619a2c9ffda",
   "metadata": {},
   "outputs": [],
   "source": [
    "import numpy as np"
   ]
  },
  {
   "cell_type": "code",
   "execution_count": 2,
   "id": "4946834c-f79c-4e06-8a01-65d19386d9c7",
   "metadata": {},
   "outputs": [
    {
     "data": {
      "text/plain": [
       "'1.26.4'"
      ]
     },
     "execution_count": 2,
     "metadata": {},
     "output_type": "execute_result"
    }
   ],
   "source": [
    "np.__version__"
   ]
  },
  {
   "cell_type": "markdown",
   "id": "02fd4052-9b82-457a-8956-d25e748928fc",
   "metadata": {},
   "source": [
    "### **Создание массива NumPy**"
   ]
  },
  {
   "cell_type": "markdown",
   "id": "26125043-7275-4ad0-9070-31debf4baf0e",
   "metadata": {
    "jp-MarkdownHeadingCollapsed": true
   },
   "source": [
    "Создание массива NumPy из списка"
   ]
  },
  {
   "cell_type": "code",
   "execution_count": 3,
   "id": "cbf3b974-b3f9-40f9-80e0-fd8a6c0fdfe1",
   "metadata": {},
   "outputs": [
    {
     "data": {
      "text/plain": [
       "array([1, 2, 3, 4, 5])"
      ]
     },
     "execution_count": 3,
     "metadata": {},
     "output_type": "execute_result"
    }
   ],
   "source": [
    "np.array([1, 2, 3, 4, 5])"
   ]
  },
  {
   "cell_type": "code",
   "execution_count": 4,
   "id": "d6c7cd81-d910-4c36-97e8-fc25a0a8d624",
   "metadata": {},
   "outputs": [
    {
     "data": {
      "text/plain": [
       "array([10, 20, 30, 40, 50, 60], dtype=int8)"
      ]
     },
     "execution_count": 4,
     "metadata": {},
     "output_type": "execute_result"
    }
   ],
   "source": [
    "# Явное задание типа через аргумент dtype\n",
    "PythonList = [10, 20, 30, 40, 50, 60]\n",
    "np.array(PythonList, dtype='int8')"
   ]
  },
  {
   "cell_type": "markdown",
   "id": "96a41e49-3756-4f17-b901-f1d0933a1ef4",
   "metadata": {},
   "source": [
    "Задание многомерного массива"
   ]
  },
  {
   "cell_type": "code",
   "execution_count": 5,
   "id": "b1dad2fc-083b-4787-8cc9-d76df6a51002",
   "metadata": {},
   "outputs": [],
   "source": [
    "# Вложенные списки преобразуются в многомерный массив"
   ]
  },
  {
   "cell_type": "code",
   "execution_count": 6,
   "id": "43889aab-aae6-421e-864e-c432180341b3",
   "metadata": {},
   "outputs": [
    {
     "data": {
      "text/plain": [
       "array([[2, 3, 4],\n",
       "       [4, 5, 6],\n",
       "       [6, 7, 8]])"
      ]
     },
     "execution_count": 6,
     "metadata": {},
     "output_type": "execute_result"
    }
   ],
   "source": [
    "np.array([range(i, i+3) for i in [2, 4, 6]])"
   ]
  },
  {
   "cell_type": "markdown",
   "id": "07b657f6-d898-4f47-a46f-7a30a3f6f93f",
   "metadata": {},
   "source": [
    "### **Создание массивов с нуля**"
   ]
  },
  {
   "cell_type": "markdown",
   "id": "6302e968-303a-4a10-a5b1-8b59cffa615b",
   "metadata": {},
   "source": [
    "**np.zeros** - Создание массива заполненного нулями\n"
   ]
  },
  {
   "cell_type": "code",
   "execution_count": 7,
   "id": "4eba9b22-1940-4295-8acb-ae2eb579cbfd",
   "metadata": {},
   "outputs": [
    {
     "name": "stdout",
     "output_type": "stream",
     "text": [
      "[0 0 0 0 0 0 0 0 0 0]\n"
     ]
    }
   ],
   "source": [
    "I = np.zeros(10, dtype=int) # Целочисленный\n",
    "B = np.zeros(10, dtype=bool) # Булевый\n",
    "F = np.zeros(10, dtype=float) # Вещественный\n",
    "print(I)"
   ]
  },
  {
   "cell_type": "markdown",
   "id": "9b52f3e8-009b-4296-b4ba-14b6d836f9b2",
   "metadata": {},
   "source": [
    "**np.ones** - Создание массива заполненного единицами"
   ]
  },
  {
   "cell_type": "code",
   "execution_count": 8,
   "id": "4f6a4b38-eb69-4f16-b738-e951403c2f46",
   "metadata": {},
   "outputs": [
    {
     "data": {
      "text/plain": [
       "array([[1, 1, 1, 1, 1],\n",
       "       [1, 1, 1, 1, 1],\n",
       "       [1, 1, 1, 1, 1]])"
      ]
     },
     "execution_count": 8,
     "metadata": {},
     "output_type": "execute_result"
    }
   ],
   "source": [
    "# Массив единиц размерность 3х5(строк х столбцов)\n",
    "np.ones((3, 5), dtype=int) "
   ]
  },
  {
   "cell_type": "markdown",
   "id": "2a6c63a1-7062-48e2-9ee5-399ffc9d3c30",
   "metadata": {},
   "source": [
    "**np.full** - Создание массива заполненного произвольным значением"
   ]
  },
  {
   "cell_type": "code",
   "execution_count": 9,
   "id": "49106cd2-3b99-49da-8370-5b1443eccbe6",
   "metadata": {},
   "outputs": [
    {
     "data": {
      "text/plain": [
       "array([[3.14159265, 3.14159265, 3.14159265, 3.14159265],\n",
       "       [3.14159265, 3.14159265, 3.14159265, 3.14159265]])"
      ]
     },
     "execution_count": 9,
     "metadata": {},
     "output_type": "execute_result"
    }
   ],
   "source": [
    "from math import pi\n",
    "np.full((2, 4), pi)"
   ]
  },
  {
   "cell_type": "markdown",
   "id": "fc2d0c6f-2727-4925-9327-cf0b4e2f4467",
   "metadata": {},
   "source": [
    "**np.arange** - Создание заполненного линейное последовательностью"
   ]
  },
  {
   "cell_type": "code",
   "execution_count": 10,
   "id": "cff1442b-0e81-485f-862d-2c40827dd7a1",
   "metadata": {},
   "outputs": [
    {
     "data": {
      "text/plain": [
       "array([ 0,  1,  2,  3,  4,  5,  6,  7,  8,  9, 10])"
      ]
     },
     "execution_count": 10,
     "metadata": {},
     "output_type": "execute_result"
    }
   ],
   "source": [
    "# Аргументы аналогичны python-функции range()\n",
    "np.arange(0, 10+1, 1)"
   ]
  },
  {
   "cell_type": "markdown",
   "id": "94b2910e-9d16-4bfa-9281-1ccaddcd02b8",
   "metadata": {},
   "source": [
    "**np.linspace** - создание массива из равномерно распределенных значений"
   ]
  },
  {
   "cell_type": "code",
   "execution_count": 11,
   "id": "d2502330-7427-491b-9534-3ddb5198f4e0",
   "metadata": {},
   "outputs": [
    {
     "data": {
      "text/plain": [
       "array([1, 2, 3, 4, 5])"
      ]
     },
     "execution_count": 11,
     "metadata": {},
     "output_type": "execute_result"
    }
   ],
   "source": [
    "# Последовательность в 5 элементов(3arg) от 1(1arg) до 5(включительно)(2arg)\n",
    "np.linspace(1, 5, 5, dtype=int)"
   ]
  },
  {
   "cell_type": "markdown",
   "id": "35b692a9-8e62-4a27-95ae-8bcf0d829e74",
   "metadata": {},
   "source": [
    "**np.random.random** - Создание массива заполненного случайными значениями от 0 до 1"
   ]
  },
  {
   "cell_type": "code",
   "execution_count": 12,
   "id": "4c64397d-5308-459b-beda-1639f9e7f32a",
   "metadata": {},
   "outputs": [
    {
     "data": {
      "text/plain": [
       "array([[0.04276621, 0.49496637, 0.9440129 ],\n",
       "       [0.32283258, 0.18965756, 0.03408055],\n",
       "       [0.18694004, 0.22115887, 0.11384661]])"
      ]
     },
     "execution_count": 12,
     "metadata": {},
     "output_type": "execute_result"
    }
   ],
   "source": [
    "np.random.random((3, 3))"
   ]
  },
  {
   "cell_type": "markdown",
   "id": "5917691f-1aa7-4e5d-9918-77fb62d5a144",
   "metadata": {},
   "source": [
    "**np.random.normal** - Создание массива нормального распределенных случайных значений"
   ]
  },
  {
   "cell_type": "code",
   "execution_count": 13,
   "id": "06207582-6c4b-4095-b49c-9d8000df0ddb",
   "metadata": {},
   "outputs": [
    {
     "name": "stdout",
     "output_type": "stream",
     "text": [
      "[-1.57613751  1.23431453  0.36991662 -1.46960321  2.6840998 ]\n"
     ]
    }
   ],
   "source": [
    "# Математическое ожидание - 0(1arg) Стандартное отклонение - 1(2arg) Размерность массива (3arg)\n",
    "RN = np.random.normal(0, 1, 5)\n",
    "print(RN)\n"
   ]
  },
  {
   "cell_type": "markdown",
   "id": "9410ffce-1a7f-466b-94a6-7c9350696231",
   "metadata": {},
   "source": [
    "**np.median** - Возвращает медиану массива\n",
    "\n",
    "*Медиана - число, которое является серединой множества чисел, то есть половина чисел имеют значения большие, чем медиана, а половина чисел имеют значения меньшие(т.е. среднее арифметическое)*"
   ]
  },
  {
   "cell_type": "code",
   "execution_count": 14,
   "id": "655790f5-72e4-470a-8edc-a65ea7186af8",
   "metadata": {},
   "outputs": [
    {
     "name": "stdout",
     "output_type": "stream",
     "text": [
      "0.3699166248150711\n"
     ]
    }
   ],
   "source": [
    "med = np.median(RN)\n",
    "print(med)"
   ]
  },
  {
   "cell_type": "markdown",
   "id": "af01b136-ae00-4158-9385-5a1ae5fe7131",
   "metadata": {},
   "source": [
    "**np.random.randint** - Создание массива случайных целых чисел заданным промежуток и размером"
   ]
  },
  {
   "cell_type": "code",
   "execution_count": 15,
   "id": "f0236c53-696c-4a78-b1aa-111902de71e7",
   "metadata": {},
   "outputs": [
    {
     "data": {
      "text/plain": [
       "array([8, 8, 9, 6, 5])"
      ]
     },
     "execution_count": 15,
     "metadata": {},
     "output_type": "execute_result"
    }
   ],
   "source": [
    "np.random.randint(1, 10, 5, dtype=int)"
   ]
  },
  {
   "cell_type": "markdown",
   "id": "211751cf-6cb5-4a2c-9f77-2d439099d9d2",
   "metadata": {},
   "source": [
    "**np.eye** - Создание единичной квадратной матрицы(Единицы по главной диагонали)"
   ]
  },
  {
   "cell_type": "code",
   "execution_count": 16,
   "id": "59cf5858-c059-44da-b56c-4e52edc762ed",
   "metadata": {},
   "outputs": [
    {
     "data": {
      "text/plain": [
       "array([[1, 0, 0],\n",
       "       [0, 1, 0],\n",
       "       [0, 0, 1]])"
      ]
     },
     "execution_count": 16,
     "metadata": {},
     "output_type": "execute_result"
    }
   ],
   "source": [
    "np.eye(3, dtype=int)"
   ]
  },
  {
   "cell_type": "markdown",
   "id": "5ac40eff-0cbf-4b84-aeee-2f2ac4c16546",
   "metadata": {},
   "source": [
    "**np.empty** - Создание массива, заполненного \"мусорными\" значениями\n",
    "\n",
    "*Мусорные значения - произвольные значения, не имеющие смысла из случайных ячеек памяти*"
   ]
  },
  {
   "cell_type": "code",
   "execution_count": 17,
   "id": "42adfc52-f148-416b-90ba-b7e80085db4f",
   "metadata": {},
   "outputs": [
    {
     "data": {
      "text/plain": [
       "array([9.94980044e-312, 0.00000000e+000, 4.94065646e-324])"
      ]
     },
     "execution_count": 17,
     "metadata": {},
     "output_type": "execute_result"
    }
   ],
   "source": [
    "np.empty(3)"
   ]
  },
  {
   "cell_type": "markdown",
   "id": "db21b938-e8b5-4508-908a-2b1b69221a40",
   "metadata": {
    "jp-MarkdownHeadingCollapsed": true
   },
   "source": [
    "### **Типы данных NumPy**"
   ]
  },
  {
   "cell_type": "markdown",
   "id": "9c876638-b4fd-46aa-aa28-132e1b0187e9",
   "metadata": {},
   "source": [
    "Типы данных для инициализации массива указываются через аргумент **dtype** с помощью **строки** или соответствующего **объекта NumPy** \\\n",
    "**np.array**([1, 2, 3], dtype='int8') \\\n",
    "**np.array**([1, 2, 3], dtype=np.int8)"
   ]
  },
  {
   "cell_type": "markdown",
   "id": "5cfc9b87-91f3-4581-962e-5e10dd81801e",
   "metadata": {},
   "source": [
    "### **Атрибуты массивов библиотеки NumPy**"
   ]
  },
  {
   "cell_type": "code",
   "execution_count": 18,
   "id": "e909ab14-6dec-4fa7-ad64-ba324d1d0e20",
   "metadata": {},
   "outputs": [],
   "source": [
    "np.random.seed(0) #Начальное значения сида для одинаковой воспроизводимости\n",
    "arr = np.random.randint(10, size=(3,4))"
   ]
  },
  {
   "cell_type": "markdown",
   "id": "56d655e0-aa0f-4a4c-89e3-e81d8b170d8d",
   "metadata": {},
   "source": [
    "**ndim** - Размерность массива"
   ]
  },
  {
   "cell_type": "code",
   "execution_count": 19,
   "id": "a2d7e2ab-8eb4-4de7-92c7-f575becba47b",
   "metadata": {},
   "outputs": [
    {
     "data": {
      "text/plain": [
       "2"
      ]
     },
     "execution_count": 19,
     "metadata": {},
     "output_type": "execute_result"
    }
   ],
   "source": [
    "arr.ndim"
   ]
  },
  {
   "cell_type": "markdown",
   "id": "55a09ce6-1ad2-4da0-b17d-429f4a58ddd1",
   "metadata": {},
   "source": [
    "**size** - Общий размер массива (Количество элементов в нем)"
   ]
  },
  {
   "cell_type": "code",
   "execution_count": 20,
   "id": "0df9f7eb-2d3e-445b-9a54-f811e6c2c8aa",
   "metadata": {},
   "outputs": [
    {
     "data": {
      "text/plain": [
       "12"
      ]
     },
     "execution_count": 20,
     "metadata": {},
     "output_type": "execute_result"
    }
   ],
   "source": [
    "arr.size"
   ]
  },
  {
   "cell_type": "markdown",
   "id": "b232a228-3761-46f4-bda8-4ce75087e435",
   "metadata": {},
   "source": [
    "**dtype** - Тип данных массива (Все элементы массива имеют одинаковый тип данных)"
   ]
  },
  {
   "cell_type": "code",
   "execution_count": 21,
   "id": "2383d339-f1d5-480b-be2e-dfac313b01d7",
   "metadata": {},
   "outputs": [
    {
     "data": {
      "text/plain": [
       "dtype('int32')"
      ]
     },
     "execution_count": 21,
     "metadata": {},
     "output_type": "execute_result"
    }
   ],
   "source": [
    "arr.dtype"
   ]
  },
  {
   "cell_type": "markdown",
   "id": "11095907-92ce-4973-95f2-29fafa3c72f4",
   "metadata": {},
   "source": [
    "**itemsize** - размер(в байтах) каждого элемента массива\\\n",
    "**nbytes** - Полный размер массива(в байтах)"
   ]
  },
  {
   "cell_type": "code",
   "execution_count": 22,
   "id": "f35c24fb-979f-4820-89be-9365fd363e0b",
   "metadata": {},
   "outputs": [
    {
     "data": {
      "text/plain": [
       "4"
      ]
     },
     "execution_count": 22,
     "metadata": {},
     "output_type": "execute_result"
    }
   ],
   "source": [
    "arr.itemsize"
   ]
  },
  {
   "cell_type": "code",
   "execution_count": 23,
   "id": "5910239b-4a17-4ce9-8584-e040612315fe",
   "metadata": {},
   "outputs": [
    {
     "data": {
      "text/plain": [
       "48"
      ]
     },
     "execution_count": 23,
     "metadata": {},
     "output_type": "execute_result"
    }
   ],
   "source": [
    "arr.nbytes"
   ]
  },
  {
   "cell_type": "markdown",
   "id": "72eecfa6-50cf-4132-88f8-cffbf24f22b0",
   "metadata": {},
   "source": [
    "### **Срезы массивов (Slices) - 70**"
   ]
  },
  {
   "cell_type": "markdown",
   "id": "03301753-2f58-4e21-9a35-cd6fc8ce73d0",
   "metadata": {
    "jp-MarkdownHeadingCollapsed": true
   },
   "source": [
    "### **Изменение формы массива - 74**"
   ]
  },
  {
   "cell_type": "markdown",
   "id": "c9102db2-6d40-47f5-a42a-2f072f734fe5",
   "metadata": {},
   "source": [
    "### **Вычисления над массивами NumPy: универсальные функции**"
   ]
  },
  {
   "cell_type": "markdown",
   "id": "e08f1608-e9ad-403b-a87b-678426cbffeb",
   "metadata": {},
   "source": [
    "**Векторизованные операции** - операции, применяемые к массиву применяются к каждому из его элементов. \\\n",
    "Универсальные функции(**ufuncs**) - реализация векторизованных операций над массивами.Векторизованный подход спроектирован так, чтобы переносить цикл в скомпилированный слой, лежащий в основе библиотеки **NumPy** \\\n",
    "\\\n",
    "Существуют 2 вида универсальных функций - *унарные* и *бинарные* \\\n",
    "Выполняются либо посредством стандартных арифметических операций, либо посредством специализированных аналогов функций **NumPy**"
   ]
  },
  {
   "cell_type": "code",
   "execution_count": 24,
   "id": "0057ac46-2dc0-4237-87c7-98292244e6db",
   "metadata": {},
   "outputs": [
    {
     "name": "stdout",
     "output_type": "stream",
     "text": [
      "[10 20 30 40 50]\n"
     ]
    }
   ],
   "source": [
    "x = np.arange(10, 51, 10)\n",
    "print(x)"
   ]
  },
  {
   "cell_type": "code",
   "execution_count": 25,
   "id": "5d92d18f-ba71-4449-b298-b44a2b2e0f50",
   "metadata": {},
   "outputs": [
    {
     "name": "stdout",
     "output_type": "stream",
     "text": [
      "[15 25 35 45 55]\n",
      "[ 5 15 25 35 45]\n",
      "[ 50 100 150 200 250]\n",
      "[ 2.  4.  6.  8. 10.]\n",
      "[ 2  4  6  8 10]\n",
      "[-10 -20 -30 -40 -50]\n",
      "[ 100  400  900 1600 2500]\n",
      "[0 0 0 0 0]\n",
      "[10 20 30 40 50]\n"
     ]
    }
   ],
   "source": [
    "print(x+5) # Сложение\n",
    "print(x-5) # Вычитание\n",
    "print(x*5) # Умножение\n",
    "print(x/5) # Деление\n",
    "print(x//5) # Деление без остатка(с округлением)\n",
    "print(-x) # Смена знака\n",
    "print(x**2) # Возведение в степень\n",
    "print(x%5) # Остаток от деления\n",
    "print(abs(x)) # Модуль"
   ]
  },
  {
   "cell_type": "code",
   "execution_count": 26,
   "id": "2108967a-5f19-49b4-a9b5-8051217892e9",
   "metadata": {},
   "outputs": [
    {
     "name": "stdout",
     "output_type": "stream",
     "text": [
      "[15 25 35 45 55]\n",
      "[ 5 15 25 35 45]\n",
      "[ 50 100 150 200 250]\n",
      "[ 2.  4.  6.  8. 10.]\n",
      "[ 2  4  6  8 10]\n",
      "[-10 -20 -30 -40 -50]\n",
      "[ 100  400  900 1600 2500]\n",
      "[0 0 0 0 0]\n",
      "[10 20 30 40 50]\n"
     ]
    }
   ],
   "source": [
    "print(np.add(x, 5)) # Сложение\n",
    "print(np.subtract(x, 5)) # Вычитание\n",
    "print(np.multiply(x, 5)) # Умножение\n",
    "print(np.divide(x, 5)) # Деление\n",
    "print(np.floor_divide(x, 5)) # Деление без остатка(с округлением)\n",
    "print(np.negative(x)) # Смена знака\n",
    "print(np.power(x, 2)) # Возведение в степень\n",
    "print(np.mod(x, 5)) # Остаток от деления\n",
    "print(np.abs(x)) # Модуль"
   ]
  },
  {
   "cell_type": "code",
   "execution_count": 27,
   "id": "4287a927-95cf-4d8d-adf9-51a347c02e28",
   "metadata": {},
   "outputs": [
    {
     "name": "stdout",
     "output_type": "stream",
     "text": [
      "[   0  100  400  900 1600]\n"
     ]
    }
   ],
   "source": [
    "# Операции можно комбинировать любым способом с соблюдением стандартного приоритета выполнения операций и скобок\n",
    "print((x-10)**2)"
   ]
  },
  {
   "cell_type": "markdown",
   "id": "75ffa19b-9e4c-4436-b70d-edf3859b2238",
   "metadata": {},
   "source": [
    "#### **Тригонометрические функции - 82**"
   ]
  },
  {
   "cell_type": "code",
   "execution_count": 28,
   "id": "80462097-fcbe-42ac-af1d-abf8effe9097",
   "metadata": {},
   "outputs": [],
   "source": [
    "theta = np.array([0, np.pi, 3])"
   ]
  },
  {
   "cell_type": "markdown",
   "id": "92131956-3e0d-4c94-af99-da45955ff6bf",
   "metadata": {},
   "source": [
    "**Реализация стандартных тригонометрических функций**"
   ]
  },
  {
   "cell_type": "code",
   "execution_count": 29,
   "id": "746a2853-e7fc-40cf-a21b-6fd6d4f74c7b",
   "metadata": {},
   "outputs": [
    {
     "name": "stdout",
     "output_type": "stream",
     "text": [
      "[0.00000000e+00 1.22464680e-16 1.41120008e-01]\n",
      "[ 1.        -1.        -0.9899925]\n",
      "[ 0.00000000e+00 -1.22464680e-16 -1.42546543e-01]\n"
     ]
    }
   ],
   "source": [
    "print(np.sin(theta)) # синус\n",
    "print(np.cos(theta)) # косинус\n",
    "print(np.tan(theta)) # тангенс"
   ]
  },
  {
   "cell_type": "markdown",
   "id": "bb6898a6-e605-47b2-9246-b248301641a6",
   "metadata": {},
   "source": [
    "**Обратные тригонометрические функции**"
   ]
  },
  {
   "cell_type": "code",
   "execution_count": 30,
   "id": "3fe472d8-161a-444a-87a0-e3e325074e32",
   "metadata": {},
   "outputs": [],
   "source": [
    "x = [-1, 0, 1]"
   ]
  },
  {
   "cell_type": "code",
   "execution_count": 31,
   "id": "fb09ce94-9669-4f5e-82dd-388e4bcec44a",
   "metadata": {},
   "outputs": [
    {
     "name": "stdout",
     "output_type": "stream",
     "text": [
      "[-1.57079633  0.          1.57079633]\n",
      "[3.14159265 1.57079633 0.        ]\n",
      "[-0.78539816  0.          0.78539816]\n"
     ]
    }
   ],
   "source": [
    "print(np.arcsin(x)) # арксинус\n",
    "print(np.arccos(x)) # арккосинус\n",
    "print(np.arctan(x)) # арктангенс"
   ]
  },
  {
   "cell_type": "markdown",
   "id": "892562d3-c176-4787-ab23-a0f2fc6a38fc",
   "metadata": {},
   "source": [
    "**Показательные функции**"
   ]
  },
  {
   "cell_type": "code",
   "execution_count": 32,
   "id": "dfbe33b5-832f-49d5-b0af-cf4c1a14b1cf",
   "metadata": {},
   "outputs": [],
   "source": [
    "x = [1, 2, 3]"
   ]
  },
  {
   "cell_type": "code",
   "execution_count": 33,
   "id": "adbb727d-44fd-409f-b1c0-553fa181a924",
   "metadata": {},
   "outputs": [
    {
     "name": "stdout",
     "output_type": "stream",
     "text": [
      "[ 2.71828183  7.3890561  20.08553692]\n",
      "[2. 4. 8.]\n",
      "[ 3  9 27]\n"
     ]
    }
   ],
   "source": [
    "print(np.exp(x)) # e^x (экспонента в степени массива поэлементно)\n",
    "print(np.exp2(x)) # 2^x (2 в степени массива поэлементно)\n",
    "print(np.power(3, x)) # 3^x (возведение в степени массива поэлементно)"
   ]
  },
  {
   "cell_type": "markdown",
   "id": "c011d5f7-d231-435c-8225-a154b1490af3",
   "metadata": {},
   "source": [
    "**Некоторые специализированные версии функций, удобные для сохранения точности при очень маленьких вводимых значениях** \\\n",
    "При очень малых значениях элементов вектора x данные функции возвращают \\\n",
    "намного более точные результаты, чем обычные функции **np.log** и **np.exp**"
   ]
  },
  {
   "cell_type": "code",
   "execution_count": 34,
   "id": "c049cfc5-9bfc-45dc-8d13-dccc834182d5",
   "metadata": {},
   "outputs": [
    {
     "name": "stdout",
     "output_type": "stream",
     "text": [
      "[ 1.71828183  6.3890561  19.08553692]\n",
      "[0.69314718 1.09861229 1.38629436]\n"
     ]
    }
   ],
   "source": [
    "print(np.expm1(x)) # exp(x)-1\n",
    "print(np.log1p(x)) # log(1-x)"
   ]
  },
  {
   "cell_type": "markdown",
   "id": "cfe3e36e-6f60-4564-ab00-53082f24df25",
   "metadata": {},
   "source": [
    "**Продвинутые возможности универсальных функций**"
   ]
  },
  {
   "cell_type": "markdown",
   "id": "3cd581bb-6086-40a1-81b9-1146d70fe4c2",
   "metadata": {},
   "source": [
    "**Указание массива для вывода результата**"
   ]
  },
  {
   "cell_type": "code",
   "execution_count": 35,
   "id": "6d0f235c-1622-4a5a-991b-eff3866462b5",
   "metadata": {},
   "outputs": [],
   "source": [
    "x = np.arange(1, 6) # Исходный массив\n",
    "y = np.empty(5) # Массив для вывода, инициализированный \"мусорными\" значениями"
   ]
  },
  {
   "cell_type": "code",
   "execution_count": 36,
   "id": "d982d425-19c8-4788-bf27-f0a9c3835786",
   "metadata": {},
   "outputs": [
    {
     "name": "stdout",
     "output_type": "stream",
     "text": [
      "[10. 20. 30. 40. 50.]\n"
     ]
    }
   ],
   "source": [
    "np.multiply(x, 10, out=y)\n",
    "print(y)"
   ]
  },
  {
   "cell_type": "markdown",
   "id": "f92c42d6-80e3-40fa-b06a-c95105166627",
   "metadata": {},
   "source": [
    "**Сводные показатели** \\\n",
    "**reduce** - Дополнительный метод-модификатор для арифметических операций над массивами применяет арифметическую функцию ко всем элементам массива"
   ]
  },
  {
   "cell_type": "code",
   "execution_count": 37,
   "id": "bc744de9-b7d8-44c8-a7f3-d9a4acfcea7c",
   "metadata": {},
   "outputs": [
    {
     "name": "stdout",
     "output_type": "stream",
     "text": [
      "[1 2 3 4 5]\n"
     ]
    }
   ],
   "source": [
    "x = np.arange(1, 6)\n",
    "print(x)"
   ]
  },
  {
   "cell_type": "code",
   "execution_count": 38,
   "id": "4eca3862-91af-4964-8ddb-47d5de8da5fc",
   "metadata": {},
   "outputs": [
    {
     "name": "stdout",
     "output_type": "stream",
     "text": [
      "15\n",
      "120\n"
     ]
    }
   ],
   "source": [
    "print(np.add.reduce(x)) # Сумма всех элементов массива\n",
    "print(np.multiply.reduce(x)) # Произведение всех элементов массива"
   ]
  },
  {
   "cell_type": "markdown",
   "id": "4f57d68a-aac1-4315-b975-b869ce53e5ab",
   "metadata": {},
   "source": [
    "**accumulate** - Дополнительный метод-модификатор для арифметических операций, сохраняет все промежуточные результаты вычислений(сохраняет результат каждой операции в элемент массива)"
   ]
  },
  {
   "cell_type": "code",
   "execution_count": 39,
   "id": "755d5366-956d-475e-ada3-38a21efa3119",
   "metadata": {},
   "outputs": [
    {
     "name": "stdout",
     "output_type": "stream",
     "text": [
      "[ 1.  3.  6. 10. 15.]\n"
     ]
    }
   ],
   "source": [
    "z = np.empty(5)\n",
    "np.add.accumulate(x, out=z)\n",
    "print(z)"
   ]
  },
  {
   "cell_type": "markdown",
   "id": "d64bd0b2-3dca-4d43-bb02-3fd782e75fea",
   "metadata": {},
   "source": [
    "**outer** - Дополнительный метод-модификатор для арифметических операций, применяет соответствующую операцию ко всем парам двух аргументов"
   ]
  },
  {
   "cell_type": "code",
   "execution_count": 40,
   "id": "1420236a-04e2-4eab-83d6-1421d6b4cf7a",
   "metadata": {},
   "outputs": [
    {
     "name": "stdout",
     "output_type": "stream",
     "text": [
      "[1 2 3 4 5]\n"
     ]
    }
   ],
   "source": [
    "x = np.arange(1, 6)\n",
    "print(x)"
   ]
  },
  {
   "cell_type": "code",
   "execution_count": 41,
   "id": "5ac7c871-2d05-4b4f-a6f6-6279f55c73bf",
   "metadata": {},
   "outputs": [
    {
     "data": {
      "text/plain": [
       "array([[ 1,  2,  3,  4,  5],\n",
       "       [ 2,  4,  6,  8, 10],\n",
       "       [ 3,  6,  9, 12, 15],\n",
       "       [ 4,  8, 12, 16, 20],\n",
       "       [ 5, 10, 15, 20, 25]])"
      ]
     },
     "execution_count": 41,
     "metadata": {},
     "output_type": "execute_result"
    }
   ],
   "source": [
    "np.multiply.outer(x, x)"
   ]
  },
  {
   "cell_type": "markdown",
   "id": "9e235e15-430a-47df-b5db-103daf6d2991",
   "metadata": {},
   "source": [
    "#### **Агрегатные функции**"
   ]
  },
  {
   "cell_type": "code",
   "execution_count": 42,
   "id": "b2656ec3-5189-4836-8d5c-af24047cc17d",
   "metadata": {},
   "outputs": [],
   "source": [
    "X = np.arange(1, 11)"
   ]
  },
  {
   "cell_type": "markdown",
   "id": "eac19bb8-fc80-41a2-b277-f00546edd8b2",
   "metadata": {},
   "source": [
    "**np.sum** - Сумма всех элементов массива"
   ]
  },
  {
   "cell_type": "code",
   "execution_count": 43,
   "id": "714719d1-d9c2-46d8-94c3-c8bba162bb7f",
   "metadata": {},
   "outputs": [
    {
     "data": {
      "text/plain": [
       "55"
      ]
     },
     "execution_count": 43,
     "metadata": {},
     "output_type": "execute_result"
    }
   ],
   "source": [
    "np.sum(X)\n",
    "X.sum()"
   ]
  },
  {
   "cell_type": "markdown",
   "id": "110b33dd-3390-44d1-9c86-1ea013d89775",
   "metadata": {},
   "source": [
    "**np.min** и **np.max** - Минимальный/Максимальный элемент массива"
   ]
  },
  {
   "cell_type": "code",
   "execution_count": 44,
   "id": "2bcaa8ca-188f-4bcd-a873-ebb34f5e6622",
   "metadata": {},
   "outputs": [
    {
     "data": {
      "text/plain": [
       "(1, 10)"
      ]
     },
     "execution_count": 44,
     "metadata": {},
     "output_type": "execute_result"
    }
   ],
   "source": [
    "np.min(X), np.max(X)"
   ]
  },
  {
   "cell_type": "code",
   "execution_count": 45,
   "id": "1d6577fe-9f20-470b-863a-c25f73916f2f",
   "metadata": {},
   "outputs": [
    {
     "data": {
      "text/plain": [
       "(1, 10)"
      ]
     },
     "execution_count": 45,
     "metadata": {},
     "output_type": "execute_result"
    }
   ],
   "source": [
    "# вызов через метод объекта\n",
    "X.min(), X.max()"
   ]
  },
  {
   "cell_type": "markdown",
   "id": "ed48c119-4ffe-479b-b5db-90210049a30c",
   "metadata": {},
   "source": [
    "**axis** - Аргумент для вычисления сводных показателей по осям, например вычисление по оси в многомерном массиве"
   ]
  },
  {
   "cell_type": "code",
   "execution_count": 46,
   "id": "571bb748-6118-47e4-81c2-7cdcdc182bb3",
   "metadata": {},
   "outputs": [],
   "source": [
    "Arr = np.random.randint(1, 9, size=(4, 4))"
   ]
  },
  {
   "cell_type": "code",
   "execution_count": 47,
   "id": "1dc39f21-9113-41d5-b865-d7b36c931b67",
   "metadata": {},
   "outputs": [
    {
     "name": "stdout",
     "output_type": "stream",
     "text": [
      "[[1 1 5 3]\n",
      " [2 7 8 8]\n",
      " [7 1 2 6]\n",
      " [2 6 1 2]]\n"
     ]
    }
   ],
   "source": [
    "print(Arr)"
   ]
  },
  {
   "cell_type": "code",
   "execution_count": 48,
   "id": "1dfa8434-9618-4ef2-9090-73c4c509fc99",
   "metadata": {},
   "outputs": [
    {
     "data": {
      "text/plain": [
       "array([12, 15, 16, 19])"
      ]
     },
     "execution_count": 48,
     "metadata": {},
     "output_type": "execute_result"
    }
   ],
   "source": [
    "Arr.sum(axis=0) #Сумма по столбцам, 0 = столбец"
   ]
  },
  {
   "cell_type": "code",
   "execution_count": 49,
   "id": "385cc917-b980-4a7d-953d-20cc04174b6a",
   "metadata": {},
   "outputs": [
    {
     "data": {
      "text/plain": [
       "array([5, 8, 7, 6])"
      ]
     },
     "execution_count": 49,
     "metadata": {},
     "output_type": "execute_result"
    }
   ],
   "source": [
    "Arr.max(axis=1) #Максимум в каждой из строк, 1=строка"
   ]
  },
  {
   "cell_type": "markdown",
   "id": "a3911451-4796-458b-8e63-dcbb3a92558e",
   "metadata": {},
   "source": [
    "|  func        | NaN-vers         | Описание                                            |\n",
    "|--------------|------------------|-----------------------------------------------------|\n",
    "|**np.sum**        | np.nansum        | Вычисляет сумму элементов                           |\n",
    "|**np.prod**       | np.nanprod       | Вычисляет произведение элементов                    |\n",
    "|**np.mean**       | np.nanmean       | Вычисляет среднее значение элементов                |\n",
    "|**np.std**        | np.nanstd        | Вычисляет стандартное отклонение                    |\n",
    "|**np.var**        | np.nanvar        | Вычисляет дисперсию                                 |\n",
    "|**np.min**        | np.nanmin        | Вычисляет минимальное значение                      |\n",
    "|**np.max**        | np.nanmax        | Вычисляет максимальное значение                     |\n",
    "|**np.argmin**     | np.nanargmin     | Возвращает индекс минимального значения             |\n",
    "|**np.argmax**     | np.nanargmax     | Возвращает индекс максимального значения            |\n",
    "|**np.median**     | np.nanmedian     | Вычисляет медиану элементов                         |\n",
    "|**np.percentile** | np.nanpercentile | Вычисляет квантили элементов                        |\n",
    "|**np.any**        | N/A              | Проверяет, существуют ли элементы со значением true |\n",
    "|**np.all**        | N/A              | Проверяет, все ли элементы имеют значение true      |\n",
    "\n"
   ]
  },
  {
   "cell_type": "markdown",
   "id": "a6f7c73f-aa13-4851-aa3b-b0cceee566d0",
   "metadata": {},
   "source": [
    "### **Транслирование**"
   ]
  },
  {
   "cell_type": "markdown",
   "id": "072d9ffa-195b-4075-9585-36501dce5f2f",
   "metadata": {},
   "source": [
    "Транслирование представляет собой набор правил по применению бинарных универсальных функций \n",
    "(сложение, вычитание, умножение и т. д.) к массивам различного размера.\n",
    "\\\n",
    "\\\n",
    "Правило 1: если размерность двух массивов отличается, форма массива с меньшей размерностью дополняется единицами с ведущей (левой) стороны \\\n",
    "Правило 2: если форма двух массивов не совпадает в каком-то измерении, массив \n",
    "с формой, равной 1 в данном измерении, растягивается вплоть до соответствия \n",
    "форме другого массива. \\\n",
    "Правило 3: если в каком-либо измерении размеры массивов различаются и ни \n",
    "один не равен 1, генерируется ошибка"
   ]
  },
  {
   "cell_type": "code",
   "execution_count": 50,
   "id": "a2fc6d55-30a3-4500-87ec-aa6333e41149",
   "metadata": {},
   "outputs": [],
   "source": [
    "a = np.arange(3)"
   ]
  },
  {
   "cell_type": "code",
   "execution_count": 51,
   "id": "c701d578-c91c-44d1-b8a2-a47fceafa0d7",
   "metadata": {},
   "outputs": [
    {
     "data": {
      "text/plain": [
       "array([0, 1, 2])"
      ]
     },
     "execution_count": 51,
     "metadata": {},
     "output_type": "execute_result"
    }
   ],
   "source": [
    "a"
   ]
  },
  {
   "cell_type": "code",
   "execution_count": 52,
   "id": "e0e8099a-049c-41dd-a166-186394fa222d",
   "metadata": {},
   "outputs": [],
   "source": [
    "b = np.arange(3)[:, np.newaxis]"
   ]
  },
  {
   "cell_type": "code",
   "execution_count": 53,
   "id": "f9e32054-ca55-47ff-8461-5ed3a624f8d9",
   "metadata": {},
   "outputs": [
    {
     "data": {
      "text/plain": [
       "array([[0],\n",
       "       [1],\n",
       "       [2]])"
      ]
     },
     "execution_count": 53,
     "metadata": {},
     "output_type": "execute_result"
    }
   ],
   "source": [
    "b"
   ]
  },
  {
   "cell_type": "code",
   "execution_count": 54,
   "id": "b986f08e-5f4f-474a-a100-9ab0873a4f35",
   "metadata": {},
   "outputs": [
    {
     "data": {
      "text/plain": [
       "array([[0, 1, 2],\n",
       "       [1, 2, 3],\n",
       "       [2, 3, 4]])"
      ]
     },
     "execution_count": 54,
     "metadata": {},
     "output_type": "execute_result"
    }
   ],
   "source": [
    "a+b"
   ]
  },
  {
   "cell_type": "markdown",
   "id": "fd279bbb-cb72-4342-a72f-594846167694",
   "metadata": {},
   "source": [
    "**Пример 1:** Сложение двумерного массива с одномерным"
   ]
  },
  {
   "cell_type": "code",
   "execution_count": 55,
   "id": "4202969b-b716-42b1-82fe-d225a8cac1f1",
   "metadata": {},
   "outputs": [],
   "source": [
    "M = np.ones((2, 3)) # Одномерный\n",
    "A = np.arange(3) # Двумерный"
   ]
  },
  {
   "cell_type": "markdown",
   "id": "dbe17159-31fc-4c23-b3c4-14b27b56cfdb",
   "metadata": {},
   "source": [
    "формы массивов: \\\n",
    "M.shape = (2, 3)\\\n",
    "A.shape = (3,) \\\n",
    "По правилу 1: по скольку форма массива A меньше, она дополняется измерениями слева\\\n",
    "M.shape -> (2, 3)\\\n",
    "A.shape -> (1, 3)\\\n",
    "По правилу 2: Первое измерение массивов отличаются поэтому оно растягивается до совпадения*"
   ]
  },
  {
   "cell_type": "code",
   "execution_count": 56,
   "id": "268471a6-56e3-4933-be2b-b5f49a0db9b1",
   "metadata": {},
   "outputs": [
    {
     "name": "stdout",
     "output_type": "stream",
     "text": [
      "Одномерный:\n",
      " [0 1 2]\n",
      "Двумерный:\n",
      " [[1. 1. 1.]\n",
      " [1. 1. 1.]]\n",
      "Результат сложения:\n",
      " [[1. 2. 3.]\n",
      " [1. 2. 3.]]\n"
     ]
    }
   ],
   "source": [
    "print('Одномерный:\\n',A)\n",
    "print('Двумерный:\\n',M)\n",
    "print('Результат сложения:\\n',A+M)"
   ]
  },
  {
   "cell_type": "markdown",
   "id": "d7341428-87e6-43e7-8807-5328adb9d337",
   "metadata": {},
   "source": [
    "**Центрирование массива**"
   ]
  },
  {
   "cell_type": "code",
   "execution_count": 57,
   "id": "16d62067-acdc-42e2-bdea-5c3d16a140a6",
   "metadata": {},
   "outputs": [],
   "source": [
    "X = np.random.random((10, 3))"
   ]
  },
  {
   "cell_type": "code",
   "execution_count": 58,
   "id": "c2a7e464-c0cc-4924-b209-c33eb00afd8f",
   "metadata": {},
   "outputs": [
    {
     "data": {
      "text/plain": [
       "array([[0.64817187, 0.36824154, 0.95715516],\n",
       "       [0.14035078, 0.87008726, 0.47360805],\n",
       "       [0.80091075, 0.52047748, 0.67887953],\n",
       "       [0.72063265, 0.58201979, 0.53737323],\n",
       "       [0.75861562, 0.10590761, 0.47360042],\n",
       "       [0.18633234, 0.73691818, 0.21655035],\n",
       "       [0.13521817, 0.32414101, 0.14967487],\n",
       "       [0.22232139, 0.38648898, 0.90259848],\n",
       "       [0.44994999, 0.61306346, 0.90234858],\n",
       "       [0.09928035, 0.96980907, 0.65314004]])"
      ]
     },
     "execution_count": 58,
     "metadata": {},
     "output_type": "execute_result"
    }
   ],
   "source": [
    "X"
   ]
  },
  {
   "cell_type": "code",
   "execution_count": 59,
   "id": "ec4d74a7-668f-4866-960a-d56c6765d6f3",
   "metadata": {},
   "outputs": [],
   "source": [
    "Xmean = X.mean(axis=0) # Функция среднего значения для каждого из столбцов(признаков)"
   ]
  },
  {
   "cell_type": "code",
   "execution_count": 60,
   "id": "f291420e-70a4-4a59-8451-a2c3b201efd5",
   "metadata": {},
   "outputs": [
    {
     "data": {
      "text/plain": [
       "array([0.41617839, 0.54771544, 0.59449287])"
      ]
     },
     "execution_count": 60,
     "metadata": {},
     "output_type": "execute_result"
    }
   ],
   "source": [
    "Xmean"
   ]
  },
  {
   "cell_type": "code",
   "execution_count": 61,
   "id": "573aa29a-77ec-466b-8b77-0937ce12ee37",
   "metadata": {},
   "outputs": [],
   "source": [
    "# Центририование массива, путем вычитания из него среднего значения\n",
    "X_centered = X - Xmean"
   ]
  },
  {
   "cell_type": "code",
   "execution_count": 62,
   "id": "847f8234-b24b-4e64-931e-3c0fc6453511",
   "metadata": {},
   "outputs": [
    {
     "data": {
      "text/plain": [
       "array([-3.33066907e-17,  5.55111512e-17, -8.88178420e-17])"
      ]
     },
     "execution_count": 62,
     "metadata": {},
     "output_type": "execute_result"
    }
   ],
   "source": [
    "X_centered.mean(0)"
   ]
  },
  {
   "cell_type": "markdown",
   "id": "e1b70625-530c-4dc2-82d4-c5d53d97f0e9",
   "metadata": {},
   "source": [
    "**Построение графика двумерной функции**"
   ]
  },
  {
   "cell_type": "code",
   "execution_count": 63,
   "id": "ca5c8d1f-67c7-4013-a4cd-d699999dcfec",
   "metadata": {},
   "outputs": [],
   "source": [
    "# Задаем для x и y 50 шагов от 0 до 5\n",
    "x = np.linspace(0, 5, 50)\n",
    "y = np.linspace(0, 5, 50)[:, np.newaxis]"
   ]
  },
  {
   "cell_type": "code",
   "execution_count": 64,
   "id": "8429f79d-7b5a-4c74-bac2-c921c461a9a3",
   "metadata": {},
   "outputs": [],
   "source": [
    "z = np.sin(x) ** 10 +np.cos(10+y*x)*np.cos(x)"
   ]
  },
  {
   "cell_type": "code",
   "execution_count": 65,
   "id": "23e24b06-daf8-4f81-90f0-cbde76944883",
   "metadata": {},
   "outputs": [],
   "source": [
    "%matplotlib inline"
   ]
  },
  {
   "cell_type": "code",
   "execution_count": 66,
   "id": "dad4b8b9-1bb9-44d3-b273-ccbe470ef32a",
   "metadata": {},
   "outputs": [],
   "source": [
    "import matplotlib.pyplot as plt"
   ]
  },
  {
   "cell_type": "code",
   "execution_count": 67,
   "id": "8859293a-79d0-4af1-81e2-60ec696c7775",
   "metadata": {},
   "outputs": [
    {
     "data": {
      "image/png": "[encoded data removed]",
      "text/plain": [
       "<Figure size 640x480 with 2 Axes>"
      ]
     },
     "metadata": {},
     "output_type": "display_data"
    }
   ],
   "source": [
    "plt.imshow(z, origin='lower', extent=[0, 5, 0, 5])\n",
    "plt.colorbar()\n",
    "plt.show()"
   ]
  },
  {
   "cell_type": "markdown",
   "id": "c7784d09-bfcd-4b84-b9e3-54311bad073a",
   "metadata": {},
   "source": [
    "### **Операторы сравнения**"
   ]
  },
  {
   "cell_type": "markdown",
   "id": "cd42042e-8072-444a-954c-d99d5cb42fdb",
   "metadata": {},
   "source": [
    "Аналогично универсальным функциях, операторы сравнения к массиву также выполняются поэлементно и возвращается булевый массив.\n",
    "np.equal, np.not_equal, np.less, np.less_equal, np.greater, np.greater_equal"
   ]
  },
  {
   "cell_type": "code",
   "execution_count": 68,
   "id": "5a2d244b-73ab-47a5-9bcc-a706383ea69a",
   "metadata": {},
   "outputs": [],
   "source": [
    "A = np.arange(1, 6)\n",
    "B = np.random.randint(1, 5, size=5)"
   ]
  },
  {
   "cell_type": "code",
   "execution_count": 69,
   "id": "5d5cdf75-823d-4e3b-91f1-39b490ffa777",
   "metadata": {},
   "outputs": [
    {
     "data": {
      "text/plain": [
       "array([False, False, False, False,  True])"
      ]
     },
     "execution_count": 69,
     "metadata": {},
     "output_type": "execute_result"
    }
   ],
   "source": [
    "A>B"
   ]
  },
  {
   "cell_type": "code",
   "execution_count": 70,
   "id": "d5b04d00-e9e7-49ac-94d4-373c950209e2",
   "metadata": {},
   "outputs": [
    {
     "data": {
      "text/plain": [
       "array([ True,  True, False, False,  True])"
      ]
     },
     "execution_count": 70,
     "metadata": {},
     "output_type": "execute_result"
    }
   ],
   "source": [
    "A!=B"
   ]
  },
  {
   "cell_type": "code",
   "execution_count": 71,
   "id": "c85405aa-1be4-4363-a4a2-9a2e0b1c9867",
   "metadata": {},
   "outputs": [
    {
     "data": {
      "text/plain": [
       "array([False, False,  True,  True, False])"
      ]
     },
     "execution_count": 71,
     "metadata": {},
     "output_type": "execute_result"
    }
   ],
   "source": [
    "np.equal(A,B)"
   ]
  },
  {
   "cell_type": "code",
   "execution_count": 72,
   "id": "4495573c-1b80-4d71-8a93-5c4c17aa3aa2",
   "metadata": {},
   "outputs": [
    {
     "data": {
      "text/plain": [
       "array([False, False, False, False,  True])"
      ]
     },
     "execution_count": 72,
     "metadata": {},
     "output_type": "execute_result"
    }
   ],
   "source": [
    "np.greater(A,B)"
   ]
  },
  {
   "cell_type": "markdown",
   "id": "a6c35acf-6c77-4335-886c-c6685ccf3156",
   "metadata": {},
   "source": [
    "### **Булевые маски**"
   ]
  },
  {
   "cell_type": "code",
   "execution_count": 73,
   "id": "aee5a3f8-fe5a-441e-a9ae-9e7cab0a2794",
   "metadata": {},
   "outputs": [
    {
     "name": "stdout",
     "output_type": "stream",
     "text": [
      "[[6 1 4]\n",
      " [4 8 4]\n",
      " [6 3 5]]\n"
     ]
    }
   ],
   "source": [
    "np.random.seed(0)\n",
    "Arr = np.random.randint(1, 10, size=(3, 3))\n",
    "print(Arr)"
   ]
  },
  {
   "cell_type": "code",
   "execution_count": 74,
   "id": "06fe2d40-e700-42a6-90fa-187efcb1be5e",
   "metadata": {},
   "outputs": [
    {
     "data": {
      "text/plain": [
       "6"
      ]
     },
     "execution_count": 74,
     "metadata": {},
     "output_type": "execute_result"
    }
   ],
   "source": [
    "#Подсчёт количество интересующих нас элементов через интерпритацию массива в булевый.\n",
    "# Фактический подсчёт элементов True\n",
    "np.count_nonzero(Arr<6)"
   ]
  },
  {
   "cell_type": "code",
   "execution_count": 75,
   "id": "167fb28c-1ad3-4659-919a-c6391e49bda2",
   "metadata": {},
   "outputs": [
    {
     "data": {
      "text/plain": [
       "array([2, 1, 1])"
      ]
     },
     "execution_count": 75,
     "metadata": {},
     "output_type": "execute_result"
    }
   ],
   "source": [
    "# Постолбечный подсчёт значений True\n",
    "np.sum(Arr>4, axis=0) "
   ]
  },
  {
   "cell_type": "markdown",
   "id": "020de232-64b8-42f9-8f6c-32305f8b0e83",
   "metadata": {},
   "source": [
    "**Побитовые булевые операторы**"
   ]
  },
  {
   "cell_type": "markdown",
   "id": "0c3e7989-e96c-4f0f-978e-fc9f35354394",
   "metadata": {},
   "source": [
    "-"
   ]
  },
  {
   "cell_type": "markdown",
   "id": "a1a78323-ed80-4c42-806b-3d143ba241c0",
   "metadata": {},
   "source": [
    "**Булевые маски**"
   ]
  },
  {
   "cell_type": "markdown",
   "id": "962d0920-5f2b-46f4-abb1-d5c3b252a852",
   "metadata": {},
   "source": [
    "**Булевая маска** используется для выбора нужных чисел из массива через индексацию исходного массива по булевому. \\\n",
    "Такая операция называется наложение булевой маски или маскирование"
   ]
  },
  {
   "cell_type": "code",
   "execution_count": 76,
   "id": "9f2ebece-21ca-4d90-81f8-3233823e7a48",
   "metadata": {},
   "outputs": [],
   "source": [
    "np.random.seed(1)\n",
    "Arr = np.random.randint(1, 10, size=(3, 4))"
   ]
  },
  {
   "cell_type": "code",
   "execution_count": 77,
   "id": "fe013984-0347-42c4-af75-58dc729be1b3",
   "metadata": {},
   "outputs": [
    {
     "data": {
      "text/plain": [
       "array([9, 8, 7])"
      ]
     },
     "execution_count": 77,
     "metadata": {},
     "output_type": "execute_result"
    }
   ],
   "source": [
    "Arr[Arr>6]"
   ]
  },
  {
   "cell_type": "markdown",
   "id": "39bc1193-03ac-4cb5-aee6-4817233cd872",
   "metadata": {},
   "source": [
    "### **Прихотливая индексация(Fancy indaxing)**"
   ]
  },
  {
   "cell_type": "markdown",
   "id": "94d34360-5548-4edc-a44a-be98c48b94cc",
   "metadata": {},
   "source": [
    "Прихотливая индексация - передача массива индекса в качестве индекса массива(среза) для доступа к нескольким элементам массива"
   ]
  },
  {
   "cell_type": "code",
   "execution_count": 78,
   "id": "79a2b93b-6aeb-44b0-a831-14996f42d7c5",
   "metadata": {},
   "outputs": [
    {
     "name": "stdout",
     "output_type": "stream",
     "text": [
      "[85 12 29 30 15 51 69 88 88 95]\n"
     ]
    }
   ],
   "source": [
    "Arr = np.random.randint(1, 100, 10)\n",
    "print(Arr)"
   ]
  },
  {
   "cell_type": "code",
   "execution_count": 79,
   "id": "371a0dd6-aa83-4bf4-91bb-13ab2f185565",
   "metadata": {},
   "outputs": [
    {
     "data": {
      "text/plain": [
       "[85, 12, 51, 95]"
      ]
     },
     "execution_count": 79,
     "metadata": {},
     "output_type": "execute_result"
    }
   ],
   "source": [
    "# Обращение к 0-ому, 1-ому, центральному и последнему элементу, упакованных в список\n",
    "[Arr[0], Arr[1], Arr[Arr.size//2], Arr[-1]]"
   ]
  },
  {
   "cell_type": "code",
   "execution_count": 80,
   "id": "f6cadd7a-58b0-4903-b9f2-cdbf8684ba88",
   "metadata": {},
   "outputs": [
    {
     "data": {
      "text/plain": [
       "array([85, 12, 51, 95])"
      ]
     },
     "execution_count": 80,
     "metadata": {},
     "output_type": "execute_result"
    }
   ],
   "source": [
    "# Аналогичное обращение используя прихотливую индексацию(вынос индексов во входной массив)\n",
    "fancy_ind = [0, 1, Arr.size//2, -1]\n",
    "Arr[fancy_ind]"
   ]
  },
  {
   "cell_type": "markdown",
   "id": "29b9e177-d67e-4ef3-b360-0f326c7cdb96",
   "metadata": {},
   "source": [
    "Аналогично работает и с многомерными массивами"
   ]
  },
  {
   "cell_type": "code",
   "execution_count": 81,
   "id": "e61713b4-8899-4e08-b846-75e8aa648414",
   "metadata": {},
   "outputs": [
    {
     "name": "stdout",
     "output_type": "stream",
     "text": [
      "[[96 86 13  9  7]\n",
      " [63 61 22 57  1]\n",
      " [ 0 60 81  8 88]]\n"
     ]
    }
   ],
   "source": [
    "Arr2 = np.random.randint(100, size=(3, 5))\n",
    "print(Arr2)"
   ]
  },
  {
   "cell_type": "code",
   "execution_count": 82,
   "id": "f1711f8d-16c2-42f5-9152-0df5cdf91d7f",
   "metadata": {},
   "outputs": [],
   "source": [
    "row = np.array([0, 1, 2])\n",
    "col = np.array([0, 2, 4])"
   ]
  },
  {
   "cell_type": "code",
   "execution_count": 83,
   "id": "a7649dcd-53d9-4cf2-bdf9-aac2c295dae7",
   "metadata": {},
   "outputs": [
    {
     "data": {
      "text/plain": [
       "array([96, 22, 88])"
      ]
     },
     "execution_count": 83,
     "metadata": {},
     "output_type": "execute_result"
    }
   ],
   "source": [
    "Arr2[row, col]"
   ]
  },
  {
   "cell_type": "markdown",
   "id": "fc35a236-53bd-41ad-a576-618a3de45818",
   "metadata": {},
   "source": [
    "В таком случаи составляются соответствия пар между строки-столбцы: Arr2[0, 0] Arr2[1, 2], Arr[2, 4]"
   ]
  },
  {
   "cell_type": "markdown",
   "id": "e4edd06b-a210-4657-9657-5a4ba67ce4f0",
   "metadata": {},
   "source": [
    "**Комбинированная индексация**"
   ]
  },
  {
   "cell_type": "code",
   "execution_count": 84,
   "id": "108945b9-7d40-4542-873c-d974466f80c9",
   "metadata": {},
   "outputs": [
    {
     "name": "stdout",
     "output_type": "stream",
     "text": [
      "[[96 86 13  9  7]\n",
      " [63 61 22 57  1]\n",
      " [ 0 60 81  8 88]]\n"
     ]
    }
   ],
   "source": [
    "print(Arr2)"
   ]
  },
  {
   "cell_type": "code",
   "execution_count": 85,
   "id": "c69c41f1-5863-4c9a-8781-d2b7964451c4",
   "metadata": {},
   "outputs": [
    {
     "data": {
      "text/plain": [
       "array([96, 86, 13])"
      ]
     },
     "execution_count": 85,
     "metadata": {},
     "output_type": "execute_result"
    }
   ],
   "source": [
    "# Совсемстное использование прихотливых и простых индексов\n",
    "Arr2[0, [0,1,2]]"
   ]
  },
  {
   "cell_type": "code",
   "execution_count": 86,
   "id": "341539f9-8d3d-492d-8b95-f2cd602830dc",
   "metadata": {},
   "outputs": [
    {
     "data": {
      "text/plain": [
       "array([[96, 86],\n",
       "       [63, 61],\n",
       "       [ 0, 60]])"
      ]
     },
     "execution_count": 86,
     "metadata": {},
     "output_type": "execute_result"
    }
   ],
   "source": [
    "# Совместное использование индексов и срезов\n",
    "Arr2[0:, [0, 1]]"
   ]
  },
  {
   "cell_type": "code",
   "execution_count": 87,
   "id": "5e89c316-1172-4e32-a804-32cd4654534a",
   "metadata": {},
   "outputs": [
    {
     "data": {
      "text/plain": [
       "array([[86, 96, 86, 96],\n",
       "       [61, 63, 61, 63],\n",
       "       [60,  0, 60,  0]])"
      ]
     },
     "execution_count": 87,
     "metadata": {},
     "output_type": "execute_result"
    }
   ],
   "source": [
    "# Совместное использование прихотливой индексации и маскирования\n",
    "mask = np.array([1, 0, 1, 0])\n",
    "Arr2[row[:, np.newaxis], mask]"
   ]
  },
  {
   "cell_type": "code",
   "execution_count": 88,
   "id": "2fef6697-fe98-4245-98dd-4fbf2c5c3596",
   "metadata": {},
   "outputs": [],
   "source": [
    "# Выборка случайных точек(элементов массива)\n",
    "# 111"
   ]
  },
  {
   "cell_type": "code",
   "execution_count": 89,
   "id": "1dc2b422-b4a0-4151-bcd0-9e015653e78a",
   "metadata": {},
   "outputs": [
    {
     "name": "stdout",
     "output_type": "stream",
     "text": [
      "[0. 0. 0. 0. 0. 0. 0. 0. 0. 0.]\n"
     ]
    }
   ],
   "source": [
    "arr = np.zeros(10)\n",
    "print(arr)"
   ]
  },
  {
   "cell_type": "code",
   "execution_count": 90,
   "id": "824a3b41-00fd-4fde-b22d-c881e940f477",
   "metadata": {},
   "outputs": [],
   "source": [
    "i = [0, 2, 3,3, 4, 4, 4, 4]"
   ]
  },
  {
   "cell_type": "code",
   "execution_count": 91,
   "id": "e8f33049-173c-4f5f-a1b1-b42508fec357",
   "metadata": {},
   "outputs": [],
   "source": [
    "np.add.at(arr, i, 1)"
   ]
  },
  {
   "cell_type": "code",
   "execution_count": 92,
   "id": "c306c04e-dd58-462b-beb6-47460adaddc4",
   "metadata": {},
   "outputs": [
    {
     "data": {
      "text/plain": [
       "array([1., 0., 1., 2., 4., 0., 0., 0., 0., 0.])"
      ]
     },
     "execution_count": 92,
     "metadata": {},
     "output_type": "execute_result"
    }
   ],
   "source": [
    "arr"
   ]
  },
  {
   "cell_type": "markdown",
   "id": "db53aaf1-063c-49b7-b7f4-3a4c39889359",
   "metadata": {},
   "source": [
    "**Пример: Разбиение данных на интервалы**"
   ]
  },
  {
   "cell_type": "code",
   "execution_count": 93,
   "id": "509c06ae-be00-4b4a-a3dc-664f85de7e29",
   "metadata": {},
   "outputs": [],
   "source": [
    "np.random.seed(52)\n",
    "x = np.random.randn(100)"
   ]
  },
  {
   "cell_type": "code",
   "execution_count": 94,
   "id": "41206d3e-e7b7-4736-80e8-0abe107a4f96",
   "metadata": {},
   "outputs": [],
   "source": [
    "# Рассчитываем гистограмму вручную\n",
    "bins = np.linspace(-5, 5, 20)"
   ]
  },
  {
   "cell_type": "markdown",
   "id": "0d74e242-791d-4b79-9c4e-f76cca1e63b2",
   "metadata": {},
   "source": [
    "**np.zeros_like** - "
   ]
  },
  {
   "cell_type": "code",
   "execution_count": 95,
   "id": "8344e62b-b4b0-43d0-8cea-3583d726a56f",
   "metadata": {},
   "outputs": [],
   "source": [
    "counts = np.zeros_like(bins)"
   ]
  },
  {
   "cell_type": "markdown",
   "id": "db111dd2-c704-4eac-af29-7a270761d26f",
   "metadata": {},
   "source": [
    "**np.searchsorted** - "
   ]
  },
  {
   "cell_type": "code",
   "execution_count": 96,
   "id": "a6cf6883-6359-4d74-878d-299e4152d280",
   "metadata": {},
   "outputs": [],
   "source": [
    "i = np.searchsorted(bins, x)"
   ]
  },
  {
   "cell_type": "code",
   "execution_count": 97,
   "id": "4acceff1-84d3-43fb-8def-9883ac420449",
   "metadata": {},
   "outputs": [],
   "source": [
    "# добавляем 1 к каждому из интервалов\n",
    "np.add.at(counts, i, 1)"
   ]
  },
  {
   "cell_type": "code",
   "execution_count": 98,
   "id": "4ae1b7f7-991f-4af2-8dc2-2551d44a91db",
   "metadata": {},
   "outputs": [
    {
     "data": {
      "image/png": "[encoded data removed]",
      "text/plain": [
       "<Figure size 640x480 with 1 Axes>"
      ]
     },
     "metadata": {},
     "output_type": "display_data"
    }
   ],
   "source": [
    "# Отстраиваем гистограмму врчную\n",
    "plt.plot(bins, counts, drawstyle='steps')\n",
    "plt.show()"
   ]
  },
  {
   "cell_type": "code",
   "execution_count": 99,
   "id": "d6c4040a-cb86-4c62-b915-0d38d75c37df",
   "metadata": {},
   "outputs": [
    {
     "data": {
      "image/png": "[encoded data removed]",
      "text/plain": [
       "<Figure size 640x480 with 1 Axes>"
      ]
     },
     "metadata": {},
     "output_type": "display_data"
    }
   ],
   "source": [
    "plt.hist(x, bins, histtype='step')\n",
    "plt.show()"
   ]
  },
  {
   "cell_type": "markdown",
   "id": "35a7112d-03f3-41fe-8eb3-ffb99cbd6a5d",
   "metadata": {},
   "source": [
    "Получать каждый раз гистограмму вручную нет смысла, потому что библиотека Matplotlib предоставляет процедуру plt.hist уже выполняет эту задачу.\\\n",
    "Для расчета разбиения по интервалам в ней используется функция np.histogram, выполняющая вычисления похожие на пример выше."
   ]
  },
  {
   "cell_type": "markdown",
   "id": "267e8890-ecda-43a2-9f33-1e3a57df1aa0",
   "metadata": {},
   "source": [
    "### **Сортировка массивов**"
   ]
  },
  {
   "cell_type": "markdown",
   "id": "aa86905e-ed41-4712-ad2a-392a4f768255",
   "metadata": {},
   "source": [
    "**Простая сортировка вставкой**"
   ]
  },
  {
   "cell_type": "code",
   "execution_count": 101,
   "id": "2d7ef49f-bba9-4f57-821f-479f42b7df0a",
   "metadata": {},
   "outputs": [],
   "source": [
    "import numpy as np\n",
    "\n",
    "def selection_sort(x):\n",
    "    for i in range(len(x)):\n",
    "        swap = i+np.argmin(x[i:])\n",
    "        x[i], x[swap] = x[swap], x[i]\n",
    "    return x"
   ]
  },
  {
   "cell_type": "code",
   "execution_count": 102,
   "id": "294fa2a0-ae19-4d29-a3c1-66fbe1be4bab",
   "metadata": {},
   "outputs": [],
   "source": [
    "x = np.array([7, 1, 8, 2, 3, 5])"
   ]
  },
  {
   "cell_type": "code",
   "execution_count": 105,
   "id": "b27bb2f8-38f0-43a6-bd03-8c30b41f1bff",
   "metadata": {},
   "outputs": [
    {
     "name": "stdout",
     "output_type": "stream",
     "text": [
      "[1 2 3 5 7 8]\n"
     ]
    }
   ],
   "source": [
    "x = selection_sort(x)\n",
    "print(x)"
   ]
  },
  {
   "cell_type": "code",
   "execution_count": 108,
   "id": "8546ebcd-71eb-44a1-95e9-f4788b395f7b",
   "metadata": {},
   "outputs": [
    {
     "name": "stdout",
     "output_type": "stream",
     "text": [
      "[6 3 2 4 5 4]\n"
     ]
    }
   ],
   "source": [
    "Arr = np.random.randint(1, 10, 6)\n",
    "print(Arr)"
   ]
  },
  {
   "cell_type": "markdown",
   "id": "495f189b-cbab-4db5-95b2-bb5a2da7c402",
   "metadata": {},
   "source": [
    "**np.sort()** - Функция и метод сортировки массивов, по умолчанию использует оптимизированный алгоритм быстрой сортировки(**Quicksort**) \\\n",
    "алгоритм задается аргументом **kind**"
   ]
  },
  {
   "cell_type": "code",
   "execution_count": 118,
   "id": "e552196d-af32-40c3-81d8-d8842ffeff25",
   "metadata": {},
   "outputs": [
    {
     "data": {
      "text/plain": [
       "array([2, 3, 4, 4, 5, 6])"
      ]
     },
     "execution_count": 118,
     "metadata": {},
     "output_type": "execute_result"
    }
   ],
   "source": [
    "np.sort(Arr)"
   ]
  },
  {
   "cell_type": "markdown",
   "id": "02b01e9a-233e-4fcf-a417-0cc31260c6bf",
   "metadata": {},
   "source": [
    "**np.argsort()** - Родственная функция, возвращает индексы отсортированных элементов "
   ]
  },
  {
   "cell_type": "code",
   "execution_count": 126,
   "id": "7579e684-32f8-4f30-9793-1c1029d7b77a",
   "metadata": {},
   "outputs": [
    {
     "name": "stdout",
     "output_type": "stream",
     "text": [
      "[9 9 8 8 5 9]\n"
     ]
    }
   ],
   "source": [
    "Arr = np.random.randint(1, 10, 6)\n",
    "print(Arr)"
   ]
  },
  {
   "cell_type": "code",
   "execution_count": 127,
   "id": "293c031e-1e25-4365-beb3-29c3235e71f6",
   "metadata": {},
   "outputs": [
    {
     "data": {
      "text/plain": [
       "array([4, 2, 3, 0, 1, 5], dtype=int64)"
      ]
     },
     "execution_count": 127,
     "metadata": {},
     "output_type": "execute_result"
    }
   ],
   "source": [
    "Arr.argsort()"
   ]
  },
  {
   "cell_type": "markdown",
   "id": "2be4db51-85ac-4914-8214-27044635b373",
   "metadata": {},
   "source": [
    "**Сортировка по строкам и столбцам**"
   ]
  },
  {
   "cell_type": "markdown",
   "id": "3b18c1a6-c3de-4913-8682-92dd4c21d06e",
   "metadata": {},
   "source": [
    "**axis** - Ось массива. Задание аргумента axis позволяет сортировать массив по заданной оси."
   ]
  },
  {
   "cell_type": "code",
   "execution_count": 128,
   "id": "d0858d11-e623-481f-94e0-453ff655848a",
   "metadata": {},
   "outputs": [],
   "source": [
    "rand = np.random.RandomState(42)"
   ]
  },
  {
   "cell_type": "code",
   "execution_count": 132,
   "id": "d4aba436-95ce-407a-b8d3-cd5ecdd42942",
   "metadata": {},
   "outputs": [
    {
     "name": "stdout",
     "output_type": "stream",
     "text": [
      "[[8 0 9 2 6 3]\n",
      " [8 2 4 2 6 4]\n",
      " [8 6 1 3 8 1]\n",
      " [9 8 9 4 1 3]]\n"
     ]
    }
   ],
   "source": [
    "X = rand.randint(0, 10, (4, 6))\n",
    "print(X)"
   ]
  },
  {
   "cell_type": "code",
   "execution_count": 134,
   "id": "4580694a-a45c-427b-910c-9614992dc6b9",
   "metadata": {},
   "outputs": [
    {
     "data": {
      "text/plain": [
       "array([[8, 0, 1, 2, 1, 1],\n",
       "       [8, 2, 4, 2, 6, 3],\n",
       "       [8, 6, 9, 3, 6, 3],\n",
       "       [9, 8, 9, 4, 8, 4]])"
      ]
     },
     "execution_count": 134,
     "metadata": {},
     "output_type": "execute_result"
    }
   ],
   "source": [
    "np.sort(X, axis=0) # 0 - Столбцы"
   ]
  },
  {
   "cell_type": "markdown",
   "id": "c6e04e57-f1f9-4de8-96d2-d84945fcdfd0",
   "metadata": {},
   "source": [
    "**Частичные сортировки: Секционирование**"
   ]
  },
  {
   "cell_type": "markdown",
   "id": "a1f72a19-df01-4b0a-9d67-3a4a48cbd594",
   "metadata": {},
   "source": [
    "**np.partition** - Частично сортирует массив. Принимает массив и число K. Возвращает K наименьших значений слева, остальные значения справа. В обоих частях значения в неотсортированном виде."
   ]
  },
  {
   "cell_type": "code",
   "execution_count": 143,
   "id": "ff535586-1354-4ebd-aa28-04f0bdb49875",
   "metadata": {},
   "outputs": [
    {
     "name": "stdout",
     "output_type": "stream",
     "text": [
      "[2 1 3 4 5 6 7]\n"
     ]
    }
   ],
   "source": [
    "X = np.array([7, 1, 2, 5, 6, 4, 3])\n",
    "PX = np.partition(X, 3)\n",
    "print(PX)"
   ]
  },
  {
   "cell_type": "markdown",
   "id": "b8542821-c407-47e6-9b6f-7b66224f31da",
   "metadata": {},
   "source": [
    "**Пример: K-ближайших соседей**"
   ]
  },
  {
   "cell_type": "code",
   "execution_count": 148,
   "id": "34a797ac-72db-43c5-b013-1e2d43c49646",
   "metadata": {},
   "outputs": [],
   "source": [
    "X = rand.rand(10, 2)"
   ]
  },
  {
   "cell_type": "code",
   "execution_count": 150,
   "id": "6e0dc83b-0321-4487-b771-3377f9d0d1e4",
   "metadata": {},
   "outputs": [
    {
     "data": {
      "image/png": "[encoded data removed]",
      "text/plain": [
       "<Figure size 640x480 with 1 Axes>"
      ]
     },
     "metadata": {},
     "output_type": "display_data"
    }
   ],
   "source": [
    "plt.scatter(X[:, 0], X[:, 1], s=100)\n",
    "plt.show()"
   ]
  },
  {
   "cell_type": "markdown",
   "id": "28c047ee-797a-45af-92d8-a95c7cdbb95e",
   "metadata": {},
   "source": [
    "**np.newaxis**"
   ]
  },
  {
   "cell_type": "code",
   "execution_count": 155,
   "id": "baaaf904-d6e2-4d52-97d9-6743bc2b563c",
   "metadata": {},
   "outputs": [
    {
     "data": {
      "text/plain": [
       "(10, 10, 2)"
      ]
     },
     "execution_count": 155,
     "metadata": {},
     "output_type": "execute_result"
    }
   ],
   "source": [
    "# Для каждой пары точек вычислим разности их координат\n",
    "differences = X[:, np.newaxis, :] - X[np.newaxis, :, :]\n",
    "differences.shape"
   ]
  },
  {
   "cell_type": "code",
   "execution_count": 156,
   "id": "fa0fb6cb-ff77-4607-8ad6-b1b7ccf77754",
   "metadata": {},
   "outputs": [
    {
     "data": {
      "text/plain": [
       "(10, 10, 2)"
      ]
     },
     "execution_count": 156,
     "metadata": {},
     "output_type": "execute_result"
    }
   ],
   "source": [
    "# Возводим разности координат в квадрат\n",
    "sq_differences = differences**2\n",
    "sq_differences.shape"
   ]
  },
  {
   "cell_type": "code",
   "execution_count": 158,
   "id": "3593efb5-a1cf-45ac-8638-c3ba51721e45",
   "metadata": {},
   "outputs": [
    {
     "data": {
      "text/plain": [
       "(10, 10)"
      ]
     },
     "execution_count": 158,
     "metadata": {},
     "output_type": "execute_result"
    }
   ],
   "source": [
    "# Суммируем квадраты разностей координат для получения квадрата расстояния\n",
    "dist_sq = sq_differences.sum(-1)\n",
    "dist_sq.shape"
   ]
  },
  {
   "cell_type": "markdown",
   "id": "de9605b2-47d1-4037-84e7-0175c3dbbf0e",
   "metadata": {},
   "source": [
    "**np.diagonal** - Возвращает главную диагональ N*N матрицы"
   ]
  },
  {
   "cell_type": "code",
   "execution_count": 161,
   "id": "0897435d-2e13-4ca9-85f5-3f875488b56d",
   "metadata": {},
   "outputs": [
    {
     "data": {
      "text/plain": [
       "array([0., 0., 0., 0., 0., 0., 0., 0., 0., 0.])"
      ]
     },
     "execution_count": 161,
     "metadata": {},
     "output_type": "execute_result"
    }
   ],
   "source": [
    "dist_sq.diagonal()"
   ]
  },
  {
   "cell_type": "code",
   "execution_count": 164,
   "id": "4901c9a4-e3e6-4cc2-9697-8a645fde23a1",
   "metadata": {},
   "outputs": [
    {
     "name": "stdout",
     "output_type": "stream",
     "text": [
      "[[0 2 9 3 4 6 7 8 5 1]\n",
      " [1 8 5 7 4 9 6 3 0 2]\n",
      " [2 0 9 3 4 6 7 8 5 1]\n",
      " [3 2 0 9 4 7 8 1 6 5]\n",
      " [4 7 8 9 1 5 6 3 0 2]\n",
      " [5 1 4 7 8 6 9 3 0 2]\n",
      " [6 9 5 4 1 7 0 8 2 3]\n",
      " [7 4 8 1 5 9 3 6 0 2]\n",
      " [8 7 1 4 5 9 3 6 0 2]\n",
      " [9 4 6 7 0 2 3 5 8 1]]\n"
     ]
    }
   ],
   "source": [
    "# Крайние левые столбцы представляют индексы ближайших соседей\n",
    "nearest = np.argsort(dist_sq, axis=1) # Сортировка индексов по строке\n",
    "print(nearest)"
   ]
  },
  {
   "cell_type": "code",
   "execution_count": 165,
   "id": "e2e53000-68b6-480b-9e06-e51c5ceedc3d",
   "metadata": {},
   "outputs": [
    {
     "name": "stdout",
     "output_type": "stream",
     "text": [
      "[[2 0 9 3 4 5 1 7 8 6]\n",
      " [1 8 5 7 4 9 6 3 2 0]\n",
      " [2 0 9 3 4 5 1 7 8 6]\n",
      " [3 0 2 9 1 5 6 7 8 4]\n",
      " [7 4 8 9 1 5 6 3 2 0]\n",
      " [5 1 4 7 8 6 9 3 2 0]\n",
      " [5 9 6 4 1 3 2 7 8 0]\n",
      " [7 8 4 1 5 9 6 3 2 0]\n",
      " [7 8 1 4 5 9 6 3 2 0]\n",
      " [9 4 6 7 0 2 3 1 8 5]]\n"
     ]
    }
   ],
   "source": [
    "K = 2\n",
    "nearest_partition = np.argpartition(dist_sq, K+1, axis=1)\n",
    "print(nearest_partition)"
   ]
  },
  {
   "cell_type": "code",
   "execution_count": 167,
   "id": "bd15ebc8-50f6-4321-95b1-4e99fc409a52",
   "metadata": {},
   "outputs": [
    {
     "data": {
      "image/png": "[encoded data removed]",
      "text/plain": [
       "<Figure size 640x480 with 1 Axes>"
      ]
     },
     "metadata": {},
     "output_type": "display_data"
    }
   ],
   "source": [
    "plt.scatter(X[:, 0], X[:, 1], s=100)\n",
    "for i in range(X.shape[0]):\n",
    "    for j in nearest_partition[i, :K+1]:\n",
    "        # чертим линию от X[i] до X[j]\n",
    "        # Используем для этого «магическую» функцию zip:\n",
    "        plt.plot(*zip(X[j], X[i]), color='black')   "
   ]
  },
  {
   "cell_type": "markdown",
   "id": "f5d22d5d-ff0e-4229-8fa8-d5bc24185032",
   "metadata": {},
   "source": [
    "### **Структурированные массивы NumPy**"
   ]
  },
  {
   "cell_type": "code",
   "execution_count": 168,
   "id": "69b3f2c7-fe8e-48e4-b855-4327d6de1718",
   "metadata": {},
   "outputs": [],
   "source": [
    "name = ['Alice', 'Bob', 'Cathy', 'Doug']\n",
    "age = [25, 45, 37, 19]\n",
    "weight = [55.0, 85.5, 68.0, 61.5]"
   ]
  },
  {
   "cell_type": "code",
   "execution_count": 182,
   "id": "5d23c298-e08d-4bf1-9e8d-3a51867721ef",
   "metadata": {},
   "outputs": [
    {
     "name": "stdout",
     "output_type": "stream",
     "text": [
      "[('Alice', 25, 55. ) ('Bob', 45, 85.5) ('Cathy', 37, 68. )\n",
      " ('Doug', 19, 61.5)]\n"
     ]
    }
   ],
   "source": [
    "data = np.zeros(shape=4, dtype={'names':('name', 'age', 'weight'), 'formats':('U10', 'i4','f8')})\n",
    "data['name'] = name\n",
    "data['age'] = age\n",
    "data['weight'] = weight\n",
    "print(data)"
   ]
  },
  {
   "cell_type": "code",
   "execution_count": 183,
   "id": "d17b42df-5138-446a-905c-8279fd3fdd97",
   "metadata": {},
   "outputs": [
    {
     "name": "stdout",
     "output_type": "stream",
     "text": [
      "Alice\n"
     ]
    }
   ],
   "source": [
    "print(data[0]['name'])"
   ]
  },
  {
   "cell_type": "code",
   "execution_count": 191,
   "id": "ff142451-ff57-49b5-961c-30c1369e00be",
   "metadata": {},
   "outputs": [
    {
     "data": {
      "text/plain": [
       "array(['Bob', 'Cathy'], dtype='<U10')"
      ]
     },
     "execution_count": 191,
     "metadata": {},
     "output_type": "execute_result"
    }
   ],
   "source": [
    "data[data['age']>30]['name']"
   ]
  },
  {
   "cell_type": "markdown",
   "id": "8e2f4645-b034-497f-95d6-66e0d33abba8",
   "metadata": {},
   "source": []
  }
 ],
 "metadata": {
  "kernelspec": {
   "display_name": "Python 3 (ipykernel)",
   "language": "python",
   "name": "python3"
  },
  "language_info": {
   "codemirror_mode": {
    "name": "ipython",
    "version": 3
   },
   "file_extension": ".py",
   "mimetype": "text/x-python",
   "name": "python",
   "nbconvert_exporter": "python",
   "pygments_lexer": "ipython3",
   "version": "3.12.7"
  }
 },
 "nbformat": 4,
 "nbformat_minor": 5
}
