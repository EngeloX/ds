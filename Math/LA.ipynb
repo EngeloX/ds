{
 "cells": [
  {
   "cell_type": "code",
   "execution_count": 39,
   "id": "dc9e80d5-bbd6-4033-859b-d441942b72eb",
   "metadata": {},
   "outputs": [],
   "source": [
    "import numpy as np"
   ]
  },
  {
   "cell_type": "markdown",
   "id": "15a12b6e-4408-4868-8550-5a2f1e83ab47",
   "metadata": {},
   "source": [
    "# Действия с матрицами"
   ]
  },
  {
   "cell_type": "markdown",
   "id": "ec7d856b-3858-40bc-89c6-2b316d7ea265",
   "metadata": {},
   "source": [
    "Умножение матрицы на число\\\n",
    "Транспонирование матрицы\\\n",
    "Сложение(Вычитание матриц)\\\n",
    "Умножение матриц\\\n",
    "Возведение матрицы в степень \n",
    "\n",
    "Определитель матрицы\\\n",
    "Собственные значения и собственные вектора\\\n",
    "    Характеристическое уравнение\\\n",
    "Нахождение обратной матрицы\\\n",
    "Псевдообратная матрица\\\n",
    "\n",
    "Разложения матриц\\"
   ]
  },
  {
   "cell_type": "code",
   "execution_count": null,
   "id": "52aa614b-1890-415f-ad02-ca9c76b3c3b3",
   "metadata": {},
   "outputs": [],
   "source": []
  }
 ],
 "metadata": {
  "kernelspec": {
   "display_name": "Python 3 (ipykernel)",
   "language": "python",
   "name": "python3"
  },
  "language_info": {
   "codemirror_mode": {
    "name": "ipython",
    "version": 3
   },
   "file_extension": ".py",
   "mimetype": "text/x-python",
   "name": "python",
   "nbconvert_exporter": "python",
   "pygments_lexer": "ipython3",
   "version": "3.12.3"
  }
 },
 "nbformat": 4,
 "nbformat_minor": 5
}
