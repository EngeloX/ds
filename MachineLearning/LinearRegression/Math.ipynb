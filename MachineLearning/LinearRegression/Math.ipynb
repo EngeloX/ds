{
 "cells": [
  {
   "cell_type": "markdown",
   "id": "787c69a0-9ea2-44af-8a96-5333bd9b2a3b",
   "metadata": {},
   "source": [
    "**Градиент**\\\n",
    "**Антирадиент**\\\n",
    "**Градиентный спуск**\\\n",
    "**Стохастический градиентный спуск**\\\n",
    "**Регрессия**"
   ]
  },
  {
   "cell_type": "markdown",
   "id": "56b3cbd7-7bc1-4f69-9388-cec7c1a3c545",
   "metadata": {},
   "source": [
    "$\\theta$"
   ]
  },
  {
   "cell_type": "markdown",
   "id": "e75e6653-733f-42f9-9c62-e2911725c4b0",
   "metadata": {},
   "source": [
    "$\\oint$"
   ]
  },
  {
   "cell_type": "markdown",
   "id": "fb34bb71-65e0-4e9f-b6c4-c73161a26aea",
   "metadata": {},
   "source": [
    "$\\sum$"
   ]
  },
  {
   "cell_type": "code",
   "execution_count": null,
   "id": "d7eec9d8-dd13-4478-9be1-21024ff981ad",
   "metadata": {},
   "outputs": [],
   "source": []
  }
 ],
 "metadata": {
  "kernelspec": {
   "display_name": "Python 3 (ipykernel)",
   "language": "python",
   "name": "python3"
  },
  "language_info": {
   "codemirror_mode": {
    "name": "ipython",
    "version": 3
   },
   "file_extension": ".py",
   "mimetype": "text/x-python",
   "name": "python",
   "nbconvert_exporter": "python",
   "pygments_lexer": "ipython3",
   "version": "3.12.7"
  }
 },
 "nbformat": 4,
 "nbformat_minor": 5
}
