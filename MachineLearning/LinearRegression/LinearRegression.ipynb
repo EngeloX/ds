{
 "cells": [
  {
   "cell_type": "markdown",
   "id": "e6c4bab6-c16f-43ea-b31e-c48828acd7a8",
   "metadata": {},
   "source": [
    "`Интерполяция` : Общее наименование вычислительно-математических способов определить(восстановить) исходную функцию по заданным известным точкам. Попытка воссоздать неизвестные точки, которые должны лежать между известными этой функцией.\\\n",
    "`Экстрополяция` : Попытка определить неизвестные точки, которые должны лежать вне диапазона известных значений.\n",
    "\n",
    "`Аппроксимация` : Способ выбрать из семейства «простых» функций приближение для «сложной» функции на отрезке, при этом ошибка не должна превышать определенного предела. \n",
    "\n",
    "`Функция потеря (loss function)` : Функция, которая показывает насколько действительные значения откланяются от тех, что были созданы пробной функцией.\n",
    "\n",
    "`Регрессия` : Способ выбрать функцию, что будет наилучшим(оптимальным) образом описывать точки. Лучшая - та что минимизирует функцию потерь, то есть значения ошибки будет минимально возможным в данной ситуации.\n",
    "\n",
    "---------------------------"
   ]
  },
  {
   "cell_type": "markdown",
   "id": "e4f434b7-766a-4ea6-ad9e-1a323b85b68e",
   "metadata": {},
   "source": [
    "**`Линейная регрессия`** :  Линейная функция зависимости целевой переменной от одной или нескольких других переменных(предикторов)\n",
    "$$\n",
    "y = wX+b\n",
    "$$\n",
    "$y$ - Целевое значение, которые необхидимо предсказать. (target)\\\n",
    "$X$ - Признак/Признаки.\\\n",
    "$w$ - Вес при признаках. (Коэффициент наклона) (coef_)\\\n",
    "$b$ - Свободный член. (Коэффициент сдвига) (intercept_) \\\n",
    "\n",
    "Цель регрессии — найти коэффициенты этой линейной комбинации, и тем самым определить регрессионную функцию, что наилучшим образом будет описывать заданную тенденцию.\\\n",
    "\n",
    "Определить loss-функцию -> задать начальные параметры весов -> определить метод оптимизации -> минимизировать ошибку -> оценить по метрикам."
   ]
  },
  {
   "cell_type": "markdown",
   "id": "e8938afc-dee2-489e-845e-1b7e7ab70a13",
   "metadata": {},
   "source": [
    "**loss-функции**\n",
    "\n",
    "**Методы Оптимизации:**\\\n",
    "`Градиентный спуск (GD)` : \n",
    "\n",
    "**Метрики** :\n",
    "MSE\n",
    "rMSE\n",
    "MAE\n",
    "R$^2$"
   ]
  },
  {
   "cell_type": "markdown",
   "id": "64f32084-ee1d-401b-8caa-ccd45b213ead",
   "metadata": {},
   "source": [
    "-----"
   ]
  },
  {
   "cell_type": "markdown",
   "id": "4c7cb66c-a605-4b92-b312-263c4dcab04e",
   "metadata": {},
   "source": [
    "## Градиентный спуск параболы"
   ]
  },
  {
   "cell_type": "code",
   "execution_count": 98,
   "id": "bbc6e76d-d47d-4fff-a196-f94d48b0133a",
   "metadata": {},
   "outputs": [],
   "source": [
    "import numpy as np\n",
    "import matplotlib.pyplot as plt"
   ]
  },
  {
   "cell_type": "code",
   "execution_count": 99,
   "id": "1f78d788-7bd0-41ac-95b3-434a21f7afb5",
   "metadata": {},
   "outputs": [],
   "source": [
    "X = np.linspace(-100, 100, 100)"
   ]
  },
  {
   "cell_type": "code",
   "execution_count": 100,
   "id": "ab03732a-c28d-403d-8248-c0a2ba09f649",
   "metadata": {},
   "outputs": [],
   "source": [
    "def func(x):\n",
    "    return x**2\n",
    "    \n",
    "def grad(x):\n",
    "    return 2*x"
   ]
  },
  {
   "cell_type": "code",
   "execution_count": 139,
   "id": "299ccb47-2e70-4c4d-814a-cd8efaf43dfd",
   "metadata": {},
   "outputs": [
    {
     "name": "stdout",
     "output_type": "stream",
     "text": [
      "Стартовая точка: 6.767676767676768\n",
      "Итерация №1, текущая точка: 5.414141414141414\n",
      "------------------------------------------------\n",
      "Итерация №2, текущая точка: 4.331313131313132\n",
      "------------------------------------------------\n",
      "Итерация №3, текущая точка: 3.465050505050505\n",
      "------------------------------------------------\n",
      "Итерация №4, текущая точка: 2.7720404040404043\n",
      "------------------------------------------------\n",
      "Итерация №5, текущая точка: 2.2176323232323236\n",
      "------------------------------------------------\n",
      "Итерация №6, текущая точка: 1.774105858585859\n",
      "------------------------------------------------\n",
      "Итерация №7, текущая точка: 1.419284686868687\n",
      "------------------------------------------------\n",
      "Итерация №8, текущая точка: 1.1354277494949496\n",
      "------------------------------------------------\n",
      "Итерация №9, текущая точка: 0.9083421995959597\n",
      "------------------------------------------------\n",
      "Итерация №10, текущая точка: 0.7266737596767678\n",
      "------------------------------------------------\n",
      "Итерация №11, текущая точка: 0.5813390077414142\n",
      "------------------------------------------------\n",
      "Итерация №12, текущая точка: 0.46507120619313136\n",
      "------------------------------------------------\n",
      "Итерация №13, текущая точка: 0.3720569649545051\n",
      "------------------------------------------------\n",
      "Итерация №14, текущая точка: 0.2976455719636041\n",
      "------------------------------------------------\n",
      "Итерация №15, текущая точка: 0.23811645757088326\n",
      "------------------------------------------------\n",
      "Итерация №16, текущая точка: 0.1904931660567066\n",
      "------------------------------------------------\n",
      "Итерация №17, текущая точка: 0.15239453284536528\n",
      "------------------------------------------------\n",
      "Итерация №18, текущая точка: 0.12191562627629222\n",
      "------------------------------------------------\n",
      "Итерация №19, текущая точка: 0.09753250102103378\n",
      "------------------------------------------------\n",
      "Итерация №20, текущая точка: 0.07802600081682702\n",
      "------------------------------------------------\n",
      "Итерация №21, текущая точка: 0.06242080065346162\n",
      "------------------------------------------------\n",
      "Итерация №22, текущая точка: 0.04993664052276929\n",
      "------------------------------------------------\n",
      "Итерация №23, текущая точка: 0.039949312418215435\n",
      "------------------------------------------------\n",
      "Итерация №24, текущая точка: 0.03195944993457235\n",
      "------------------------------------------------\n",
      "Итерация №25, текущая точка: 0.02556755994765788\n",
      "------------------------------------------------\n",
      "Итерация №26, текущая точка: 0.020454047958126303\n",
      "------------------------------------------------\n",
      "Итерация №27, текущая точка: 0.016363238366501043\n",
      "------------------------------------------------\n",
      "Итерация №28, текущая точка: 0.013090590693200834\n",
      "------------------------------------------------\n",
      "Итерация №29, текущая точка: 0.010472472554560668\n",
      "------------------------------------------------\n",
      "Итерация №30, текущая точка: 0.008377978043648534\n",
      "------------------------------------------------\n",
      "Итерация №31, текущая точка: 0.006702382434918827\n",
      "------------------------------------------------\n",
      "Итерация №32, текущая точка: 0.005361905947935062\n",
      "------------------------------------------------\n",
      "Итерация №33, текущая точка: 0.00428952475834805\n",
      "------------------------------------------------\n",
      "Итерация №34, текущая точка: 0.0034316198066784397\n",
      "------------------------------------------------\n",
      "Итерация №35, текущая точка: 0.0027452958453427516\n",
      "------------------------------------------------\n",
      "Итерация №36, текущая точка: 0.0021962366762742014\n",
      "------------------------------------------------\n",
      "Итерация №37, текущая точка: 0.0017569893410193612\n",
      "------------------------------------------------\n",
      "Итерация №38, текущая точка: 0.0014055914728154889\n",
      "------------------------------------------------\n",
      "Итерация №39, текущая точка: 0.0011244731782523911\n",
      "------------------------------------------------\n",
      "Итерация №40, текущая точка: 0.0008995785426019129\n",
      "------------------------------------------------\n",
      "Итерация №41, текущая точка: 0.0007196628340815303\n",
      "------------------------------------------------\n",
      "Итерация №42, текущая точка: 0.0005757302672652243\n",
      "------------------------------------------------\n",
      "Итерация №43, текущая точка: 0.00046058421381217943\n",
      "------------------------------------------------\n",
      "Итерация №44, текущая точка: 0.00036846737104974354\n",
      "------------------------------------------------\n"
     ]
    },
    {
     "data": {
      "image/png": "[encoded data removed]",
      "text/plain": [
       "<Figure size 640x480 with 1 Axes>"
      ]
     },
     "metadata": {},
     "output_type": "display_data"
    }
   ],
   "source": [
    "point = np.random.choice(X)\n",
    "print(f'Стартовая точка: {point}')\n",
    "\n",
    "eps = 0.0001\n",
    "learning_rate = 0.1\n",
    "points_list = [point]\n",
    "i=1\n",
    "while True:\n",
    "    next_point = point - grad(point)*learning_rate\n",
    "\n",
    "    print(f'Итерация №{i}, текущая точка: {next_point}')\n",
    "    print('------------------------------------------------')\n",
    "    points_list.append(point)\n",
    "    if abs(point-next_point) <= eps:\n",
    "        break\n",
    "    point = next_point\n",
    "    i+=1\n",
    "\n",
    "\n",
    "points_list = np.array(points_list)\n",
    "plt.grid()\n",
    "plt.scatter(points_list, func(points_list), c='r')\n",
    "plt.plot(X, func(X));"
   ]
  },
  {
   "cell_type": "code",
   "execution_count": 135,
   "id": "351d7ed8-06bd-47cc-83e3-a822787a4786",
   "metadata": {},
   "outputs": [],
   "source": [
    "# Сделать в виде класса*"
   ]
  },
  {
   "cell_type": "markdown",
   "id": "445e10fd-3ef6-4d31-b263-76ebbe7a3525",
   "metadata": {},
   "source": [
    "## Линейная регрессия OLS с SSE"
   ]
  },
  {
   "cell_type": "markdown",
   "id": "5a0da919-ebc2-4a9e-82ea-151763ae4fcf",
   "metadata": {},
   "source": [
    "## Линейная регрессия GD с MSE"
   ]
  },
  {
   "cell_type": "markdown",
   "id": "fc574b03-6ef8-4186-ae8e-4f86165831cd",
   "metadata": {},
   "source": [
    "## Scikit-Learn"
   ]
  },
  {
   "cell_type": "code",
   "execution_count": null,
   "id": "ab9bae63-a2e7-43a1-b04d-758318e021a3",
   "metadata": {},
   "outputs": [],
   "source": []
  }
 ],
 "metadata": {
  "kernelspec": {
   "display_name": "Python 3 (ipykernel)",
   "language": "python",
   "name": "python3"
  },
  "language_info": {
   "codemirror_mode": {
    "name": "ipython",
    "version": 3
   },
   "file_extension": ".py",
   "mimetype": "text/x-python",
   "name": "python",
   "nbconvert_exporter": "python",
   "pygments_lexer": "ipython3",
   "version": "3.12.3"
  }
 },
 "nbformat": 4,
 "nbformat_minor": 5
}
