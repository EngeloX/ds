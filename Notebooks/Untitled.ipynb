{
 "cells": [
  {
   "cell_type": "markdown",
   "id": "3d3ac2d4-70ab-416e-8683-cfe0f211185f",
   "metadata": {},
   "source": [
    "**`Функция потеря (loss function)`** : Функция, которая показывает насколько действительные значения откланяются от тех, что были созданы пробной функцией.\n",
    "\n",
    "**`Регрессия`** : Способ выбрать функцию, что будет наилучшим(оптимальным) образом описывать точки. Лучшая - та что минимизирует функцию потерь, то есть значения ошибки будет минимально возможным в данной ситуации.\n",
    "\n",
    "----\n",
    "**`Линейная регрессия`** :  Линейная функция зависимости целевой переменной от одной или нескольких других переменных(предикторов)\n",
    "$$\n",
    "y = wX+b\n",
    "$$\n",
    "\n",
    "В случаи многомерной регресси, добавляется фиктивный столбец единиц $x_0$ и $b(w_0)$ рассчитывается как его коэффициент\n",
    "$$\n",
    "y = \\theta_0X_0 + \\theta_1X_1 + ... \\theta_nX_n\n",
    "$$\n",
    "$$\n",
    "y = \\theta X\n",
    "$$\n",
    "\n",
    "$y$ - Целевое значение, которые необхидимо предсказать. (target)\\\n",
    "$X$ - Признаки включая фиктивный\\\n",
    "$w(\\theta_i)$ - Вес при признаках. (Коэффициент наклона) (**coef_**)\\\n",
    "$b(\\theta_0)$ - Свободный член. (Коэффициент сдвига) (**intercept_**) \n",
    "\n",
    "Цель регрессии — найти коэффициенты этой линейной комбинации, и тем самым определить регрессионную функцию, что наилучшим образом будет описывать заданную тенденцию.\n",
    "\n",
    "Определить **loss-функцию** -> задать начальные параметры весов -> определить метод оптимизации -> минимизировать ошибку -> оценить по метрикам.\n",
    "\n",
    "---"
   ]
  },
  {
   "cell_type": "markdown",
   "id": "9d0e964b-33e6-4e26-ad1e-6b9549874fcc",
   "metadata": {},
   "source": [
    "# Ordinary List Squares"
   ]
  },
  {
   "cell_type": "markdown",
   "id": "217538bf-90cf-4b8e-9a56-a5c58f4291c4",
   "metadata": {},
   "source": [
    "**Метод наименьших квадратов** Аналитическое решение для задачи регрессии. \\\n",
    "Нормальное уравнение для нахождения коэффициентов линейной регрессии\n",
    "$$\n",
    "\\vec{w} = (X^T X)^{-1} X^T \\vec{y}\n",
    "$$\n",
    "- $\\vec{w}$ – (искомый) вектор весов  \n",
    "- $X$ – матрица признаков  \n",
    "- $X^T$ – транспонированная матрица признаков  \n",
    "- $\\vec{y}$ – вектор целевых значений  \n",
    "- ${}^{-1}$ – обратная матрица  "
   ]
  },
  {
   "cell_type": "code",
   "execution_count": 25,
   "id": "fb815a0b-c804-4428-a898-9909df5c03d4",
   "metadata": {},
   "outputs": [
    {
     "data": {
      "image/png": "[encoded data removed]",
      "text/plain": [
       "<Figure size 640x480 with 1 Axes>"
      ]
     },
     "metadata": {},
     "output_type": "display_data"
    }
   ],
   "source": [
    "import numpy as np\n",
    "import matplotlib.pyplot as plt\n",
    "from sklearn.datasets import make_regression\n",
    "X, y = make_regression(n_samples=100, n_features=1, n_informative=1, noise=15, random_state=12)\n",
    "\n",
    "plt.grid()\n",
    "plt.scatter(X, y);"
   ]
  },
  {
   "cell_type": "markdown",
   "id": "1d5faed8-b441-4047-87f4-e7cb8a3d75ae",
   "metadata": {},
   "source": [
    "**Добавление фиктивного столбца единиц**"
   ]
  },
  {
   "cell_type": "code",
   "execution_count": 20,
   "id": "2c291aee-efbd-4fa2-8a31-cf25ee53c358",
   "metadata": {},
   "outputs": [],
   "source": [
    "ones = np.ones((X.shape[0], 1))\n",
    "X = np.hstack((ones, X))"
   ]
  },
  {
   "cell_type": "markdown",
   "id": "167dab1a-f225-499a-a20c-dcb9892a7955",
   "metadata": {},
   "source": [
    "**Нормальное уравнение**"
   ]
  },
  {
   "cell_type": "code",
   "execution_count": 26,
   "id": "ae30cfcc-d55c-44ce-a758-85f30918df99",
   "metadata": {},
   "outputs": [
    {
     "data": {
      "text/plain": [
       "111.4837082150251"
      ]
     },
     "execution_count": 26,
     "metadata": {},
     "output_type": "execute_result"
    }
   ],
   "source": [
    "# Проверка на выражденность\n",
    "np.linalg.det(X.T@X)"
   ]
  },
  {
   "cell_type": "code",
   "execution_count": 26,
   "id": "917350b3-9b49-4eb2-96c2-8910b2724ee2",
   "metadata": {},
   "outputs": [
    {
     "data": {
      "text/plain": [
       "(37.73996473539595, -1.1588320019517484)"
      ]
     },
     "execution_count": 26,
     "metadata": {},
     "output_type": "execute_result"
    }
   ],
   "source": [
    "OLS = np.linalg.inv(X.T@X)@X.T@y\n",
    "intercept_, coef_ = OLS[0], OLS[1]\n",
    "coef_, intercept_"
   ]
  },
  {
   "cell_type": "markdown",
   "id": "4d884e79-e6b7-44ff-8539-d6ea66b1d6c3",
   "metadata": {},
   "source": [
    "**Сравнение с scikit-learn**"
   ]
  },
  {
   "cell_type": "code",
   "execution_count": 16,
   "id": "4e2e44c9-3ffa-419f-a317-4de0177f8a10",
   "metadata": {},
   "outputs": [
    {
     "data": {
      "text/plain": [
       "(array([37.73996474]), -1.158832001951743)"
      ]
     },
     "execution_count": 16,
     "metadata": {},
     "output_type": "execute_result"
    }
   ],
   "source": [
    "from sklearn.linear_model import LinearRegression\n",
    "linreg = LinearRegression()\n",
    "linreg.fit(X, y)\n",
    "linreg.coef_, linreg.intercept_"
   ]
  },
  {
   "cell_type": "markdown",
   "id": "cf4da502-808e-4b46-9587-9c37b20794b2",
   "metadata": {},
   "source": [
    "## OLS SVD"
   ]
  },
  {
   "cell_type": "markdown",
   "id": "b8a19039-dcd4-4a1c-b6be-bb2333e660ff",
   "metadata": {},
   "source": [
    "Наиболее устойчивый способ решения задачи **МНК** способен обработать матрицу в случаи её вырожденности и мульиколлениарности.\n",
    "\n",
    "**Сингулярное разложение**: Сингулярные числа - это корни из собственных значений матрицы $X^TX$. Это неотрицательные числа, которые указывают на \"важность\" или \"влияние\" соответствующих сингулярных векторов в разложении.\n",
    "$$\n",
    "X = USV^T\n",
    "$$\n",
    "\n",
    "$X$ - Исходная матрица признаков $m * n$\\\n",
    "$U$ - Ортнормальная матрица $m*m$. Матрица левых сингулярных векторов.\\\n",
    "$S$ - Диагональная матрица сингулярных векторов. $m*n$\\\n",
    "$V^T$ - Транспонированная ортнормальная матрица правых векторов $n*n$\n",
    "\n",
    "----\n",
    "Метод наименьших квадратов с сингулярным разложением выражается как\n",
    "$$\n",
    "\\vec{w} = (X^T X)^{-1} X^T \\vec{y}\n",
    "$$\n",
    "$$\n",
    "X^T = (USV^T)^T = U^TS^TV\n",
    "$$\n",
    "$U$ - Ортоганальная матрица => $U^TU=I$ и остается\n",
    "$$\n",
    "X^TX = (U^TS^TV)(USV^T) = S^TVSV^T\n",
    "$$\n",
    "Обратная матрица: Поскольку $U$ и $V$ ортонормальные(ортогональные матрицы), то $Q^T=Q^{-1}$, значит $V^{-1}=V^T$ а $(V^T)^{-1}=V$\n",
    "$$\n",
    "(X^TX)^{-1} = (S^TVSV^T)^{-1} = V(S^TS)^{-1}V^T\n",
    "$$\n",
    "Подставляем в уравнение\n",
    "$$\n",
    "(X^TX)^{-1}X^T \\vec{y} = V(S^TS)^{-1}V^TU^TS^TV\\vec{y}\n",
    "$$\n",
    "\n",
    "$V^TV = I$ => они себя нейтрализуют о остается\n",
    "$$\n",
    "(X^TX)^{-1}X^T \\vec{y} = V(S^TS)^{-1}U^TS^T\\vec{y}\n",
    "$$\n",
    "$(S^TS)^{-1}$ - диагональная матрица её можно скомпоновать взяв **ПСЕВДООБРАТНУЮ**\n",
    "$$\n",
    "\\vec{w} = (X^TX)^{-1}X^T \\vec{y} = V^TS^+U^T\\vec{y}\n",
    "$$\n",
    "$S^+$ - псевдообратная матрица $S$ (это матрица, которая инвертирует только ненулевые сингулярные значения)."
   ]
  },
  {
   "cell_type": "markdown",
   "id": "fcf2365e-a8b6-4cc3-9eae-9fe7ff973bbc",
   "metadata": {},
   "source": [
    "### Выражденная матрица"
   ]
  },
  {
   "cell_type": "code",
   "execution_count": 221,
   "id": "ad8c6512-1189-4bcc-994f-f3ca7c56365f",
   "metadata": {},
   "outputs": [
    {
     "data": {
      "text/plain": [
       "((100, 4), (100,))"
      ]
     },
     "execution_count": 221,
     "metadata": {},
     "output_type": "execute_result"
    }
   ],
   "source": [
    "x1 = np.arange(1, 101).reshape(-1, 1)\n",
    "x2 = (x1*2).reshape(-1, 1)\n",
    "x3 = (x2*3).reshape(-1, 1)\n",
    "x4 = (x2*3 + x3*4).reshape(-1, 1)\n",
    "\n",
    "X = np.hstack((x1, x2))\n",
    "X = np.hstack((X, x3))\n",
    "X = np.hstack((X, x4))\n",
    "\n",
    "y = np.arange(1, 200, 2)\n",
    "X.shape, y.shape"
   ]
  },
  {
   "cell_type": "code",
   "execution_count": 226,
   "id": "ab6a6545-c006-4d46-a6ee-dc7796b2cae2",
   "metadata": {},
   "outputs": [],
   "source": [
    "ones = np.ones(X.shape[0]).reshape(-1, 1)\n",
    "X = np.hstack((ones, X))"
   ]
  },
  {
   "cell_type": "code",
   "execution_count": 227,
   "id": "b66e76b5-0f63-43fd-97e0-7405a5d40333",
   "metadata": {},
   "outputs": [
    {
     "data": {
      "text/plain": [
       "(0.0, 2)"
      ]
     },
     "execution_count": 227,
     "metadata": {},
     "output_type": "execute_result"
    }
   ],
   "source": [
    "np.linalg.det(X.T@X), np.linalg.matrix_rank(X.T@X)"
   ]
  },
  {
   "cell_type": "markdown",
   "id": "7819398a-f4e0-4075-8bca-a088105e0552",
   "metadata": {},
   "source": [
    "Детерминант равен нулю и ранг меньше количества столбцов => матрица **сингулярна**"
   ]
  },
  {
   "cell_type": "code",
   "execution_count": 228,
   "id": "1e4cee2a-ff0c-4fd2-a2d1-07a2342e7630",
   "metadata": {},
   "outputs": [
    {
     "ename": "LinAlgError",
     "evalue": "Singular matrix",
     "output_type": "error",
     "traceback": [
      "\u001b[1;31m---------------------------------------------------------------------------\u001b[0m",
      "\u001b[1;31mLinAlgError\u001b[0m                               Traceback (most recent call last)",
      "Cell \u001b[1;32mIn[228], line 1\u001b[0m\n\u001b[1;32m----> 1\u001b[0m OLS \u001b[38;5;241m=\u001b[39m np\u001b[38;5;241m.\u001b[39mlinalg\u001b[38;5;241m.\u001b[39minv(X\u001b[38;5;241m.\u001b[39mT\u001b[38;5;129m@X\u001b[39m)\u001b[38;5;129m@X\u001b[39m\u001b[38;5;241m.\u001b[39mT\u001b[38;5;129m@y\u001b[39m\n",
      "File \u001b[1;32m~\\anaconda3\\Lib\\site-packages\\numpy\\linalg\\linalg.py:561\u001b[0m, in \u001b[0;36minv\u001b[1;34m(a)\u001b[0m\n\u001b[0;32m    559\u001b[0m signature \u001b[38;5;241m=\u001b[39m \u001b[38;5;124m'\u001b[39m\u001b[38;5;124mD->D\u001b[39m\u001b[38;5;124m'\u001b[39m \u001b[38;5;28;01mif\u001b[39;00m isComplexType(t) \u001b[38;5;28;01melse\u001b[39;00m \u001b[38;5;124m'\u001b[39m\u001b[38;5;124md->d\u001b[39m\u001b[38;5;124m'\u001b[39m\n\u001b[0;32m    560\u001b[0m extobj \u001b[38;5;241m=\u001b[39m get_linalg_error_extobj(_raise_linalgerror_singular)\n\u001b[1;32m--> 561\u001b[0m ainv \u001b[38;5;241m=\u001b[39m _umath_linalg\u001b[38;5;241m.\u001b[39minv(a, signature\u001b[38;5;241m=\u001b[39msignature, extobj\u001b[38;5;241m=\u001b[39mextobj)\n\u001b[0;32m    562\u001b[0m \u001b[38;5;28;01mreturn\u001b[39;00m wrap(ainv\u001b[38;5;241m.\u001b[39mastype(result_t, copy\u001b[38;5;241m=\u001b[39m\u001b[38;5;28;01mFalse\u001b[39;00m))\n",
      "File \u001b[1;32m~\\anaconda3\\Lib\\site-packages\\numpy\\linalg\\linalg.py:112\u001b[0m, in \u001b[0;36m_raise_linalgerror_singular\u001b[1;34m(err, flag)\u001b[0m\n\u001b[0;32m    111\u001b[0m \u001b[38;5;28;01mdef\u001b[39;00m \u001b[38;5;21m_raise_linalgerror_singular\u001b[39m(err, flag):\n\u001b[1;32m--> 112\u001b[0m     \u001b[38;5;28;01mraise\u001b[39;00m LinAlgError(\u001b[38;5;124m\"\u001b[39m\u001b[38;5;124mSingular matrix\u001b[39m\u001b[38;5;124m\"\u001b[39m)\n",
      "\u001b[1;31mLinAlgError\u001b[0m: Singular matrix"
     ]
    }
   ],
   "source": [
    "OLS = np.linalg.inv(X.T@X)@X.T@y"
   ]
  },
  {
   "cell_type": "markdown",
   "id": "78d16c43-e1f8-48ad-9c2f-b8aa10e65a4a",
   "metadata": {},
   "source": [
    "### Сингулярное разложение"
   ]
  },
  {
   "cell_type": "code",
   "execution_count": 273,
   "id": "0335c1b3-67a6-493b-91be-9dcfe3096e92",
   "metadata": {},
   "outputs": [],
   "source": [
    "U, S, VT = np.linalg.svd(X, full_matrices=False)\n",
    "S = np.diag(S)"
   ]
  },
  {
   "cell_type": "code",
   "execution_count": 274,
   "id": "9f62cebc-7a21-4b4a-879c-a9549ec8ed93",
   "metadata": {},
   "outputs": [
    {
     "data": {
      "text/plain": [
       "((100, 5), (5, 5), (5, 5))"
      ]
     },
     "execution_count": 274,
     "metadata": {},
     "output_type": "execute_result"
    }
   ],
   "source": [
    "U.shape, S.shape, VT.shape"
   ]
  },
  {
   "cell_type": "markdown",
   "id": "738993c3-0551-4f9b-b723-827065bef7ff",
   "metadata": {},
   "source": [
    "#### Реконструкция"
   ]
  },
  {
   "cell_type": "code",
   "execution_count": 275,
   "id": "6b54dcc6-9475-434c-b548-98afc6591f8e",
   "metadata": {},
   "outputs": [],
   "source": [
    "X_reconst = U@S@VT"
   ]
  },
  {
   "cell_type": "code",
   "execution_count": 276,
   "id": "57dcfa6f-98e0-4ff7-ba01-0de5bed433ab",
   "metadata": {},
   "outputs": [
    {
     "data": {
      "text/plain": [
       "(100, 5)"
      ]
     },
     "execution_count": 276,
     "metadata": {},
     "output_type": "execute_result"
    }
   ],
   "source": [
    "X.shape"
   ]
  },
  {
   "cell_type": "code",
   "execution_count": 277,
   "id": "93d0b40d-2394-457b-b8d0-c5e7785a424b",
   "metadata": {},
   "outputs": [
    {
     "data": {
      "text/plain": [
       "array([[  1.,   1.,   2.,   6.,  30.],\n",
       "       [  1.,   2.,   4.,  12.,  60.],\n",
       "       [  1.,   3.,   6.,  18.,  90.],\n",
       "       [  1.,   4.,   8.,  24., 120.],\n",
       "       [  1.,   5.,  10.,  30., 150.]])"
      ]
     },
     "execution_count": 277,
     "metadata": {},
     "output_type": "execute_result"
    }
   ],
   "source": [
    "X_reconst[0:5]"
   ]
  },
  {
   "cell_type": "code",
   "execution_count": 278,
   "id": "5f0f92b5-3cfe-4260-951b-a9bc4f0a7c5b",
   "metadata": {},
   "outputs": [
    {
     "data": {
      "text/plain": [
       "array([[  1.,   1.,   2.,   6.,  30.],\n",
       "       [  1.,   2.,   4.,  12.,  60.],\n",
       "       [  1.,   3.,   6.,  18.,  90.],\n",
       "       [  1.,   4.,   8.,  24., 120.],\n",
       "       [  1.,   5.,  10.,  30., 150.]])"
      ]
     },
     "execution_count": 278,
     "metadata": {},
     "output_type": "execute_result"
    }
   ],
   "source": [
    "X[0:5]"
   ]
  },
  {
   "cell_type": "code",
   "execution_count": 279,
   "id": "fef33834-02b8-4fb9-959b-20f191fe9ed2",
   "metadata": {},
   "outputs": [
    {
     "data": {
      "text/plain": [
       "8.413674870724915e-20"
      ]
     },
     "execution_count": 279,
     "metadata": {},
     "output_type": "execute_result"
    }
   ],
   "source": [
    "np.linalg.det(X_reconst.T@X_reconst)"
   ]
  },
  {
   "cell_type": "markdown",
   "id": "36631013-72aa-442d-bceb-fb85a8fabc13",
   "metadata": {},
   "source": [
    "Детерминант реконструированной матрицы уже не равен нулю, и матрица не является выражденной"
   ]
  },
  {
   "cell_type": "code",
   "execution_count": 280,
   "id": "de430001-0899-44cc-ad47-03f6ffaa879d",
   "metadata": {},
   "outputs": [
    {
     "data": {
      "text/plain": [
       "array([-1.        ,  0.0021254 ,  0.0042508 ,  0.01275239,  0.06376196])"
      ]
     },
     "execution_count": 280,
     "metadata": {},
     "output_type": "execute_result"
    }
   ],
   "source": [
    "VT.T@np.linalg.pinv(S)@U.T@y"
   ]
  },
  {
   "cell_type": "markdown",
   "id": "d84df6f6-3e94-4f93-822b-e72e572136fa",
   "metadata": {},
   "source": [
    "### Решение через pinv"
   ]
  },
  {
   "cell_type": "markdown",
   "id": "8fcbfa1e-04f9-4b2f-883f-33e68afaa6c1",
   "metadata": {},
   "source": [
    "Псевдообратная матрица, реализует в себе **SVD**"
   ]
  },
  {
   "cell_type": "code",
   "execution_count": 281,
   "id": "01a1ad21-a6cb-4c52-ae5b-5eaa8c970c1a",
   "metadata": {},
   "outputs": [
    {
     "data": {
      "text/plain": [
       "array([-1.        ,  0.0021254 ,  0.0042508 ,  0.01275239,  0.06376196])"
      ]
     },
     "execution_count": 281,
     "metadata": {},
     "output_type": "execute_result"
    }
   ],
   "source": [
    "np.linalg.pinv(X).dot(y)"
   ]
  },
  {
   "cell_type": "markdown",
   "id": "5d092061-b50a-4232-8c54-0df6a2b09a28",
   "metadata": {},
   "source": [
    "### Решение через lstsq"
   ]
  },
  {
   "cell_type": "markdown",
   "id": "3e52a5c9-db4c-449e-820c-643b9859144f",
   "metadata": {},
   "source": [
    "Метод наименьших квадратов, реализованный в **numpy** также реализует **SVD**"
   ]
  },
  {
   "cell_type": "code",
   "execution_count": 282,
   "id": "af9c78a8-f162-43c6-ac08-d7af69043d2a",
   "metadata": {},
   "outputs": [
    {
     "data": {
      "text/plain": [
       "array([-1.        ,  0.0021254 ,  0.0042508 ,  0.01275239,  0.06376196])"
      ]
     },
     "execution_count": 282,
     "metadata": {},
     "output_type": "execute_result"
    }
   ],
   "source": [
    "np.linalg.lstsq(X, y, rcond=1e-6)[0]"
   ]
  },
  {
   "cell_type": "markdown",
   "id": "6d4e581f-a8b9-4973-97e8-61c1406ca2a2",
   "metadata": {},
   "source": [
    "### Решение через sklearn"
   ]
  },
  {
   "cell_type": "markdown",
   "id": "b7c23c63-8732-4e24-9f23-3e5e4865c752",
   "metadata": {},
   "source": [
    "Реализация **OLS** с **SVD** в модели регрессии в sklearn"
   ]
  },
  {
   "cell_type": "code",
   "execution_count": 283,
   "id": "a2f06bd8-cb70-433a-9a28-758d51c640b8",
   "metadata": {},
   "outputs": [
    {
     "data": {
      "text/plain": [
       "(-1.0, array([0.        , 0.0021254 , 0.0042508 , 0.01275239, 0.06376196]))"
      ]
     },
     "execution_count": 283,
     "metadata": {},
     "output_type": "execute_result"
    }
   ],
   "source": [
    "from sklearn.linear_model import LinearRegression\n",
    "linreg = LinearRegression()\n",
    "linreg.fit(X, y)\n",
    "linreg.intercept_, linreg.coef_"
   ]
  },
  {
   "cell_type": "code",
   "execution_count": null,
   "id": "b23cbe41-6492-4594-91ca-917ffcd78118",
   "metadata": {},
   "outputs": [],
   "source": []
  }
 ],
 "metadata": {
  "kernelspec": {
   "display_name": "Python 3 (ipykernel)",
   "language": "python",
   "name": "python3"
  },
  "language_info": {
   "codemirror_mode": {
    "name": "ipython",
    "version": 3
   },
   "file_extension": ".py",
   "mimetype": "text/x-python",
   "name": "python",
   "nbconvert_exporter": "python",
   "pygments_lexer": "ipython3",
   "version": "3.12.3"
  }
 },
 "nbformat": 4,
 "nbformat_minor": 5
}
