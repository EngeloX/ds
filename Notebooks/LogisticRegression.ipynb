{
 "cells": [
  {
   "cell_type": "markdown",
   "id": "11038e86-f204-4cf0-8da8-1e38caf7e028",
   "metadata": {},
   "source": [
    "`Скалярное произведение` : Сумма произведений соответствующих компонент вектора. Сумма покомпонетных умножений.\\\n",
    "a = x1, x2, x3 (Первый вектор)\\\n",
    "b = y1, y2, y3 (Второй вектор)\\\n",
    "$a * b = x1*y1 + x2*y2 + x3*y3$\n",
    "\n",
    "$$\n",
    "a*b = \\sum{{a_i}*{b_i}}\n",
    "$$\n",
    "\n",
    "-------"
   ]
  },
  {
   "cell_type": "markdown",
   "id": "d555f4ac-836b-4ac8-aff6-8bf77e7e4977",
   "metadata": {},
   "source": [
    "`Логистическая регрессия` : Решает задачу бинарной классификации, путем обертывания функции **Линейной регрессии** в **сигмоидальную функцию**, тем самым результат линейной функции загоняется в промежуток от {0, 1}, и интерпритируется как вероятность принадлежности к классу.\n",
    "$$\n",
    "\\sigma(z) = \\frac{1}{1+e^{-z}}\n",
    "$$\n",
    "\n",
    "$z$ - Линейная функция $y = wx+b$\n",
    "\n",
    "------\n",
    "**`Правдоподобие(likelihood)`**\\\n",
    "это мера того, насколько хорошо модель предсказывает данные, с учётом её параметров. В логистической регрессии это вероятность, что модель предсказала правильные классы для всех объектов в выборке.\n",
    "\n",
    "$$\\prod p_i^{y_i}* (1-p_i)^{1-y_i} → max$$\n",
    "$p_i$ — Предсказанная моделью вероятность, что объект $i$ принадлежит классу 1\\\n",
    "$1-p_i$ - Вероятность что объект принадлежит классу 0\\\n",
    "$y_i$ - Истинная метка\\\n",
    "$i$ - 0 или 1\n",
    "\n",
    "*Если $y_i$ = 1(Объект действительно принадлежит классу 1) то степень второго множителя ${1-y_i}=0$ а значит множитель будет равен единицы и объект будет иметь просто $p_i$ свою вероятность принадлежности к классу 1*\\\n",
    "*Если $y_i$ = 0(Объект в действительности принадлежит классу 0) то первый множитель $p_i^{y_i}$ будет равен единицы(из за степени ноль), а значит его вероятность принадлежности к классу ноль остается как второй множитель - единица минус вероятность приндлежности к классу 1*\n",
    "\n",
    "Общее правдоподобие для выборки является произведением правдоподбий всех объектов выборки.\n",
    "\n",
    "Но такой критерий из за многократного умножения вещественных чисел имеет слишком много вещественных нулей. И поиск наилучшего решения является задачей максимизации, а не привычной минимизацией функции ошибки, отсюда выражается **logloss**:\n"
   ]
  },
  {
   "cell_type": "markdown",
   "id": "f65e160c-e852-4585-9083-ea2ecb9473e9",
   "metadata": {},
   "source": [
    "**y = [ 1, 0, 1, 1, 0 ] - Истинные метки классов**\\\n",
    "**p = [ 0.9, 0.1, 0.8, 0.7, 0.2 ] - Вероятности**\n",
    "\n",
    "$(0.9^1 * (1-0.9)^{1-1}) * (0.1^0 * (1-0.1)^{1-0}) * (0.8^1 * (1-0.8)^{1-1}) * (0.7^1 * (1-0.7)^{1-1}) * (0.2^0 * (1-0.2)^{1-0})$\n",
    "\n",
    "$(0.9^1 * (1-0.9)^{0}) * (0.1^0 * (1-0.1)^{1}) * (0.8^1 * (1-0.8)^{0}) * (0.7^1 * (1-0.7)^{0}) * (0.2^0 * (1-0.2)^{1})$\n",
    "\n",
    "$(0.9^1 * 1) * (1 * (1-0.1)^{1}) * (0.8^1 * 1) * (0.7^1 * 1) * (1 * (1-0.2)^{1})$\n",
    "\n",
    "$0.9 * 0.9 * 0.8 * 0.7 * 0.8$"
   ]
  },
  {
   "cell_type": "code",
   "execution_count": 25,
   "id": "2776718e-3a09-4083-bedf-196ec058c215",
   "metadata": {},
   "outputs": [
    {
     "data": {
      "text/plain": [
       "'Правдоподобие: 0.3629'"
      ]
     },
     "execution_count": 25,
     "metadata": {},
     "output_type": "execute_result"
    }
   ],
   "source": [
    "likelihood = 0.9 * 0.9 * 0.8 * 0.7 * 0.8\n",
    "f'Правдоподобие: {likelihood:.4f}'"
   ]
  },
  {
   "cell_type": "markdown",
   "id": "ecf2f62f-a161-495c-bbc4-e7a2f0124362",
   "metadata": {},
   "source": [
    "**logloss** Выражается из правдоподбия как: Логарифм правдоподобия, деленный на количество элементов выборки, умноженный на -1:\n",
    "$$log(L) = log(\\prod p_i^{y_i}* (1-p_i)^{1-y_i})$$\n",
    "Логарифм произведения раскрывается как логарифм сумма логорифмов компонент, исходя из свойства логорифма. $log_abc=log_ab+log_ac$\n",
    "$$log(L)= \\sum (log(p_i)^{y_i} + log(1 - p_i)^{1-y_i})$$\n",
    "$$\n",
    "logloss = - \\frac{1}{n}\\sum (y_i \\cdot log(p_i) + (1-y_i) \\cdot log(1 - p_i)) → min \n",
    "$$\n",
    "\n",
    "- Делится на количество объектов для получения средней ошибки для всей выборки\n",
    "- Логарифм в функции потерь используется для придания значимости число из за множественного количества нулей в в вещественной части\n",
    "- Умножается на минус единицу чтобы превратить функцию максимизации в привычную для ошибки функцию минимизации"
   ]
  },
  {
   "cell_type": "markdown",
   "id": "c9f30404-aee9-4d99-b39b-bd7882d559a0",
   "metadata": {},
   "source": [
    "**Правдоподобие LikeliHood**"
   ]
  },
  {
   "cell_type": "code",
   "execution_count": 63,
   "id": "2407ea75-0e8f-47d3-8fd6-3b4b35a4ca39",
   "metadata": {},
   "outputs": [
    {
     "data": {
      "text/plain": [
       "'Правдоподобие: 0.3629'"
      ]
     },
     "execution_count": 63,
     "metadata": {},
     "output_type": "execute_result"
    }
   ],
   "source": [
    "y = [1, 0, 1, 1, 0] # Истинные метки классов\n",
    "p = [0.9, 0.1, 0.8, 0.7, 0.2] # Вероятности\n",
    "f'Правдоподобие: {likelihood:.4f}'"
   ]
  },
  {
   "cell_type": "markdown",
   "id": "d6e57c7b-993e-4039-9a08-a55e5d7c1a2e",
   "metadata": {},
   "source": [
    "**Логарифм правдоподбия**"
   ]
  },
  {
   "cell_type": "code",
   "execution_count": 66,
   "id": "9474cfe3-e6c1-41f8-98d5-846499ea7e99",
   "metadata": {},
   "outputs": [
    {
     "data": {
      "text/plain": [
       "'Логарифм правдоподобия: -1.0136830778828043'"
      ]
     },
     "execution_count": 66,
     "metadata": {},
     "output_type": "execute_result"
    }
   ],
   "source": [
    "import numpy as np\n",
    "log_likelihood = np.log(likelihood)\n",
    "f'Логарифм правдоподобия: {log_likelihood}'"
   ]
  },
  {
   "cell_type": "markdown",
   "id": "229f366f-2eda-4520-b660-bc2e808418e3",
   "metadata": {},
   "source": [
    "**Функция потерь logloss**"
   ]
  },
  {
   "cell_type": "code",
   "execution_count": 69,
   "id": "562a1a4e-9d6d-4941-9b22-adf8d90314d0",
   "metadata": {},
   "outputs": [
    {
     "data": {
      "text/plain": [
       "0.20273661557656086"
      ]
     },
     "execution_count": 69,
     "metadata": {},
     "output_type": "execute_result"
    }
   ],
   "source": [
    "-1* log_likelihood / len(y)"
   ]
  },
  {
   "cell_type": "code",
   "execution_count": 71,
   "id": "77d562c3-516c-4016-8aa5-0faaee8d5c3d",
   "metadata": {},
   "outputs": [
    {
     "data": {
      "text/plain": [
       "0.20273661557656092"
      ]
     },
     "execution_count": 71,
     "metadata": {},
     "output_type": "execute_result"
    }
   ],
   "source": [
    "from sklearn.metrics import log_loss\n",
    "logloss = log_loss(y, p)\n",
    "logloss"
   ]
  },
  {
   "cell_type": "markdown",
   "id": "cd810754-e53a-4ffc-a377-a23adc7b86e2",
   "metadata": {},
   "source": [
    "**Логарифм правдоподобия выраженный из LogLoss**"
   ]
  },
  {
   "cell_type": "code",
   "execution_count": 82,
   "id": "ead83ad0-3152-41e0-9f36-059dc3bfc607",
   "metadata": {},
   "outputs": [
    {
     "name": "stdout",
     "output_type": "stream",
     "text": [
      " Логарифм правдоподобия:-1.0136830778828045 \n",
      " Правдоподобие: 0.36288\n"
     ]
    }
   ],
   "source": [
    "print(f' Логарифм правдоподобия:{log_loss(y, p)* len(y)*-1}','\\n',f'Правдоподобие: {np.exp(log_loss(y, p)* len(y)*-1)}')"
   ]
  },
  {
   "cell_type": "code",
   "execution_count": 83,
   "id": "4ed6acf8-d329-4ba1-8079-c2470aefbb02",
   "metadata": {},
   "outputs": [
    {
     "data": {
      "text/plain": [
       "37"
      ]
     },
     "execution_count": 83,
     "metadata": {},
     "output_type": "execute_result"
    }
   ],
   "source": [
    "a = np.array([1, 2, 3, 4])\n",
    "b = np.array([2, 5, 7, 1])\n",
    "a@b"
   ]
  },
  {
   "cell_type": "markdown",
   "id": "9e29d287-ab05-4c5c-9197-f0087b8d24f1",
   "metadata": {},
   "source": [
    "# Sklearn"
   ]
  },
  {
   "cell_type": "markdown",
   "id": "145c99ba-8dc0-4bf6-88b5-1f49e802a76a",
   "metadata": {},
   "source": [
    "**`solver`** : Алгоритм решения задачи минимизации функции потерь\n",
    "\n",
    "-\n",
    "-\n",
    "-\n",
    "-\n",
    "\n",
    "**`penalty`** : Регуляризация\n",
    "\n",
    "**`l1_ratio`** :"
   ]
  },
  {
   "cell_type": "code",
   "execution_count": 4,
   "id": "5af4d830-67d5-415a-ab7e-f8d709d6a1b7",
   "metadata": {},
   "outputs": [],
   "source": [
    "from sklearn.linear_model import LogisticRegression"
   ]
  },
  {
   "cell_type": "markdown",
   "id": "aca4f9a8-ec4c-4981-ac04-1cb2384d3025",
   "metadata": {},
   "source": [
    "# Gradient Descent"
   ]
  },
  {
   "cell_type": "code",
   "execution_count": null,
   "id": "60a868ba-d601-4139-97ae-9aea1536f23a",
   "metadata": {},
   "outputs": [],
   "source": []
  }
 ],
 "metadata": {
  "kernelspec": {
   "display_name": "Python 3 (ipykernel)",
   "language": "python",
   "name": "python3"
  },
  "language_info": {
   "codemirror_mode": {
    "name": "ipython",
    "version": 3
   },
   "file_extension": ".py",
   "mimetype": "text/x-python",
   "name": "python",
   "nbconvert_exporter": "python",
   "pygments_lexer": "ipython3",
   "version": "3.12.3"
  }
 },
 "nbformat": 4,
 "nbformat_minor": 5
}
