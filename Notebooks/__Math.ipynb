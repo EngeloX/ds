{
 "cells": [
  {
   "cell_type": "markdown",
   "id": "3b80926c-a65a-4e5c-91d4-e17ff0652454",
   "metadata": {},
   "source": [
    "`Вычитание матриц`\n",
    "$$\n",
    "C = A - B \\Rightarrow c_{ij} = a_{ij} - b_{ij}\n",
    "$$\n"
   ]
  },
  {
   "cell_type": "markdown",
   "id": "7adc2e2f-6c0c-4378-9b86-303aaba7961c",
   "metadata": {},
   "source": [
    "`Детерминант`:\n",
    "Коэффициент масштабируемости. Показатель насколько линейное преобразование, заданное матрицей, растягивает или сжимает пространство.\\\n",
    "*При применении матрицы к объекту изменяется не сам объект а искажается пространство в котором этот объект лежит*\n",
    "- $detA=2$ - Площадь увеличилась вдвое\n",
    "- $detA=0.5$ - Площадь уменьшилась в два раза\n",
    "- $detA=0$ - Площадь у фигуры отсутствует. Произошла потеря размерности, схлопнулось в низкое измерение\n",
    "- $detA<0$ - Отрицательный знак показывает, что произошел разворот фигуры."
   ]
  },
  {
   "cell_type": "markdown",
   "id": "ad27b4d2-3dfc-45f9-a164-00f184ee2fec",
   "metadata": {},
   "source": [
    "Векторы рассматриваются как **точки** или `радиус-векторы`"
   ]
  },
  {
   "cell_type": "code",
   "execution_count": 2,
   "id": "276d0810-15f7-4bb6-8e19-dd9f916b6bc2",
   "metadata": {},
   "outputs": [],
   "source": [
    "import numpy as np\n",
    "vec1 = np.array([0, 1])\n",
    "vec2 = np.array([1, 0])"
   ]
  },
  {
   "cell_type": "code",
   "execution_count": 3,
   "id": "73bfbf0c-9f60-4c06-8ee8-77a8b7934435",
   "metadata": {},
   "outputs": [
    {
     "data": {
      "text/plain": [
       "array([[1, 1],\n",
       "       [3, 1]])"
      ]
     },
     "execution_count": 3,
     "metadata": {},
     "output_type": "execute_result"
    }
   ],
   "source": [
    "A = np.array([[1, 1], [3, 1]])\n",
    "A"
   ]
  },
  {
   "cell_type": "code",
   "execution_count": 4,
   "id": "bd579801-b337-434a-9c73-d63fe3dc404b",
   "metadata": {},
   "outputs": [
    {
     "data": {
      "text/plain": [
       "-2.0000000000000004"
      ]
     },
     "execution_count": 4,
     "metadata": {},
     "output_type": "execute_result"
    }
   ],
   "source": [
    "np.linalg.det(A)"
   ]
  },
  {
   "cell_type": "code",
   "execution_count": 15,
   "id": "a6a78d24-8f27-4e45-9500-a326a9c2bc82",
   "metadata": {},
   "outputs": [
    {
     "data": {
      "text/plain": [
       "(array([1, 1]), array([1, 3]))"
      ]
     },
     "execution_count": 15,
     "metadata": {},
     "output_type": "execute_result"
    }
   ],
   "source": [
    "vec1_transformed, vec2_transformed = A@vec1, A@vec2\n",
    "vec1_transformed, vec2_transformed"
   ]
  },
  {
   "cell_type": "code",
   "execution_count": 14,
   "id": "165c483d-b113-4b40-b712-f9cb65394625",
   "metadata": {},
   "outputs": [
    {
     "data": {
      "image/png": "[encoded data removed]",
      "text/plain": [
       "<Figure size 500x500 with 1 Axes>"
      ]
     },
     "metadata": {},
     "output_type": "display_data"
    }
   ],
   "source": [
    "import matplotlib.pyplot as plt\n",
    "\n",
    "plt.figure(figsize=(5, 5))\n",
    "plt.grid()\n",
    "plt.xlim((-1, 4))\n",
    "plt.ylim((-1, 4))\n",
    "\n",
    "plt.quiver(0, 0, vec1[0], vec1[1], angles='xy', scale_units='xy', scale=1, color='blue')\n",
    "plt.quiver(0, 0, vec2[0], vec2[1], angles='xy', scale_units='xy', scale=1, color='red')\n",
    "\n",
    "plt.quiver(0, 0, vec1_transformed[0], vec1_transformed[1], angles='xy', scale_units='xy', scale=1, color='blue')\n",
    "plt.quiver(0, 0, vec2_transformed[0], vec2_transformed[1], angles='xy', scale_units='xy', scale=1, color='red');"
   ]
  },
  {
   "cell_type": "markdown",
   "id": "768d2bad-5eb4-4771-bff0-99521846861e",
   "metadata": {},
   "source": [
    "Векторы $[0, 1]$ и $[1, 0]$ достроив до квадрата имеют площадь **1**\\\n",
    "Векторы после преобразования матрицей, достроив до паралелограма имеют площадь **2**\n",
    "\n",
    "$$\n",
    "detA = S(фигуры)\n",
    "$$"
   ]
  },
  {
   "cell_type": "markdown",
   "id": "f331c71f-8cb9-4479-b8d6-4918a06adf78",
   "metadata": {},
   "source": [
    "*Достроить пару графиков где векторы теряют размерность*"
   ]
  },
  {
   "cell_type": "markdown",
   "id": "18dfab1d-baa5-4845-b4da-cae8f1d745b1",
   "metadata": {},
   "source": [
    "# eigenvalues, eigenvectors"
   ]
  },
  {
   "cell_type": "markdown",
   "id": "02414e5b-74b8-496b-81c5-c9d4565b3774",
   "metadata": {},
   "source": [
    "$$\n",
    "A*\\vec{v} = \\lambda*\\vec{v}\n",
    "$$\n",
    "$A$ - Квадратная матрица\\\n",
    "$\\vec{v}$ - собственный вектор(айгенвектор)\\\n",
    "$\\lambda$ - собственное значение(айгензначение)\n",
    "\n",
    "Умножение матрицы на вектор = умножение вектора на скаляр"
   ]
  },
  {
   "cell_type": "markdown",
   "id": "a4be8e1c-018e-4876-8c38-8d782b7ad63b",
   "metadata": {},
   "source": [
    "## eigenvalues"
   ]
  },
  {
   "cell_type": "markdown",
   "id": "7cd687e4-2471-48d6-b164-40c92a5086af",
   "metadata": {},
   "source": [
    "характеристическое уравнение:\n",
    "$$\n",
    "det(A-\\lambda I) = 0\n",
    "$$\n"
   ]
  },
  {
   "cell_type": "markdown",
   "id": "0ff1205f-d453-4daa-b3ce-3f73a801b3bc",
   "metadata": {},
   "source": [
    "# Singular Value Decomposition"
   ]
  },
  {
   "cell_type": "markdown",
   "id": "783713b1-9045-43df-bbc6-57e165427442",
   "metadata": {},
   "source": [
    "$$\n",
    "A = USV^T\n",
    "$$\n",
    "$U$ = \\\n",
    "$S$ = \\\n",
    "$V$ = "
   ]
  },
  {
   "cell_type": "code",
   "execution_count": 36,
   "id": "25cb38ca-9434-4986-b0f4-79d06bb5383f",
   "metadata": {},
   "outputs": [
    {
     "data": {
      "text/plain": [
       "array([[ -5,   1,   2,  -2],\n",
       "       [ -1,   1,  -5,   5],\n",
       "       [-10,   6,  -9,   2]])"
      ]
     },
     "execution_count": 36,
     "metadata": {},
     "output_type": "execute_result"
    }
   ],
   "source": [
    "import numpy as np\n",
    "np.random.seed(1)\n",
    "A = np.random.randint(-10, 10, size=(3, 4))\n",
    "A"
   ]
  },
  {
   "cell_type": "markdown",
   "id": "546b1233-94a9-444d-9397-15eab3eacb2a",
   "metadata": {},
   "source": [
    "----------"
   ]
  },
  {
   "cell_type": "code",
   "execution_count": 37,
   "id": "a9acea88-8b6e-48d2-a28e-96e6efc18ecb",
   "metadata": {},
   "outputs": [],
   "source": [
    "U, S, VT = np.linalg.svd(A, full_matrices=False)"
   ]
  },
  {
   "cell_type": "code",
   "execution_count": 38,
   "id": "85c59b63-76b6-47cc-a53b-e6757a028e17",
   "metadata": {},
   "outputs": [
    {
     "data": {
      "text/plain": [
       "array([[ 0.12610601,  0.73155334, -0.67002014],\n",
       "       [ 0.32646337, -0.66839455, -0.66833404],\n",
       "       [ 0.93675981,  0.1344561 ,  0.32311394]])"
      ]
     },
     "execution_count": 38,
     "metadata": {},
     "output_type": "execute_result"
    }
   ],
   "source": [
    "U"
   ]
  },
  {
   "cell_type": "code",
   "execution_count": 39,
   "id": "6eb15406-d339-46d9-9cd5-e003fa6261c0",
   "metadata": {},
   "outputs": [
    {
     "data": {
      "text/plain": [
       "array([15.82152818,  7.28288056,  1.90758932])"
      ]
     },
     "execution_count": 39,
     "metadata": {},
     "output_type": "execute_result"
    }
   ],
   "source": [
    "S"
   ]
  },
  {
   "cell_type": "code",
   "execution_count": 40,
   "id": "a562e25b-25b3-4cc5-887c-9812bdb3b43b",
   "metadata": {},
   "outputs": [
    {
     "data": {
      "text/plain": [
       "array([[-0.65256601,  0.38385219, -0.62010085,  0.2056454 ],\n",
       "       [-0.59508502,  0.11944386,  0.49361987, -0.62285344],\n",
       "       [ 0.41271743,  0.31470581, -0.47515233, -0.71053138]])"
      ]
     },
     "execution_count": 40,
     "metadata": {},
     "output_type": "execute_result"
    }
   ],
   "source": [
    "VT"
   ]
  },
  {
   "cell_type": "code",
   "execution_count": 41,
   "id": "1924d06f-8449-4ab6-8996-786e354046db",
   "metadata": {},
   "outputs": [
    {
     "data": {
      "text/plain": [
       "array([[ -5.,   1.,   2.,  -2.],\n",
       "       [ -1.,   1.,  -5.,   5.],\n",
       "       [-10.,   6.,  -9.,   2.]])"
      ]
     },
     "execution_count": 41,
     "metadata": {},
     "output_type": "execute_result"
    }
   ],
   "source": [
    "A_reconst = U@np.diag(S)@VT\n",
    "A_reconst"
   ]
  },
  {
   "cell_type": "code",
   "execution_count": null,
   "id": "4d815b1d-8936-42a6-9278-4d493934f516",
   "metadata": {},
   "outputs": [],
   "source": []
  }
 ],
 "metadata": {
  "kernelspec": {
   "display_name": "Python 3 (ipykernel)",
   "language": "python",
   "name": "python3"
  },
  "language_info": {
   "codemirror_mode": {
    "name": "ipython",
    "version": 3
   },
   "file_extension": ".py",
   "mimetype": "text/x-python",
   "name": "python",
   "nbconvert_exporter": "python",
   "pygments_lexer": "ipython3",
   "version": "3.12.3"
  }
 },
 "nbformat": 4,
 "nbformat_minor": 5
}
