{
 "cells": [
  {
   "cell_type": "markdown",
   "id": "c304171a-db5c-47aa-b5c9-5e009ee6a365",
   "metadata": {},
   "source": [
    "MAE\n"
   ]
  },
  {
   "cell_type": "markdown",
   "id": "b03efbff-58e4-4be8-8d0f-f786228bf420",
   "metadata": {},
   "source": [
    "### Mean Absolute Error\n",
    "Средняя разница между фактическими значениями и предсказанными по модулю.\\\n",
    "Метрика устойчива к выбросам, однако не учитывает масштаб и направление ошибок\n",
    "$$MAE = \\frac{1}{N}\\sum_{i=1}^N{|y_i-\\hat{y_i}|}$$\n",
    "### Mean Absolute Percentage Error\n",
    "Позволяет оценить насколько в среднем прогнозы модели отличаются относительно реальных значений в процентном отношении.\\\n",
    "При $y$=0 выдает неадекватное значения из за нуля в знаминателе. Искажается при маленьких значениях $y$.\n",
    "$$MAPE=\\frac{1}{N}\\sum_{i=1}^N{\\frac{|y_i-\\hat{y_i}|}{y_i}}$$\n",
    "### Symmetric Mean Absolute Percentage Error\n",
    "Модификация над **MAPE** выражает ошибку прогноза в процентах, но более сбалансированно.\\\n",
    "Устраняет асимметрию при отклонениях от малых значений и проблему деления на ноль\\\n",
    "*(Но сумма двух модулей в знаминателе в некоторых случаях все равно может составить ноль)*\n",
    "\n",
    "Не учитывает относительную значимость наблюдений и плохо работает с неравномерными данными.\n",
    "\n",
    "$$SMAPE=\\frac{1}{N}\\sum_{i=1}^N{\\frac{2|y_i-\\hat{y_i}|}{|y_i|+|\\hat{y_i}|}}$$\n",
    "### Weighted Average Percentage Error\n",
    "Нормализует общую ошибку к общей сумме фактических значений \\\n",
    "Использует взвешенное среднее абсолютных ошибок, где вес — это размер фактических значений. \\\n",
    "Эффективна, когда данные с сильно разными масштабами.\n",
    "$$WAPE=\\frac{\\sum_{i=1}^N{|y_i-\\hat{y_i}|}}{\\sum_{i=1}^N{|y_i|}}$$"
   ]
  },
  {
   "cell_type": "code",
   "execution_count": 87,
   "id": "9a89798e-a15b-45b6-92ff-4cd9da413ab9",
   "metadata": {},
   "outputs": [],
   "source": [
    "import numpy as np\n",
    "from sklearn.metrics import mean_absolute_error, mean_absolute_percentage_error"
   ]
  },
  {
   "cell_type": "code",
   "execution_count": 94,
   "id": "13a17b32-6aa9-4719-8354-e10a9ddb7121",
   "metadata": {},
   "outputs": [],
   "source": [
    "y_true = np.array([0.05, -0.1])\n",
    "y_pred = np.array([0.1, 0])\n",
    "y_true_notnumpy = [0.05, 0]\n",
    "y_pred_notnumpy = [0.1, 0]"
   ]
  },
  {
   "cell_type": "code",
   "execution_count": 84,
   "id": "c2f49a14-6350-4d16-aa24-15e71fc640d7",
   "metadata": {},
   "outputs": [],
   "source": [
    "def symmetric_mean_absolute_percentage_error(y_true, y_pred):\n",
    "    y_true, y_pred = np.array(y_true), np.array(y_pred)\n",
    "    numerator = 2*np.abs(y_true - y_pred)\n",
    "    denominator = np.abs(y_true)+np.abs(y_pred)\n",
    "    smape = np.mean(numerator[denominator != 0] / denominator[denominator!=0])\n",
    "    return smape"
   ]
  },
  {
   "cell_type": "code",
   "execution_count": 90,
   "id": "e5055553-c9da-4dd7-ad49-68b70446c9a1",
   "metadata": {},
   "outputs": [],
   "source": [
    "def weighted_average_percentage_error(y_true, y_pred):\n",
    "    y_true, y_pred = np.array(y_true), np.array(y_pred)\n",
    "    numerator = np.sum(np.abs(y_true - y_pred))\n",
    "    denominator = np.sum(np.abs(y_true))\n",
    "    wape = numerator/denominator\n",
    "    return wape"
   ]
  },
  {
   "cell_type": "code",
   "execution_count": 91,
   "id": "8a02bf7b-0c29-46df-a079-8d10859f1f77",
   "metadata": {},
   "outputs": [
    {
     "data": {
      "text/plain": [
       "1.0"
      ]
     },
     "execution_count": 91,
     "metadata": {},
     "output_type": "execute_result"
    }
   ],
   "source": [
    "weighted_average_percentage_error(y_true, y_pred)"
   ]
  },
  {
   "cell_type": "markdown",
   "id": "549d533a-73ee-4a43-820e-4fa3acb30fb0",
   "metadata": {},
   "source": [
    "MSE"
   ]
  },
  {
   "cell_type": "markdown",
   "id": "e53d972e-19c7-4a44-be3e-23b50c1ec99b",
   "metadata": {},
   "source": [
    "### Mean Squared Error & Root Mean Squared Error\n",
    "Средняя разница между фактическими значениями и предсказанными в квадрате.\\\n",
    "Метрика делает акцент на больших ошибках, чувствительна к выбросам.\n",
    "\n",
    "Извлечение квадратного корня возвращает значение к исходной размерности и улучшает интепритируемость.\n",
    "$$MSE = \\frac{1}{N}\\sum_{i=1}^N{(y_i-\\hat{y_i})^2}$$\n",
    "$$RMSE = \\sqrt{\\frac{1}{N}\\sum_{i=1}^N{(y_i-\\hat{y_i})^2}}$$\n",
    "### Mean Squared Logarithmic Error & Root Mean Squared Logarithmic Error\n",
    "Альтернативный способ перехода от абсолютных ошибок к относительным - измерение в логорифмическом масштабе.\\\n",
    "Метрика может быть применима лишь для неотрицательных меток\n",
    "\n",
    "Константа $c$ - вводится искуственно для избегания логорифма от нуля.\\\n",
    "Устойчива к выбросам, поскольку делает распределение целевых и спрогнозированных значений более однородным. \\\n",
    "Труднее интерпретировать, уделяет больше внимания заниженным прогнозам, поскольку логарифм является несимметричной функцией.\n",
    "$$MSLE = \\frac{1}{N}\\sum_{i=1}^N{(ln(y_i+c)-ln(\\hat{y_i}+c))^2}$$\n",
    "$$RMSLE = \\sqrt{\\frac{1}{N}\\sum_{i=1}^N{(ln(y_i+c)-ln(\\hat{y_i}+c))^2}}$$"
   ]
  },
  {
   "cell_type": "code",
   "execution_count": 92,
   "id": "e5405ca9-be0c-4a6d-8d69-636563381114",
   "metadata": {},
   "outputs": [],
   "source": [
    "from sklearn.metrics import mean_squared_error, root_mean_squared_error, mean_squared_log_error, root_mean_squared_log_error"
   ]
  },
  {
   "cell_type": "code",
   "execution_count": null,
   "id": "bb848960-8ac1-40a7-8799-0d8b60a6c11e",
   "metadata": {},
   "outputs": [],
   "source": []
  },
  {
   "cell_type": "markdown",
   "id": "2bcae3f9-7fa3-4bec-9e02-edfa19d5a90c",
   "metadata": {},
   "source": [
    "### $R^2$ score\n",
    "Коэффициент детерминации - показывает какая доля дисперсии(разброса) объясняется моделью\\\n",
    "Не учитывает количество признаков в модели. Имеет тенденцию к увеличению при добавлении новых признаков в обучающий набор, даже если они не улучшают качество модели. Сравнение моделей с разным количеством признаков становится некорректным\n",
    "$$R^2=1-\\frac{RSS}{TSS}$$\n",
    "$$TSS = \\sum_{i=1}^n (y-\\bar{y})^2 \\hspace{5cm} RSS = \\sum_{i=1}^n (y-\\hat{y})^2$$\n",
    "\n",
    "$TSS$ - **Total Sum of Squares** Общая сумма квадратов отклонений от среднего.\\\n",
    "$RSS$ - **Residual Sum of Squares** Сумма квадратов остатков\\\n",
    "$\\bar{y}$ - Общее реднее значение выборки\\\n",
    "$\\hat{y}$ - Предсказанное значение\\\n",
    "\n",
    "### Adjusted $R^2$ score\n",
    "Скорректированный коэффициент детерминации. Вводит штраф за добавление новых признаков.\n",
    "$$R^2_{adj}=1-\\frac{RSS(n-1)}{TSS(n-k-1)}=1-\\frac{(1-R^2)(n-1)}{n-k-1}$$\n",
    "$k$ - Количество признаков.\\\n",
    "$n$ - Количество образцов."
   ]
  },
  {
   "cell_type": "code",
   "execution_count": 130,
   "id": "393c0ad4-d82d-489b-a977-bf129f3b602f",
   "metadata": {},
   "outputs": [],
   "source": [
    "from sklearn.metrics import r2_score"
   ]
  },
  {
   "cell_type": "code",
   "execution_count": 131,
   "id": "128aa827-eb0f-4555-8dd0-084f769c7515",
   "metadata": {},
   "outputs": [
    {
     "data": {
      "text/plain": [
       "-15.331065759637188"
      ]
     },
     "execution_count": 131,
     "metadata": {},
     "output_type": "execute_result"
    }
   ],
   "source": [
    "r2_score(y_true, y_pred)"
   ]
  },
  {
   "cell_type": "code",
   "execution_count": 132,
   "id": "ab9ae2d5-8f64-4fe0-8d58-5d8b8bc387dd",
   "metadata": {},
   "outputs": [],
   "source": [
    "RSS = np.sum((y_true - y_pred)**2)\n",
    "TSS = np.sum((y_true - np.mean(y_true))**2)"
   ]
  },
  {
   "cell_type": "code",
   "execution_count": 133,
   "id": "7bcb2fb3-1f91-44f3-a00a-a070073ceabb",
   "metadata": {},
   "outputs": [
    {
     "data": {
      "text/plain": [
       "-15.331065759637188"
      ]
     },
     "execution_count": 133,
     "metadata": {},
     "output_type": "execute_result"
    }
   ],
   "source": [
    "1-RSS/TSS"
   ]
  },
  {
   "cell_type": "code",
   "execution_count": 134,
   "id": "17ab02fc-8d23-4703-a6f4-d26823ccfdb5",
   "metadata": {},
   "outputs": [],
   "source": [
    "def adjusted_r2_score(y_true, y_pred, X_shape):\n",
    "    n, k = X_shape\n",
    "    RSS = np.sum((y_true - y_pred)**2)\n",
    "    TSS = np.sum((y_true - np.mean(y_true))**2)\n",
    "    r2 = 1 - RSS/TSS\n",
    "    return 1 - ((1-r2)*(n-1)) / (n-k-1)"
   ]
  },
  {
   "cell_type": "markdown",
   "id": "0e5c26b9-84a5-463d-8a3b-031355d7427e",
   "metadata": {},
   "source": [
    "# Bias-Variance Decomposition"
   ]
  },
  {
   "cell_type": "markdown",
   "id": "9820801e-79bf-4f82-a6f1-0ffdba04da4c",
   "metadata": {},
   "source": [
    "Цель обучения модели - соблюсти баланс между **Bias**(Смещение) и **Variance**(Разброс) - **bias-variance tradeoff**"
   ]
  },
  {
   "cell_type": "markdown",
   "id": "37ee9958-6a9a-46df-9857-b4a41a1544ac",
   "metadata": {},
   "source": [
    "$y=f(x)+\\varepsilon$ - Истинный закон + случайный шум\n",
    "$$TotalError = Bias^2 + Variance + Noise$$\n",
    "Разложение ошибки регрессии по **MSE**\n",
    "$$MSE = E [(y - f(x))^2] = E[y^2]-2E[yf(x)]+E[f(x)^2]$$"
   ]
  },
  {
   "cell_type": "code",
   "execution_count": null,
   "id": "738aa792-2c46-4657-b227-3e28ea860227",
   "metadata": {},
   "outputs": [],
   "source": []
  }
 ],
 "metadata": {
  "kernelspec": {
   "display_name": "Python 3 (ipykernel)",
   "language": "python",
   "name": "python3"
  },
  "language_info": {
   "codemirror_mode": {
    "name": "ipython",
    "version": 3
   },
   "file_extension": ".py",
   "mimetype": "text/x-python",
   "name": "python",
   "nbconvert_exporter": "python",
   "pygments_lexer": "ipython3",
   "version": "3.12.3"
  }
 },
 "nbformat": 4,
 "nbformat_minor": 5
}
