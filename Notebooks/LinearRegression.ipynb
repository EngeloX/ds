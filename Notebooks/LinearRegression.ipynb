{
 "cells": [
  {
   "cell_type": "markdown",
   "id": "672a98a5-2d21-43a1-a896-adfa8886f2f0",
   "metadata": {},
   "source": [
    "$$\n",
    "y = w_1X_1 + w_2X_2 + ... + w_nX_n + b\n",
    "$$\n",
    "$$\n",
    "y = wX + b\n",
    "$$\n",
    "\n",
    "$$\n",
    "y = w_0X_0 + w_1X_1 + w_2X_2 + ...+ w_nX_n\n",
    "$$\n",
    "$$\n",
    "y = w X\n",
    "$$\n",
    "\n",
    "$y$ - целевое значение \\\n",
    "$X$ - Пространство признаков (включая фиктивный единичный столбец)\\\n",
    "$w$ - Вес при признаках (Коэффициент наклона) `coef_`\\\n",
    "$b(w_0)$ - Свободный член (Коэффициент сдвига) `intercept_`"
   ]
  },
  {
   "cell_type": "markdown",
   "id": "11a6e164-bea7-4329-a35c-f0e823b3b69d",
   "metadata": {},
   "source": [
    "# Least Squares"
   ]
  },
  {
   "cell_type": "markdown",
   "id": "15d77a86-0b1f-462a-9864-a133be9ed24f",
   "metadata": {},
   "source": [
    "Нахождение коэффициентов линейной регрессии методом **минимизации среднеквадратичной ошибки:**\\\n",
    "$w = \\arg\\min_{w}E(w, X, y), \\hspace{1cm} ||Xw-y||^2 \\rightarrow min$\n",
    "\n",
    "---"
   ]
  },
  {
   "cell_type": "markdown",
   "id": "ef232d1f-b02c-4eca-985b-8d15c9cc1144",
   "metadata": {},
   "source": [
    "## Normal Equition"
   ]
  },
  {
   "cell_type": "markdown",
   "id": "aa9b83db-1b00-4b52-93b3-c586eea2f474",
   "metadata": {},
   "source": [
    "$$\n",
    "E(w, X, y) = \\frac{1}{2n}\\sum_{i=1}^n (w^Tx_i-y_i)^2 = \\frac{1}{2n}||Xw-y||^2 = \\frac{1}{2n}(Xw-y)^T(Xw-y) =\n",
    "$$\n",
    "$$\n",
    "=\\frac{1}{2n}((Xw)^TXw - (Xw)^Ty-y^TXw +y^Ty) = \\frac{1}{2n}((Xw)^TXw - 2y^TXw +y^Ty) \n",
    "$$\n",
    "$$\n",
    "= \\frac{1}{2n}(w^TX^TXw - 2y^TXw +y^Ty)\n",
    "$$"
   ]
  },
  {
   "cell_type": "markdown",
   "id": "57d429c2-f511-4562-95fd-a7c345075aaa",
   "metadata": {},
   "source": [
    "\n",
    "\n",
    "$$\n",
    "\\frac{\\partial E}{\\partial w} = 0 \\Rightarrow \\frac{1}{2n}(2X^TXw-2X^Ty) = \\frac{1}{n}(X^TXw-X^Ty)\n",
    "$$\n",
    "\n",
    "$$\n",
    "X^TXw = X^Ty\n",
    "$$\n",
    "$$\n",
    "w=(X^TX)^{-1}X^Ty\n",
    "$$\n",
    "\n",
    "Производная квадратичной формы: $\\nabla_w(w^TAw)$=$2Aw$ если $A$=$A^T$ \\\n",
    "Производная линейной формы: $\\nabla_w(b^Tw)$=$b$\n",
    "\n",
    "-----"
   ]
  },
  {
   "cell_type": "markdown",
   "id": "492508f8-b557-4991-8fc1-d62e7550e37b",
   "metadata": {},
   "source": [
    "## Singular Value Decomposition"
   ]
  },
  {
   "cell_type": "markdown",
   "id": "fb5b6c3d-52f2-44f3-850e-dd16737d62ed",
   "metadata": {},
   "source": [
    "$$\n",
    "w=(X^TX)^{-1}X^Ty\n",
    "$$\n",
    "\n",
    "$$\n",
    "X = U \\Sigma V^T\n",
    "$$\n",
    "\n",
    "\n",
    "$U$ - Ортогональная матрица левых сингулярных векторов ( $U^TU$=$I$ )\\\n",
    "$\\Sigma$ - Диагональная матрица сингулярных значений\\\n",
    "$V^T$ - Ортогональная матрица правых сингулярных векторов ( $V^TV$=$I$ )\n",
    "\n",
    "\n",
    "$$\n",
    "w = (U^T \\Sigma^TVU \\Sigma V^T)^{-1}U^T \\Sigma^TVy\n",
    "$$\n",
    "$$\n",
    "w = (\\Sigma^T \\Sigma)^{-1} \\Sigma^T V U^T y\n",
    "$$\n",
    "$$\n",
    "w = V\\Sigma^+U^Ty\n",
    "$$\n",
    "\n",
    "---"
   ]
  },
  {
   "cell_type": "code",
   "execution_count": 208,
   "id": "ee452c04-b459-4498-9d29-057757e60d26",
   "metadata": {},
   "outputs": [],
   "source": [
    "import numpy as np"
   ]
  },
  {
   "cell_type": "code",
   "execution_count": 202,
   "id": "0141fcef-cfbb-400b-b0b0-613faeebc177",
   "metadata": {},
   "outputs": [],
   "source": [
    "class LeastSquares():\n",
    "    def __init__(self, solve='normal'):\n",
    "        self.solve = solve\n",
    "        self.coef_ = None\n",
    "        self.intercept_ = None\n",
    "        \n",
    "    def fit(self, X, y):\n",
    "        ones = np.ones(X.shape[0]).reshape(-1, 1)\n",
    "        X = np.hstack((ones, X))\n",
    "\n",
    "        # Нормальное уравнение вручную\n",
    "        if self.solve=='normal':\n",
    "            normal = np.linalg.inv(X.T@X)@X.T@y\n",
    "            self.coef_ = normal[1:]\n",
    "            self.intercept_ = normal[0]\n",
    "\n",
    "        # Нормальное уравнение встроенной функцией linalg.lstsq\n",
    "        if self.solve=='lstsq':\n",
    "            lstsq = np.linalg.lstsq(X, y, rcond=-1)[0]\n",
    "            self.coef_ = lstsq[1:]\n",
    "            self.intercept_ = lstsq[0]\n",
    "\n",
    "        # Нормальное уравнение с сингулярным разложением\n",
    "        if self.solve=='svd':\n",
    "            U, Sigma, VT = np.linalg.svd(X, full_matrices=False)\n",
    "            Sigma = np.diag(Sigma)\n",
    "            svd = VT.T @ np.linalg.pinv(Sigma) @ U.T@y\n",
    "            self.coef_ = svd[1:]\n",
    "            self.intercept_ = svd[0]\n",
    "              \n",
    "    def predict(self, X):\n",
    "        return X@self.coef_ + self.intercept_"
   ]
  },
  {
   "cell_type": "code",
   "execution_count": 209,
   "id": "6f426dea-6467-4432-a76e-f23eee9c038a",
   "metadata": {},
   "outputs": [],
   "source": [
    "from sklearn.datasets import make_regression\n",
    "X, y = make_regression(n_samples=2_000, n_features=10, n_informative=8, noise=20, random_state=2)"
   ]
  },
  {
   "cell_type": "code",
   "execution_count": 210,
   "id": "fbcde4d4-5600-4165-9c85-cb01648b45c3",
   "metadata": {},
   "outputs": [
    {
     "data": {
      "text/plain": [
       "array([47.34335537, 14.59576405, 69.80732947, -0.22382365, 72.9913077 ,\n",
       "        1.5481627 ,  8.88902274, -0.11267104, 14.01830252, 63.41957771])"
      ]
     },
     "execution_count": 210,
     "metadata": {},
     "output_type": "execute_result"
    }
   ],
   "source": [
    "lstsq = LeastSquares()\n",
    "lstsq.fit(X, y)\n",
    "lstsq.coef_"
   ]
  },
  {
   "cell_type": "code",
   "execution_count": 211,
   "id": "651c4e11-1454-4d10-9cd3-2d8cf3a14412",
   "metadata": {},
   "outputs": [],
   "source": [
    "from sklearn.linear_model import LinearRegression"
   ]
  },
  {
   "cell_type": "code",
   "execution_count": 212,
   "id": "593d60ed-01ba-45df-8b8e-f01ad2e0d302",
   "metadata": {},
   "outputs": [
    {
     "data": {
      "text/plain": [
       "array([47.34335537, 14.59576405, 69.80732947, -0.22382365, 72.9913077 ,\n",
       "        1.5481627 ,  8.88902274, -0.11267104, 14.01830252, 63.41957771])"
      ]
     },
     "execution_count": 212,
     "metadata": {},
     "output_type": "execute_result"
    }
   ],
   "source": [
    "LinReg = LinearRegression()\n",
    "LinReg.fit(X, y)\n",
    "LinReg.coef_"
   ]
  },
  {
   "cell_type": "markdown",
   "id": "49ed15a3-5850-4f9e-aec3-ab2be9e60f49",
   "metadata": {},
   "source": [
    "**Выражденная матрица**"
   ]
  },
  {
   "cell_type": "code",
   "execution_count": 213,
   "id": "75fd8e7c-0df7-42ea-bcf8-b75d9b2cdee2",
   "metadata": {},
   "outputs": [],
   "source": [
    "x1 = np.arange(1, 101).reshape(-1, 1)\n",
    "x2 = (x1*2).reshape(-1, 1)\n",
    "x3 = (x2*3).reshape(-1, 1)\n",
    "x4 = (x2*3 + x3*4).reshape(-1, 1)\n",
    "\n",
    "X = np.hstack((x1, x2))\n",
    "X = np.hstack((X, x3))\n",
    "X = np.hstack((X, x4))\n",
    "\n",
    "y = np.arange(1, 200, 2)"
   ]
  },
  {
   "cell_type": "code",
   "execution_count": 214,
   "id": "5ea9bf6e-8101-4c3a-8ccf-0498ba02d740",
   "metadata": {},
   "outputs": [
    {
     "data": {
      "text/plain": [
       "0.0"
      ]
     },
     "execution_count": 214,
     "metadata": {},
     "output_type": "execute_result"
    }
   ],
   "source": [
    "np.linalg.det(X.T@X)"
   ]
  },
  {
   "cell_type": "code",
   "execution_count": 215,
   "id": "c4e8ce33-3f07-4077-bab5-c5efa6af83b2",
   "metadata": {},
   "outputs": [
    {
     "ename": "LinAlgError",
     "evalue": "Singular matrix",
     "output_type": "error",
     "traceback": [
      "\u001b[1;31m---------------------------------------------------------------------------\u001b[0m",
      "\u001b[1;31mLinAlgError\u001b[0m                               Traceback (most recent call last)",
      "Cell \u001b[1;32mIn[215], line 1\u001b[0m\n\u001b[1;32m----> 1\u001b[0m lstsq\u001b[38;5;241m.\u001b[39mfit(X, y)\n",
      "Cell \u001b[1;32mIn[202], line 13\u001b[0m, in \u001b[0;36mLeastSquares.fit\u001b[1;34m(self, X, y)\u001b[0m\n\u001b[0;32m     11\u001b[0m \u001b[38;5;66;03m# Нормальное уравнение вручную\u001b[39;00m\n\u001b[0;32m     12\u001b[0m \u001b[38;5;28;01mif\u001b[39;00m \u001b[38;5;28mself\u001b[39m\u001b[38;5;241m.\u001b[39msolve\u001b[38;5;241m==\u001b[39m\u001b[38;5;124m'\u001b[39m\u001b[38;5;124mnormal\u001b[39m\u001b[38;5;124m'\u001b[39m:\n\u001b[1;32m---> 13\u001b[0m     normal \u001b[38;5;241m=\u001b[39m np\u001b[38;5;241m.\u001b[39mlinalg\u001b[38;5;241m.\u001b[39minv(X\u001b[38;5;241m.\u001b[39mT\u001b[38;5;129m@X\u001b[39m)\u001b[38;5;129m@X\u001b[39m\u001b[38;5;241m.\u001b[39mT\u001b[38;5;129m@y\u001b[39m\n\u001b[0;32m     14\u001b[0m     \u001b[38;5;28mself\u001b[39m\u001b[38;5;241m.\u001b[39mcoef_ \u001b[38;5;241m=\u001b[39m normal[\u001b[38;5;241m1\u001b[39m:]\n\u001b[0;32m     15\u001b[0m     \u001b[38;5;28mself\u001b[39m\u001b[38;5;241m.\u001b[39mintercept_ \u001b[38;5;241m=\u001b[39m normal[\u001b[38;5;241m0\u001b[39m]\n",
      "File \u001b[1;32m~\\anaconda3\\Lib\\site-packages\\numpy\\linalg\\linalg.py:561\u001b[0m, in \u001b[0;36minv\u001b[1;34m(a)\u001b[0m\n\u001b[0;32m    559\u001b[0m signature \u001b[38;5;241m=\u001b[39m \u001b[38;5;124m'\u001b[39m\u001b[38;5;124mD->D\u001b[39m\u001b[38;5;124m'\u001b[39m \u001b[38;5;28;01mif\u001b[39;00m isComplexType(t) \u001b[38;5;28;01melse\u001b[39;00m \u001b[38;5;124m'\u001b[39m\u001b[38;5;124md->d\u001b[39m\u001b[38;5;124m'\u001b[39m\n\u001b[0;32m    560\u001b[0m extobj \u001b[38;5;241m=\u001b[39m get_linalg_error_extobj(_raise_linalgerror_singular)\n\u001b[1;32m--> 561\u001b[0m ainv \u001b[38;5;241m=\u001b[39m _umath_linalg\u001b[38;5;241m.\u001b[39minv(a, signature\u001b[38;5;241m=\u001b[39msignature, extobj\u001b[38;5;241m=\u001b[39mextobj)\n\u001b[0;32m    562\u001b[0m \u001b[38;5;28;01mreturn\u001b[39;00m wrap(ainv\u001b[38;5;241m.\u001b[39mastype(result_t, copy\u001b[38;5;241m=\u001b[39m\u001b[38;5;28;01mFalse\u001b[39;00m))\n",
      "File \u001b[1;32m~\\anaconda3\\Lib\\site-packages\\numpy\\linalg\\linalg.py:112\u001b[0m, in \u001b[0;36m_raise_linalgerror_singular\u001b[1;34m(err, flag)\u001b[0m\n\u001b[0;32m    111\u001b[0m \u001b[38;5;28;01mdef\u001b[39;00m \u001b[38;5;21m_raise_linalgerror_singular\u001b[39m(err, flag):\n\u001b[1;32m--> 112\u001b[0m     \u001b[38;5;28;01mraise\u001b[39;00m LinAlgError(\u001b[38;5;124m\"\u001b[39m\u001b[38;5;124mSingular matrix\u001b[39m\u001b[38;5;124m\"\u001b[39m)\n",
      "\u001b[1;31mLinAlgError\u001b[0m: Singular matrix"
     ]
    }
   ],
   "source": [
    "lstsq.fit(X, y)"
   ]
  },
  {
   "cell_type": "code",
   "execution_count": 216,
   "id": "af94b7bd-631a-46c0-ad5b-6cb6e8498ccb",
   "metadata": {},
   "outputs": [
    {
     "data": {
      "text/plain": [
       "array([0.0021254 , 0.0042508 , 0.01275239, 0.06376196])"
      ]
     },
     "execution_count": 216,
     "metadata": {},
     "output_type": "execute_result"
    }
   ],
   "source": [
    "lstsq = LeastSquares(solve='svd')\n",
    "lstsq.fit(X, y)\n",
    "lstsq.coef_"
   ]
  },
  {
   "cell_type": "code",
   "execution_count": 217,
   "id": "df32d7ad-131d-40bb-bc0e-095dfad32235",
   "metadata": {},
   "outputs": [
    {
     "data": {
      "text/plain": [
       "array([0.0021254 , 0.0042508 , 0.01275239, 0.06376196])"
      ]
     },
     "execution_count": 217,
     "metadata": {},
     "output_type": "execute_result"
    }
   ],
   "source": [
    "LinReg.fit(X, y)\n",
    "LinReg.coef_"
   ]
  },
  {
   "cell_type": "markdown",
   "id": "ab9f7760-bc13-48b1-a08f-c109669ea89a",
   "metadata": {},
   "source": [
    "# Gradient Descent"
   ]
  },
  {
   "cell_type": "markdown",
   "id": "e1cebc89-f9e1-4332-b0bd-94fb08d745bc",
   "metadata": {},
   "source": [
    "Итеративный метод минимизации функции потерь\n",
    "\n",
    "----\n",
    "$$\n",
    "\\frac{\\partial L}{\\partial w} = \\nabla\\frac{1}{2n}|| Xw - y ||^2 = \\frac{1}{n}X^T(Xw-y)\n",
    "$$\n",
    "\n",
    "$$\n",
    "w = w_{i-1} - \\eta \\frac{\\partial L}{\\partial w}\n",
    "$$\n",
    "\n",
    "---\n"
   ]
  },
  {
   "cell_type": "code",
   "execution_count": 35,
   "id": "33292e48-e349-40ee-ac3e-c3a7f1810f52",
   "metadata": {},
   "outputs": [],
   "source": [
    "class BatchGD():\n",
    "    def __init__(self, eps=0.1, learning_rate=0.01, max_iter=1000):\n",
    "        self.eps = eps\n",
    "        self.learning_rate = learning_rate\n",
    "        self.coef_ = None\n",
    "        self.intercept_ = None\n",
    "        \n",
    "    @staticmethod\n",
    "    def grad(X, y, w):\n",
    "        gradient_vector = 1/len(X) * X.T @ (X@w - y)\n",
    "        return gradient_vector\n",
    "        \n",
    "    def fit(self, X, y, logging=False):\n",
    "        # Вектор столбец\n",
    "        y = y.reshape(-1, 1) \n",
    "        # Фиктивный признак единиц\n",
    "        ones = np.ones(X.shape[0]).reshape(-1, 1) \n",
    "        X_ones = np.hstack((ones, X))\n",
    "        \n",
    "        # Случайная инициализация стартовых весов\n",
    "        w = np.random.randn(X_ones.shape[1], 1)\n",
    "\n",
    "        i=0\n",
    "        \n",
    "        for i in range(100):\n",
    "            w = w - self.grad(X_ones, y, w)*self.eps\n",
    "            \n",
    "        self.coef_ = w.reshape(-1)[1:]\n",
    "        self.intercept_ = w.reshape(-1)[0].reshape(1)"
   ]
  },
  {
   "cell_type": "code",
   "execution_count": 40,
   "id": "3fd33468-8ab8-44a5-84db-5f950e5cf207",
   "metadata": {},
   "outputs": [],
   "source": [
    "class StochasticGD():\n",
    "    def __init__(self, learning_rate=0.1, max_iter=1000, n_epochs=50):\n",
    "        self.learning_rate = learning_rate\n",
    "        self.coef_ = None\n",
    "        self.intercept_ = None\n",
    "        self.n_epochs = n_epochs\n",
    "        self.t1 = 5\n",
    "        self.t2 = 50\n",
    "        \n",
    "    @staticmethod\n",
    "    def learning_schedule(t, t1, t2):\n",
    "        ls = t1 / (t + t2)\n",
    "        return ls\n",
    "        \n",
    "    @staticmethod\n",
    "    def grad(X, y, w):\n",
    "        gradient_vector = 2/len(X) * X.T @ (X@w - y)\n",
    "        return gradient_vector\n",
    "        \n",
    "    def fit(self, X, y, logging=False):\n",
    "        # Вектор столбец\n",
    "        y = y.reshape(-1, 1) \n",
    "        # Фиктивный признак единиц\n",
    "        ones = np.ones(X.shape[0]).reshape(-1, 1) \n",
    "        X_ones = np.hstack((ones, X))\n",
    "        m = len(X_ones)\n",
    "        # Случайная инициализация стартовых весов\n",
    "        w = np.random.randn(X_ones.shape[1], 1)\n",
    "        \n",
    "        for epoch in range(self.n_epochs):\n",
    "            for i in range(m):\n",
    "                random_index = np.random.randint(m)\n",
    "                x_i = X_ones[random_index:random_index+1]\n",
    "                y_i = y[random_index:random_index+1]\n",
    "                eps = self.learning_schedule(epoch*m+i, self.t1, self.t2)\n",
    "                w = w - self.grad(x_i, y_i, w)*eps   \n",
    "            \n",
    "        self.coef_ = w.reshape(-1)[1:]\n",
    "        self.intercept_ = w.reshape(-1)[0].reshape(1)"
   ]
  },
  {
   "cell_type": "code",
   "execution_count": 41,
   "id": "dc675ad6-560f-4779-a191-c8ed6e021ce3",
   "metadata": {},
   "outputs": [],
   "source": [
    "class MiniBatchGD():\n",
    "    def __init__(self, learning_rate=0.1, max_iter=1000, n_epochs=50, minibatch_size=20):\n",
    "        self.learning_rate = learning_rate\n",
    "        self.coef_ = None\n",
    "        self.intercept_ = None\n",
    "        self.n_epochs = n_epochs\n",
    "        self.minibatch_size = minibatch_size\n",
    "        self.t1 = 5\n",
    "        self.t2 = 50\n",
    "        \n",
    "    @staticmethod\n",
    "    def learning_schedule(t, t1, t2):\n",
    "        ls = t1 / (t + t2)\n",
    "        return ls\n",
    "        \n",
    "    @staticmethod\n",
    "    def grad(X, y, w, minibatch_size):\n",
    "        gradient_vector = 2/minibatch_size * X.T @ (X@w - y)\n",
    "        return gradient_vector\n",
    "        \n",
    "    def fit(self, X, y, logging=False):\n",
    "        # Вектор столбец\n",
    "        y = y.reshape(-1, 1) \n",
    "        # Фиктивный признак единиц\n",
    "        ones = np.ones(X.shape[0]).reshape(-1, 1) \n",
    "        X_ones = np.hstack((ones, X))\n",
    "        m = len(X_ones)\n",
    "        # Случайная инициализация стартовых весов\n",
    "        w = np.random.randn(X_ones.shape[1], 1)\n",
    "        t = 0\n",
    "        for epoch in range(self.n_epochs):\n",
    "            \n",
    "            shuffled_indices = np.random.permutation(m)\n",
    "            X_ones_shuffled = X_ones[shuffled_indices]\n",
    "            y_shuffled = y[shuffled_indices]\n",
    "            \n",
    "            for i in range(0, m, self.minibatch_size):\n",
    "                t+=1\n",
    "                x_i = X_ones_shuffled[i:i+self.minibatch_size]\n",
    "                y_i = y_shuffled[i:i+self.minibatch_size]\n",
    "                \n",
    "                eps = self.learning_schedule(t, self.t1, self.t2)\n",
    "                w = w - self.grad(x_i, y_i, w, self.minibatch_size)*eps   \n",
    "            \n",
    "        self.coef_ = w.reshape(-1)[1:]\n",
    "        self.intercept_ = w.reshape(-1)[0].reshape(1)"
   ]
  },
  {
   "cell_type": "markdown",
   "id": "2235ce13-f0de-42a0-8f69-881bd3e6fe0b",
   "metadata": {},
   "source": [
    "# Regularization"
   ]
  },
  {
   "cell_type": "markdown",
   "id": "1a57047a-8c06-47bd-a87a-d33a38107835",
   "metadata": {},
   "source": [
    "## L2 Regularization | Ridge"
   ]
  },
  {
   "cell_type": "markdown",
   "id": "c63c7e4b-a669-4f9b-b354-91d0c218aaa4",
   "metadata": {},
   "source": [
    "**Регуляризация L2 нормой** - Гребниевая регрессия - Регуляризация Тихонова\\\n",
    "Реализуется как в аналитическом так и в итеративном методом.\n",
    "\n",
    "$$\n",
    "|| Xw - y ||^2+ \\lambda ||w||_2^2 \\rightarrow min\n",
    "$$\n",
    "\n",
    "$$\n",
    "w =(X^TX + \\lambda I)^{-1}X^Ty\n",
    "$$"
   ]
  },
  {
   "cell_type": "code",
   "execution_count": 109,
   "id": "d6de109e-927f-4cb5-ba77-382b786ab170",
   "metadata": {},
   "outputs": [],
   "source": [
    "from sklearn.linear_model import Ridge\n",
    "from sklearn.linear_model import RidgeCV"
   ]
  },
  {
   "cell_type": "code",
   "execution_count": 9,
   "id": "da01ca00-77c9-406f-8095-4c9e8da512f9",
   "metadata": {},
   "outputs": [],
   "source": [
    "from sklearn.linear_model import RidgeClassifier\n",
    "from sklearn.linear_model import RidgeClassifierCV\n",
    "from sklearn.linear_model import LogisticRegression\n",
    "from sklearn.linear_model import LogisticRegressionCV"
   ]
  },
  {
   "cell_type": "markdown",
   "id": "a8ab8f18-e2d2-499e-9c8e-1e1ec4d7a369",
   "metadata": {},
   "source": [
    "## L1 Regularization | Lasso"
   ]
  },
  {
   "cell_type": "markdown",
   "id": "d813f585-ec26-47a1-add7-c3567f901c87",
   "metadata": {},
   "source": [
    "**Регуляризация L1 нормой** - Штраф за абсолютные значения коэффициентов. Справляется с выбросами, зануляет не информативные признаки.\\\n",
    "Недифференцируется в нуле, реализуется итеративными алгоритмами.\n",
    "$$\n",
    "\\frac{1}{2n}|| Xw - y ||^2+ \\lambda ||w||_1 \\rightarrow min\n",
    "$$"
   ]
  },
  {
   "cell_type": "code",
   "execution_count": 108,
   "id": "01dcd77b-d399-4e46-881d-9735b5f1f54d",
   "metadata": {},
   "outputs": [],
   "source": [
    "from sklearn.linear_model import Lasso\n",
    "from sklearn.linear_model import LassoCV"
   ]
  },
  {
   "cell_type": "markdown",
   "id": "5ba61b74-6257-44f4-af4a-9ad76b16a0c5",
   "metadata": {},
   "source": [
    "## L1+L2 Regularization | ElastincNet"
   ]
  },
  {
   "cell_type": "markdown",
   "id": "5fa82395-5039-4ef6-ac10-ee166dd0893f",
   "metadata": {},
   "source": [
    "Комбинированная модель, сохраняющая баланс между $l1$ и $l2$ регуляризациями через коэффициент $p$ ( `l1_ratio` ) - Доля выпавшая на $l1$\n",
    "$$\n",
    "\\frac{1}{2n}|| Xw - y ||^2+ p\\lambda ||w||_1 + \\frac{(1-p)\\lambda}{2} ||w||_2^2\\rightarrow min\n",
    "$$"
   ]
  },
  {
   "cell_type": "code",
   "execution_count": 149,
   "id": "b4aa4406-354b-4828-9bfb-72bdfed1711f",
   "metadata": {},
   "outputs": [],
   "source": [
    "from sklearn.linear_model import ElasticNet\n",
    "from sklearn.linear_model import ElasticNetCV"
   ]
  },
  {
   "cell_type": "markdown",
   "id": "bdcd05eb-703f-4a27-8d29-65058a7d9b6d",
   "metadata": {},
   "source": [
    "-----"
   ]
  }
 ],
 "metadata": {
  "kernelspec": {
   "display_name": "Python 3 (ipykernel)",
   "language": "python",
   "name": "python3"
  },
  "language_info": {
   "codemirror_mode": {
    "name": "ipython",
    "version": 3
   },
   "file_extension": ".py",
   "mimetype": "text/x-python",
   "name": "python",
   "nbconvert_exporter": "python",
   "pygments_lexer": "ipython3",
   "version": "3.12.3"
  }
 },
 "nbformat": 4,
 "nbformat_minor": 5
}
