{
 "cells": [
  {
   "cell_type": "markdown",
   "id": "e6c4bab6-c16f-43ea-b31e-c48828acd7a8",
   "metadata": {},
   "source": [
    "`Интерполяция` : Общее наименование вычислительно-математических способов определить(восстановить) исходную функцию по заданным известным точкам. Попытка воссоздать неизвестные точки, которые должны лежать между известными этой функцией.\\\n",
    "`Экстрополяция` : Попытка определить неизвестные точки, которые должны лежать вне диапазона известных значений.\n",
    "\n",
    "`Аппроксимация` : Способ выбрать из семейства «простых» функций приближение для «сложной» функции на отрезке, при этом ошибка не должна превышать определенного предела. \n",
    "\n",
    "`Функция потеря (loss function)` : Функция, которая показывает насколько действительные значения откланяются от тех, что были созданы пробной функцией.\n",
    "\n",
    "`Регрессия` : Способ выбрать функцию, что будет наилучшим(оптимальным) образом описывать точки. Лучшая - та что минимизирует функцию потерь, то есть значения ошибки будет минимально возможным в данной ситуации.\n",
    "\n",
    "---------------------------"
   ]
  },
  {
   "cell_type": "markdown",
   "id": "e4f434b7-766a-4ea6-ad9e-1a323b85b68e",
   "metadata": {},
   "source": [
    "**`Линейная регрессия`** :  Линейная функция зависимости целевой переменной от одной или нескольких других переменных(предикторов)\n",
    "$$\n",
    "y = wX+b\n",
    "$$\n",
    "$y$ - Целевое значение, которые необхидимо предсказать. (target)\\\n",
    "$X$ - Признак/Признаки.\\\n",
    "$w$ - Вес при признаках. (Коэффициент наклона) (coef_)\\\n",
    "$b$ - Свободный член. (Коэффициент сдвига) (intercept_) \\\n",
    "\n",
    "Цель регрессии — найти коэффициенты этой линейной комбинации, и тем самым определить регрессионную функцию, что наилучшим образом будет описывать заданную тенденцию.\\\n",
    "\n",
    "Определить loss-функцию -> задать начальные параметры весов -> определить метод оптимизации -> минимизировать ошибку -> оценить по метрикам."
   ]
  },
  {
   "cell_type": "markdown",
   "id": "e8938afc-dee2-489e-845e-1b7e7ab70a13",
   "metadata": {},
   "source": [
    "**loss-функции**\n",
    "`MAE`:\\\n",
    "`MSE`:\\\n",
    "**Методы Оптимизации:**\\\n",
    "`Аналитическая формула - Метод наименьших квадратов`:\\\n",
    "`Градиентный спуск (GD)` : При использовании градиентного спуска признаки должны быть масштабированы(StandardScaler) для сокращения времени сходимости.\n",
    "\n",
    "**Метрики** :\n",
    "`MSE` \\\n",
    "`rMSE`\\\n",
    "`MAE`\\\n",
    "`R$^2$`"
   ]
  },
  {
   "cell_type": "markdown",
   "id": "64f32084-ee1d-401b-8caa-ccd45b213ead",
   "metadata": {},
   "source": [
    "-----"
   ]
  },
  {
   "cell_type": "markdown",
   "id": "445e10fd-3ef6-4d31-b263-76ebbe7a3525",
   "metadata": {},
   "source": [
    "# Ordinary List Squares"
   ]
  },
  {
   "cell_type": "markdown",
   "id": "1e580343-31a9-4532-b739-c97727294a8c",
   "metadata": {},
   "source": [
    "$$\n",
    "\\vec{w} = (X^T X)^{-1} X^T \\vec{y}\n",
    "$$\n",
    "- $\\vec{w}$ – (искомый) вектор весов  \n",
    "- $X$ – матрица признаков  \n",
    "- $X^T$ – транспонированная матрица признаков  \n",
    "- $\\vec{y}$ – вектор целевых значений  \n",
    "- ${}^{-1}$ – обратная матрица  \n"
   ]
  },
  {
   "cell_type": "code",
   "execution_count": 40,
   "id": "7ff240f4-e386-4513-a3e0-e2889eab90b1",
   "metadata": {},
   "outputs": [
    {
     "data": {
      "image/png": "[encoded data removed]",
      "text/plain": [
       "<Figure size 640x480 with 1 Axes>"
      ]
     },
     "metadata": {},
     "output_type": "display_data"
    }
   ],
   "source": [
    "import numpy as np\n",
    "import matplotlib.pyplot as plt\n",
    "from sklearn.datasets import make_regression\n",
    "X, y = make_regression(n_samples=100, n_features=1, n_informative=1, noise=0.1, random_state=42)\n",
    "\n",
    "plt.grid()\n",
    "plt.scatter(X, y);"
   ]
  },
  {
   "cell_type": "code",
   "execution_count": 41,
   "id": "ba20c2f6-1d3a-4156-a5d6-278ef93482c1",
   "metadata": {},
   "outputs": [],
   "source": [
    "# Столбец единиц\n",
    "ones = np.ones((X.shape[0], 1))\n",
    "X = np.hstack((ones, X))"
   ]
  },
  {
   "cell_type": "code",
   "execution_count": 42,
   "id": "67e0f0d2-7c20-490e-ab9e-866da3200775",
   "metadata": {},
   "outputs": [
    {
     "data": {
      "text/plain": [
       "((100, 2), (100,))"
      ]
     },
     "execution_count": 42,
     "metadata": {},
     "output_type": "execute_result"
    }
   ],
   "source": [
    "X.shape, y.shape"
   ]
  },
  {
   "cell_type": "markdown",
   "id": "2856fc37-0f40-4f95-bc9a-0965508bbb7e",
   "metadata": {},
   "source": [
    "**SVD?? - Singular Value Decomposition**"
   ]
  },
  {
   "cell_type": "code",
   "execution_count": 46,
   "id": "888cdf0e-7f7f-4477-81a7-6c57e4dff750",
   "metadata": {},
   "outputs": [
    {
     "data": {
      "text/plain": [
       "array([-0.98565497, 36.54065393])"
      ]
     },
     "execution_count": 46,
     "metadata": {},
     "output_type": "execute_result"
    }
   ],
   "source": [
    "np.linalg.lstsq(X, y, rcond=1e-6)[0]"
   ]
  },
  {
   "cell_type": "code",
   "execution_count": 43,
   "id": "9e5f4dae-1ddd-4a3a-a954-b4123c8019f3",
   "metadata": {},
   "outputs": [
    {
     "data": {
      "text/plain": [
       "array([-0.98565497, 36.54065393])"
      ]
     },
     "execution_count": 43,
     "metadata": {},
     "output_type": "execute_result"
    }
   ],
   "source": [
    "np.linalg.pinv(X).dot(y)"
   ]
  },
  {
   "cell_type": "code",
   "execution_count": 24,
   "id": "9020ed1b-48d4-4ab7-8056-5f32b06deb78",
   "metadata": {},
   "outputs": [
    {
     "data": {
      "text/plain": [
       "array([[ 1.00000000e+00,  1.00000000e+00,  1.00000000e+00,\n",
       "         1.00000000e+00,  1.00000000e+00,  1.00000000e+00,\n",
       "         1.00000000e+00,  1.00000000e+00,  1.00000000e+00,\n",
       "         1.00000000e+00,  1.00000000e+00,  1.00000000e+00,\n",
       "         1.00000000e+00,  1.00000000e+00,  1.00000000e+00,\n",
       "         1.00000000e+00,  1.00000000e+00,  1.00000000e+00,\n",
       "         1.00000000e+00,  1.00000000e+00,  1.00000000e+00,\n",
       "         1.00000000e+00,  1.00000000e+00,  1.00000000e+00,\n",
       "         1.00000000e+00,  1.00000000e+00,  1.00000000e+00,\n",
       "         1.00000000e+00,  1.00000000e+00,  1.00000000e+00,\n",
       "         1.00000000e+00,  1.00000000e+00,  1.00000000e+00,\n",
       "         1.00000000e+00,  1.00000000e+00,  1.00000000e+00,\n",
       "         1.00000000e+00,  1.00000000e+00,  1.00000000e+00,\n",
       "         1.00000000e+00,  1.00000000e+00,  1.00000000e+00,\n",
       "         1.00000000e+00,  1.00000000e+00,  1.00000000e+00,\n",
       "         1.00000000e+00,  1.00000000e+00,  1.00000000e+00,\n",
       "         1.00000000e+00,  1.00000000e+00,  1.00000000e+00,\n",
       "         1.00000000e+00,  1.00000000e+00,  1.00000000e+00,\n",
       "         1.00000000e+00,  1.00000000e+00,  1.00000000e+00,\n",
       "         1.00000000e+00,  1.00000000e+00,  1.00000000e+00,\n",
       "         1.00000000e+00,  1.00000000e+00,  1.00000000e+00,\n",
       "         1.00000000e+00,  1.00000000e+00,  1.00000000e+00,\n",
       "         1.00000000e+00,  1.00000000e+00,  1.00000000e+00,\n",
       "         1.00000000e+00,  1.00000000e+00,  1.00000000e+00,\n",
       "         1.00000000e+00,  1.00000000e+00,  1.00000000e+00,\n",
       "         1.00000000e+00,  1.00000000e+00,  1.00000000e+00,\n",
       "         1.00000000e+00,  1.00000000e+00,  1.00000000e+00,\n",
       "         1.00000000e+00,  1.00000000e+00,  1.00000000e+00,\n",
       "         1.00000000e+00,  1.00000000e+00,  1.00000000e+00,\n",
       "         1.00000000e+00,  1.00000000e+00,  1.00000000e+00,\n",
       "         1.00000000e+00,  1.00000000e+00,  1.00000000e+00,\n",
       "         1.00000000e+00,  1.00000000e+00,  1.00000000e+00,\n",
       "         1.00000000e+00,  1.00000000e+00,  1.00000000e+00,\n",
       "         1.00000000e+00],\n",
       "       [-1.85851316e+00, -9.82117840e-01, -1.16718189e+00,\n",
       "         1.18383423e+00,  1.93387498e+00, -3.86821775e-01,\n",
       "        -2.50320697e-01, -8.26695212e-01, -1.45014322e+00,\n",
       "         1.60021450e+00, -2.71171405e+00,  1.54812816e+00,\n",
       "        -1.08776574e+00,  5.96586647e-01,  2.86366603e-01,\n",
       "         2.51448885e-01,  1.49656536e+00, -1.21300819e+00,\n",
       "         2.85238084e-01,  1.92242770e-01,  1.68937215e-01,\n",
       "        -7.33680711e-01,  4.10589675e-01,  1.97827237e+00,\n",
       "        -1.04797207e+00, -5.63129933e-01, -1.36809944e+00,\n",
       "        -1.03889125e+00, -8.77796322e-02, -3.69254685e-02,\n",
       "         1.28725753e+00, -1.76360526e+00,  3.39284706e-01,\n",
       "         5.85978205e-01, -2.72505777e-01,  5.99390690e-01,\n",
       "         6.03185439e-01, -1.88672586e-01,  2.19688032e-01,\n",
       "        -4.04502199e-01,  1.28993206e+00,  6.81593706e-01,\n",
       "         1.89481985e+00,  8.34253440e-02,  4.97554889e-01,\n",
       "         1.42489683e+00, -1.62936305e-01, -3.05170052e-01,\n",
       "         5.02391385e-01, -4.90252617e-01, -2.00594539e-01,\n",
       "        -1.55908534e-01,  1.21504155e+00,  6.89517723e-01,\n",
       "        -4.89734711e-01,  3.55046044e-01, -6.67516491e-01,\n",
       "        -1.13743729e+00, -1.33952283e+00, -1.91305386e-01,\n",
       "         2.35568892e-01, -2.46883944e-01, -1.69390696e+00,\n",
       "         3.40454482e-01, -5.28506514e-04, -1.05176869e+00,\n",
       "         3.42551082e-01,  4.83248779e-02,  1.41677448e+00,\n",
       "         2.04889876e+00,  1.21690479e-01,  1.48801013e-02,\n",
       "        -6.31792956e-01, -1.69787534e+00, -1.09586204e+00,\n",
       "         2.27264028e-01,  1.16658239e+00, -3.08314461e-01,\n",
       "        -5.01789673e-01, -3.12328482e-01, -7.82608958e-01,\n",
       "         3.55196773e-01,  3.49002578e-01, -4.73748372e-01,\n",
       "         2.44284991e+00, -7.93209422e-01,  9.91489633e-01,\n",
       "        -1.48184894e+00, -1.81174527e+00, -9.98202078e-01,\n",
       "        -1.73578876e+00,  2.22717042e-01,  7.35467175e-01,\n",
       "         6.81627204e-01,  6.05992122e-01, -5.64978437e-01,\n",
       "        -3.52792626e-01, -1.86450226e-01, -1.49830721e+00,\n",
       "         1.72968803e+00]])"
      ]
     },
     "execution_count": 24,
     "metadata": {},
     "output_type": "execute_result"
    }
   ],
   "source": [
    "X.T"
   ]
  },
  {
   "cell_type": "code",
   "execution_count": 25,
   "id": "5e3f6710-2738-49b7-9e68-41b40d634090",
   "metadata": {
    "scrolled": true
   },
   "outputs": [
    {
     "data": {
      "text/plain": [
       "array([[100.        ,  -4.52283268],\n",
       "       [ -4.52283268, 103.78659879]])"
      ]
     },
     "execution_count": 25,
     "metadata": {},
     "output_type": "execute_result"
    }
   ],
   "source": [
    "X.T.dot(X)"
   ]
  },
  {
   "cell_type": "code",
   "execution_count": 26,
   "id": "3f512dd2-0e78-46c7-96ac-f0bfe973be78",
   "metadata": {},
   "outputs": [
    {
     "data": {
      "text/plain": [
       "array([[100.        ,  -4.52283268],\n",
       "       [ -4.52283268, 103.78659879]])"
      ]
     },
     "execution_count": 26,
     "metadata": {},
     "output_type": "execute_result"
    }
   ],
   "source": [
    "X.T @ X"
   ]
  },
  {
   "cell_type": "code",
   "execution_count": 27,
   "id": "3783bd83-9efa-4163-bab6-189f76e4926f",
   "metadata": {},
   "outputs": [
    {
     "data": {
      "text/plain": [
       "10358.203863238285"
      ]
     },
     "execution_count": 27,
     "metadata": {},
     "output_type": "execute_result"
    }
   ],
   "source": [
    "# Детерминант не 0 => Не выраждена\n",
    "np.linalg.det(X.T @ X)"
   ]
  },
  {
   "cell_type": "code",
   "execution_count": 28,
   "id": "8432e303-7d6f-4ef8-a456-904308d150e3",
   "metadata": {},
   "outputs": [
    {
     "data": {
      "text/plain": [
       "array([[0.01001975, 0.00043664],\n",
       "       [0.00043664, 0.00965418]])"
      ]
     },
     "execution_count": 28,
     "metadata": {},
     "output_type": "execute_result"
    }
   ],
   "source": [
    "# Нахождение обратной матрицы\n",
    "np.linalg.inv(X.T @ X)"
   ]
  },
  {
   "cell_type": "code",
   "execution_count": 29,
   "id": "b4d50425-92ca-4501-b3ff-dc2cde577f9b",
   "metadata": {},
   "outputs": [
    {
     "data": {
      "text/plain": [
       "array([-0.98565497, 36.54065393])"
      ]
     },
     "execution_count": 29,
     "metadata": {},
     "output_type": "execute_result"
    }
   ],
   "source": [
    "np.linalg.inv(X.T @ X)@X.T@y"
   ]
  },
  {
   "cell_type": "code",
   "execution_count": 30,
   "id": "798dd3f7-ffab-4b6a-b7ae-9fafb8002401",
   "metadata": {},
   "outputs": [],
   "source": [
    "from sklearn.linear_model import LinearRegression"
   ]
  },
  {
   "cell_type": "code",
   "execution_count": 31,
   "id": "c501c7f1-11b3-4322-9c6f-e56c55c3d92a",
   "metadata": {},
   "outputs": [
    {
     "data": {
      "text/plain": [
       "(array([ 0.        , 36.54065393]), -0.9856549674694199)"
      ]
     },
     "execution_count": 31,
     "metadata": {},
     "output_type": "execute_result"
    }
   ],
   "source": [
    "model = LinearRegression()\n",
    "model.fit(X, y)\n",
    "model.coef_, model.intercept_,"
   ]
  },
  {
   "cell_type": "markdown",
   "id": "d8b88b48-3f5b-468d-a333-6f89cc095462",
   "metadata": {},
   "source": [
    "# Gradient Descent"
   ]
  },
  {
   "cell_type": "markdown",
   "id": "4c7cb66c-a605-4b92-b312-263c4dcab04e",
   "metadata": {},
   "source": [
    "## Градиентный спуск параболы"
   ]
  },
  {
   "cell_type": "code",
   "execution_count": 1,
   "id": "bbc6e76d-d47d-4fff-a196-f94d48b0133a",
   "metadata": {},
   "outputs": [],
   "source": [
    "import numpy as np\n",
    "import matplotlib.pyplot as plt"
   ]
  },
  {
   "cell_type": "code",
   "execution_count": 2,
   "id": "351d7ed8-06bd-47cc-83e3-a822787a4786",
   "metadata": {},
   "outputs": [],
   "source": [
    "class ParabolGD:\n",
    "    def __init__(self, X, point, eps=0.0001, learning_rate=0.1):\n",
    "        self.X = X\n",
    "        self.eps = eps\n",
    "        self.learning_rate = learning_rate\n",
    "        self.point = point\n",
    "        self.__points_list = []\n",
    "        \n",
    "    def __func(self, x):\n",
    "        return x**2\n",
    "        \n",
    "    def __grad(self, x):\n",
    "        return 2*x\n",
    "        \n",
    "    def GD(self, logging=False):\n",
    "        print(f'Стартовая точка: {point}')\n",
    "        i = 1\n",
    "        while True:\n",
    "            next_point = self.point - self.__grad(self.point)*self.learning_rate\\\n",
    "\n",
    "            if logging:\n",
    "                print(f'Итерация №{i}, текущая точка: {next_point}')\n",
    "                print('------------------------------------------------')\n",
    "            \n",
    "            self.__points_list.append(self.point)\n",
    "            if abs(self.point-next_point) <= self.eps:\n",
    "                break\n",
    "            self.point = next_point\n",
    "            i+=1\n",
    "\n",
    "        self.__points_list = np.array(self.__points_list)\n",
    "        plt.grid()\n",
    "        plt.scatter(self.__points_list, self.__func(self.__points_list), c='r')\n",
    "        plt.plot(self.X, self.__func(self.X))\n",
    "    "
   ]
  },
  {
   "cell_type": "code",
   "execution_count": 36,
   "id": "b073704f-3df6-44a0-b1ab-bc8a1fdd2622",
   "metadata": {},
   "outputs": [
    {
     "name": "stdout",
     "output_type": "stream",
     "text": [
      "Стартовая точка: 91.91919191919195\n",
      "Итерация №1, текущая точка: 73.53535353535355\n",
      "------------------------------------------------\n",
      "Итерация №2, текущая точка: 58.82828282828284\n",
      "------------------------------------------------\n",
      "Итерация №3, текущая точка: 47.06262626262627\n",
      "------------------------------------------------\n",
      "Итерация №4, текущая точка: 37.65010101010101\n",
      "------------------------------------------------\n",
      "Итерация №5, текущая точка: 30.120080808080807\n",
      "------------------------------------------------\n",
      "Итерация №6, текущая точка: 24.096064646464647\n",
      "------------------------------------------------\n",
      "Итерация №7, текущая точка: 19.276851717171716\n",
      "------------------------------------------------\n",
      "Итерация №8, текущая точка: 15.421481373737373\n",
      "------------------------------------------------\n",
      "Итерация №9, текущая точка: 12.337185098989899\n",
      "------------------------------------------------\n",
      "Итерация №10, текущая точка: 9.869748079191918\n",
      "------------------------------------------------\n",
      "Итерация №11, текущая точка: 7.895798463353534\n",
      "------------------------------------------------\n",
      "Итерация №12, текущая точка: 6.316638770682827\n",
      "------------------------------------------------\n",
      "Итерация №13, текущая точка: 5.053311016546262\n",
      "------------------------------------------------\n",
      "Итерация №14, текущая точка: 4.04264881323701\n",
      "------------------------------------------------\n",
      "Итерация №15, текущая точка: 3.234119050589608\n",
      "------------------------------------------------\n",
      "Итерация №16, текущая точка: 2.5872952404716862\n",
      "------------------------------------------------\n",
      "Итерация №17, текущая точка: 2.069836192377349\n",
      "------------------------------------------------\n",
      "Итерация №18, текущая точка: 1.6558689539018794\n",
      "------------------------------------------------\n",
      "Итерация №19, текущая точка: 1.3246951631215036\n",
      "------------------------------------------------\n",
      "Итерация №20, текущая точка: 1.059756130497203\n",
      "------------------------------------------------\n",
      "Итерация №21, текущая точка: 0.8478049043977623\n",
      "------------------------------------------------\n",
      "Итерация №22, текущая точка: 0.6782439235182098\n",
      "------------------------------------------------\n",
      "Итерация №23, текущая точка: 0.5425951388145679\n",
      "------------------------------------------------\n",
      "Итерация №24, текущая точка: 0.43407611105165433\n",
      "------------------------------------------------\n",
      "Итерация №25, текущая точка: 0.34726088884132345\n",
      "------------------------------------------------\n",
      "Итерация №26, текущая точка: 0.27780871107305877\n",
      "------------------------------------------------\n",
      "Итерация №27, текущая точка: 0.22224696885844702\n",
      "------------------------------------------------\n",
      "Итерация №28, текущая точка: 0.17779757508675761\n",
      "------------------------------------------------\n",
      "Итерация №29, текущая точка: 0.1422380600694061\n",
      "------------------------------------------------\n",
      "Итерация №30, текущая точка: 0.11379044805552488\n",
      "------------------------------------------------\n",
      "Итерация №31, текущая точка: 0.0910323584444199\n",
      "------------------------------------------------\n",
      "Итерация №32, текущая точка: 0.07282588675553592\n",
      "------------------------------------------------\n",
      "Итерация №33, текущая точка: 0.058260709404428734\n",
      "------------------------------------------------\n",
      "Итерация №34, текущая точка: 0.04660856752354299\n",
      "------------------------------------------------\n",
      "Итерация №35, текущая точка: 0.037286854018834394\n",
      "------------------------------------------------\n",
      "Итерация №36, текущая точка: 0.029829483215067516\n",
      "------------------------------------------------\n",
      "Итерация №37, текущая точка: 0.023863586572054014\n",
      "------------------------------------------------\n",
      "Итерация №38, текущая точка: 0.019090869257643212\n",
      "------------------------------------------------\n",
      "Итерация №39, текущая точка: 0.01527269540611457\n",
      "------------------------------------------------\n",
      "Итерация №40, текущая точка: 0.012218156324891656\n",
      "------------------------------------------------\n",
      "Итерация №41, текущая точка: 0.009774525059913325\n",
      "------------------------------------------------\n",
      "Итерация №42, текущая точка: 0.00781962004793066\n",
      "------------------------------------------------\n",
      "Итерация №43, текущая точка: 0.006255696038344529\n",
      "------------------------------------------------\n",
      "Итерация №44, текущая точка: 0.005004556830675623\n",
      "------------------------------------------------\n",
      "Итерация №45, текущая точка: 0.004003645464540498\n",
      "------------------------------------------------\n",
      "Итерация №46, текущая точка: 0.0032029163716323986\n",
      "------------------------------------------------\n",
      "Итерация №47, текущая точка: 0.002562333097305919\n",
      "------------------------------------------------\n",
      "Итерация №48, текущая точка: 0.002049866477844735\n",
      "------------------------------------------------\n",
      "Итерация №49, текущая точка: 0.0016398931822757881\n",
      "------------------------------------------------\n",
      "Итерация №50, текущая точка: 0.0013119145458206304\n",
      "------------------------------------------------\n",
      "Итерация №51, текущая точка: 0.0010495316366565042\n",
      "------------------------------------------------\n",
      "Итерация №52, текущая точка: 0.0008396253093252033\n",
      "------------------------------------------------\n",
      "Итерация №53, текущая точка: 0.0006717002474601627\n",
      "------------------------------------------------\n",
      "Итерация №54, текущая точка: 0.0005373601979681301\n",
      "------------------------------------------------\n",
      "Итерация №55, текущая точка: 0.0004298881583745041\n",
      "------------------------------------------------\n",
      "Итерация №56, текущая точка: 0.0003439105266996033\n",
      "------------------------------------------------\n"
     ]
    },
    {
     "data": {
      "image/png": "[encoded data removed]",
      "text/plain": [
       "<Figure size 640x480 with 1 Axes>"
      ]
     },
     "metadata": {},
     "output_type": "display_data"
    }
   ],
   "source": [
    "X = np.linspace(-100, 100, 100)\n",
    "point = point = np.random.choice(X)\n",
    "\n",
    "ParabolGD(X, point).GD(True)"
   ]
  },
  {
   "cell_type": "markdown",
   "id": "5a0da919-ebc2-4a9e-82ea-151763ae4fcf",
   "metadata": {},
   "source": [
    "## Gradient Descend с MSE"
   ]
  },
  {
   "cell_type": "code",
   "execution_count": 1,
   "id": "75b9e527-2043-40c7-b280-fb9608b5f50c",
   "metadata": {},
   "outputs": [
    {
     "data": {
      "image/png": "[encoded data removed]",
      "text/plain": [
       "<Figure size 640x480 with 1 Axes>"
      ]
     },
     "metadata": {},
     "output_type": "display_data"
    }
   ],
   "source": [
    "import numpy as np\n",
    "import matplotlib.pyplot as plt\n",
    "from sklearn.datasets import make_regression\n",
    "X, y = make_regression(n_samples=100, n_features=1, n_informative=1, noise=10, random_state=21)\n",
    "\n",
    "plt.grid()\n",
    "plt.scatter(X, y);"
   ]
  },
  {
   "cell_type": "code",
   "execution_count": 2,
   "id": "9c183925-ea5f-4dd7-b432-2f2bb59e2e9b",
   "metadata": {},
   "outputs": [
    {
     "data": {
      "text/plain": [
       "((100, 1), (100,))"
      ]
     },
     "execution_count": 2,
     "metadata": {},
     "output_type": "execute_result"
    }
   ],
   "source": [
    "X.shape, y.shape"
   ]
  },
  {
   "cell_type": "code",
   "execution_count": 36,
   "id": "c58d6761-3616-4677-993a-ee386e055aa8",
   "metadata": {},
   "outputs": [],
   "source": [
    "class GDRegression():\n",
    "    def __init__(self, eps=0.0001, learning_rate=0.1):\n",
    "        self.eps = eps\n",
    "        self.learning_rate = learning_rate\n",
    "        self.coef_ = None\n",
    "        self.intercept_ = None\n",
    "\n",
    "    @staticmethod\n",
    "    def mserror(X, w, b, y):\n",
    "        y_pred = w * X[:, 0] + b\n",
    "        return np.sum((y - y_pred) ** 2) / len(y_pred)\n",
    "    \n",
    "    @staticmethod\n",
    "    def grad(X, y, w, b):\n",
    "        y_pred = w * X[:, 0] + b\n",
    "        dw = 2/len(X)*np.sum((y - y_pred) * (-X[:, 0]))\n",
    "        db = 2/len(X)*np.sum((y - y_pred)) * (-1)\n",
    "        return np.array([dw, db])\n",
    "        \n",
    "    def fit(self, X, y, logging=False):\n",
    "        w = 0\n",
    "        b = 0\n",
    "        \n",
    "        next_w = w\n",
    "        next_b = b\n",
    "\n",
    "        i=0\n",
    "        \n",
    "        while True:\n",
    "            cur_w = next_w\n",
    "            cur_b = next_b\n",
    "            \n",
    "            next_b = cur_b - self.learning_rate * self.grad(X,y, cur_w, cur_b)[1]\n",
    "            next_w = cur_w - self.learning_rate * self.grad(X,y, cur_w, cur_b)[0]\n",
    "            \n",
    "            if logging:\n",
    "                print(f\"Итерация: {i}\")\n",
    "                print(f\"Текущая точка {cur_w, cur_b}| Следующая точка {next_b, next_w}\")\n",
    "                print(f\"MSE {self.mserror(X, cur_w, cur_b, y)}\")\n",
    "                print(\"--------------------------------------------------------\")\n",
    "            \n",
    "                i+=1\n",
    "            if (abs(cur_w - next_w) <= self.eps) and (abs(cur_b - next_b) <= self.eps):\n",
    "                break\n",
    "            self.coef_ = next_w\n",
    "            self.intercept_ = next_b"
   ]
  },
  {
   "cell_type": "code",
   "execution_count": 4,
   "id": "af7a683c-ba05-4932-8e67-01710320ce30",
   "metadata": {
    "scrolled": true
   },
   "outputs": [
    {
     "name": "stdout",
     "output_type": "stream",
     "text": [
      "Итерация: 0\n",
      "Текущая точка (0, 0)| Следующая точка (0.47591397282289, 6.669703347380118)\n",
      "MSE 1060.2664389253528\n",
      "--------------------------------------------------------\n",
      "Итерация: 1\n",
      "Текущая точка (6.669703347380118, 0.47591397282289)| Следующая точка (0.7173544518830667, 11.79871781424048)\n",
      "MSE 665.0897053875981\n",
      "--------------------------------------------------------\n",
      "Итерация: 2\n",
      "Текущая точка (11.79871781424048, 0.7173544518830667)| Следующая точка (0.8033920244602116, 15.745540491677053)\n",
      "MSE 431.94387303941477\n",
      "--------------------------------------------------------\n",
      "Итерация: 3\n",
      "Текущая точка (15.745540491677053, 0.8033920244602116)| Следующая точка (0.7897962740986573, 18.784739225901923)\n",
      "MSE 294.04977078371815\n",
      "--------------------------------------------------------\n",
      "Итерация: 4\n",
      "Текущая точка (18.784739225901923, 0.7897962740986573)| Следующая точка (0.7154487674371603, 21.126701666318855)\n",
      "MSE 212.27170135771897\n",
      "--------------------------------------------------------\n",
      "Итерация: 5\n",
      "Текущая точка (21.126701666318855, 0.7154487674371603)| Следующая точка (0.6070610027331946, 22.932717820928485)\n",
      "MSE 163.6317214326652\n",
      "--------------------------------------------------------\n",
      "Итерация: 6\n",
      "Текущая точка (22.932717820928485, 0.6070610027331946)| Следующая точка (0.4826337832057236, 24.32650251550056)\n",
      "MSE 134.61108982823416\n",
      "--------------------------------------------------------\n",
      "Итерация: 7\n",
      "Текущая точка (24.32650251550056, 0.4826337832057236)| Следующая точка (0.35398407961047884, 25.403001111051847)\n",
      "MSE 117.23842633372502\n",
      "--------------------------------------------------------\n",
      "Итерация: 8\n",
      "Текущая точка (25.403001111051847, 0.35398407961047884)| Следующая точка (0.22858262088508924, 26.235121468049474)\n",
      "MSE 106.8018801907648\n",
      "--------------------------------------------------------\n",
      "Итерация: 9\n",
      "Текущая точка (26.235121468049474, 0.22858262088508924)| Следующая точка (0.11088337570453344, 26.878882494992155)\n",
      "MSE 100.50889955587712\n",
      "--------------------------------------------------------\n",
      "Итерация: 10\n",
      "Текущая точка (26.878882494992155, 0.11088337570453344)| Следующая точка (0.0032796149625873017, 27.377353299217624)\n",
      "MSE 96.69968790401006\n",
      "--------------------------------------------------------\n",
      "Итерация: 11\n",
      "Текущая точка (27.377353299217624, 0.0032796149625873017)| Следующая точка (-0.09321350383140246, 27.76366830484155)\n",
      "MSE 94.38468047402668\n",
      "--------------------------------------------------------\n",
      "Итерация: 12\n",
      "Текущая точка (27.76366830484155, -0.09321350383140246)| Следующая точка (-0.17847583703592246, 28.06333612204594)\n",
      "MSE 92.97196243162676\n",
      "--------------------------------------------------------\n",
      "Итерация: 13\n",
      "Текущая точка (28.06333612204594, -0.17847583703592246)| Следующая точка (-0.2529439939029555, 28.29600842344778)\n",
      "MSE 92.10624145352448\n",
      "--------------------------------------------------------\n",
      "Итерация: 14\n",
      "Текущая точка (28.29600842344778, -0.2529439939029555)| Следующая точка (-0.3173776691755648, 28.476835785029813)\n",
      "MSE 91.57347304532328\n",
      "--------------------------------------------------------\n",
      "Итерация: 15\n",
      "Текущая точка (28.476835785029813, -0.3173776691755648)| Следующая точка (-0.37270102467287286, 28.617507470886153)\n",
      "MSE 91.24421199466498\n",
      "--------------------------------------------------------\n",
      "Итерация: 16\n",
      "Текущая точка (28.617507470886153, -0.37270102467287286)| Следующая точка (-0.41989750951847177, 28.727049266515404)\n",
      "MSE 91.03986352547808\n",
      "--------------------------------------------------------\n",
      "Итерация: 17\n",
      "Текущая точка (28.727049266515404, -0.41989750951847177)| Следующая точка (-0.4599423783471497, 28.812436006457347)\n",
      "MSE 90.91251199031586\n",
      "--------------------------------------------------------\n",
      "Итерация: 18\n",
      "Текущая точка (28.812436006457347, -0.4599423783471497)| Следующая точка (-0.49376149795386926, 28.879062112679946)\n",
      "MSE 90.83282321485913\n",
      "--------------------------------------------------------\n",
      "Итерация: 19\n",
      "Текущая точка (28.879062112679946, -0.49376149795386926)| Следующая точка (-0.5222082193799777, 28.931103280386615)\n",
      "MSE 90.78276264324282\n",
      "--------------------------------------------------------\n",
      "Итерация: 20\n",
      "Текущая точка (28.931103280386615, -0.5222082193799777)| Следующая точка (-0.5460524290618947, 28.97179467105486)\n",
      "MSE 90.75119556237983\n",
      "--------------------------------------------------------\n",
      "Итерация: 21\n",
      "Текущая точка (28.97179467105486, -0.5460524290618947)| Следующая точка (-0.5659775995591125, 29.003645029307993)\n",
      "MSE 90.73121820776105\n",
      "--------------------------------------------------------\n",
      "Итерация: 22\n",
      "Текущая точка (29.003645029307993, -0.5659775995591125)| Следующая точка (-0.5825829017730747, 29.02860159667268)\n",
      "MSE 90.71853222361455\n",
      "--------------------------------------------------------\n",
      "Итерация: 23\n",
      "Текущая точка (29.02860159667268, -0.5825829017730747)| Следующая точка (-0.5963883387963808, 29.048177220432137)\n",
      "MSE 90.71045047289819\n",
      "--------------------------------------------------------\n",
      "Итерация: 24\n",
      "Текущая точка (29.048177220432137, -0.5963883387963808)| Следующая точка (-0.6078415075451546, 29.063548397204556)\n",
      "MSE 90.70528641534773\n",
      "--------------------------------------------------------\n",
      "Итерация: 25\n",
      "Текущая точка (29.063548397204556, -0.6078415075451546)| Следующая точка (-0.6173250556160624, 29.07563095595276)\n",
      "MSE 90.70197747548508\n",
      "--------------------------------------------------------\n",
      "Итерация: 26\n",
      "Текущая точка (29.07563095595276, -0.6173250556160624)| Следующая точка (-0.6251642273428732, 29.085138526872218)\n",
      "MSE 90.69985175120502\n",
      "--------------------------------------------------------\n",
      "Итерация: 27\n",
      "Текущая точка (29.085138526872218, -0.6251642273428732)| Следующая точка (-0.6316341217113531, 29.092627748797764)\n",
      "MSE 90.69848290400628\n",
      "--------------------------------------------------------\n",
      "Итерация: 28\n",
      "Текущая точка (29.092627748797764, -0.6316341217113531)| Следующая точка (-0.6369664428068254, 29.098533252726696)\n",
      "MSE 90.69759952819668\n",
      "--------------------------------------------------------\n",
      "Итерация: 29\n",
      "Текущая точка (29.098533252726696, -0.6369664428068254)| Следующая точка (-0.6413556307713394, 29.10319475732265)\n",
      "MSE 90.69702831960565\n",
      "--------------------------------------------------------\n",
      "Итерация: 30\n",
      "Текущая точка (29.10319475732265, -0.6413556307713394)| Следующая точка (-0.6449643324344051, 29.106878073825776)\n",
      "MSE 90.69665830129165\n",
      "--------------------------------------------------------\n",
      "Итерация: 31\n",
      "Текущая точка (29.106878073825776, -0.6449643324344051)| Следующая точка (-0.6479282164860592, 29.109791404418488)\n",
      "MSE 90.69641822109108\n",
      "--------------------------------------------------------\n",
      "Итерация: 32\n",
      "Текущая точка (29.109791404418488, -0.6479282164860592)| Следующая точка (-0.6503601659918912, 29.112098000547462)\n",
      "MSE 90.69626222110492\n",
      "--------------------------------------------------------\n",
      "Итерация: 33\n",
      "Текущая точка (29.112098000547462, -0.6503601659918912)| Следующая точка (-0.6523538967626248, 29.113926003617134)\n",
      "MSE 90.69616072169754\n",
      "--------------------------------------------------------\n",
      "Итерация: 34\n",
      "Текущая точка (29.113926003617134, -0.6523538967626248)| Следующая точка (-0.6539870575637358, 29.115376102732313)\n",
      "MSE 90.69609460456667\n",
      "--------------------------------------------------------\n",
      "Итерация: 35\n",
      "Текущая точка (29.115376102732313, -0.6539870575637358)| Следующая точка (-0.6553238702081463, 29.116527499673147)\n",
      "MSE 90.69605149020994\n",
      "--------------------------------------------------------\n",
      "Итерация: 36\n",
      "Текущая точка (29.116527499673147, -0.6553238702081463)| Следующая точка (-0.6564173662034672, 29.117442559996956)\n",
      "MSE 90.6960233493105\n",
      "--------------------------------------------------------\n",
      "Итерация: 37\n",
      "Текущая точка (29.117442559996956, -0.6564173662034672)| Следующая точка (-0.6573112732038324, 29.118170443385605)\n",
      "MSE 90.69600496626137\n",
      "--------------------------------------------------------\n",
      "Итерация: 38\n",
      "Текущая точка (29.118170443385605, -0.6573112732038324)| Следующая точка (-0.6580415999878745, 29.1187499401962)\n",
      "MSE 90.69599294858996\n",
      "--------------------------------------------------------\n",
      "Итерация: 39\n",
      "Текущая точка (29.1187499401962, -0.6580415999878745)| Следующая точка (-0.6586379636798905, 29.119211690101697)\n",
      "MSE 90.69598508700628\n",
      "--------------------------------------------------------\n",
      "Итерация: 40\n",
      "Текущая точка (29.119211690101697, -0.6586379636798905)| Следующая точка (-0.6591246978610713, 29.119579919253702)\n",
      "MSE 90.69597994119125\n",
      "--------------------------------------------------------\n",
      "Итерация: 41\n",
      "Текущая точка (29.119579919253702, -0.6591246978610713)| Следующая точка (-0.6595217753375522, 29.119873801894524)\n",
      "MSE 90.69597657124022\n",
      "--------------------------------------------------------\n",
      "Итерация: 42\n",
      "Текущая точка (29.119873801894524, -0.6595217753375522)| Следующая точка (-0.6598455747908839, 29.120108528739618)\n",
      "MSE 90.69597436327453\n",
      "--------------------------------------------------------\n",
      "Итерация: 43\n",
      "Текущая точка (29.120108528739618, -0.6598455747908839)| Следующая точка (-0.660109516410608, 29.120296146168574)\n",
      "MSE 90.69597291604565\n",
      "--------------------------------------------------------\n",
      "Итерация: 44\n",
      "Текущая точка (29.120296146168574, -0.660109516410608)| Следующая точка (-0.6603245879260591, 29.12044621608975)\n",
      "MSE 90.69597196710797\n",
      "--------------------------------------------------------\n",
      "Итерация: 45\n",
      "Текущая точка (29.12044621608975, -0.6603245879260591)| Следующая точка (-0.66049977921248, 29.1205663353464)\n",
      "MSE 90.69597134469954\n",
      "--------------------------------------------------------\n",
      "Итерация: 46\n",
      "Текущая точка (29.1205663353464, -0.66049977921248)| Следующая точка (-0.6606424408232394, 29.120662544991344)\n",
      "MSE 90.69597093634793\n",
      "--------------------------------------------------------\n",
      "Итерация: 47\n",
      "Текущая точка (29.120662544991344, -0.6606424408232394)| Следующая точка (-0.660758579362936, 29.12073965311747)\n",
      "MSE 90.6959706683695\n",
      "--------------------------------------------------------\n",
      "Итерация: 48\n",
      "Текущая точка (29.12073965311747, -0.660758579362936)| Следующая точка (-0.6608531005279034, 29.12080148976468)\n",
      "MSE 90.69597049247209\n",
      "--------------------------------------------------------\n"
     ]
    }
   ],
   "source": [
    "GD = GDRegression()\n",
    "GD.fit(X, y, True)"
   ]
  },
  {
   "cell_type": "code",
   "execution_count": 5,
   "id": "bb47b480-7cce-4d19-afa0-e94661c55389",
   "metadata": {},
   "outputs": [
    {
     "data": {
      "text/plain": [
       "(29.12073965311747, -0.660758579362936)"
      ]
     },
     "execution_count": 5,
     "metadata": {},
     "output_type": "execute_result"
    }
   ],
   "source": [
    "GD.coef_, GD.intercept_"
   ]
  },
  {
   "cell_type": "code",
   "execution_count": 9,
   "id": "33791fbc-4115-4fe5-8286-dcf7c69a021b",
   "metadata": {},
   "outputs": [],
   "source": [
    "from sklearn.linear_model import SGDRegressor"
   ]
  },
  {
   "cell_type": "code",
   "execution_count": 10,
   "id": "5deed40d-21c3-4395-86b8-675fa52d73c4",
   "metadata": {},
   "outputs": [
    {
     "data": {
      "text/plain": [
       "(array([29.08678869]), array([-0.62901321]))"
      ]
     },
     "execution_count": 10,
     "metadata": {},
     "output_type": "execute_result"
    }
   ],
   "source": [
    "SGD = SGDRegressor()\n",
    "SGD.fit(X, y)\n",
    "SGD.coef_, SGD.intercept_"
   ]
  },
  {
   "cell_type": "code",
   "execution_count": 11,
   "id": "5282117b-0e13-4c04-b186-3dd72f9d1735",
   "metadata": {},
   "outputs": [],
   "source": [
    "from sklearn.linear_model import LinearRegression"
   ]
  },
  {
   "cell_type": "code",
   "execution_count": 12,
   "id": "1825bc45-8ad9-4f63-9469-7d4e1cde51bb",
   "metadata": {},
   "outputs": [
    {
     "data": {
      "text/plain": [
       "(array([29.12105509]), -0.6612641228869567)"
      ]
     },
     "execution_count": 12,
     "metadata": {},
     "output_type": "execute_result"
    }
   ],
   "source": [
    "LR = LinearRegression()\n",
    "LR.fit(X, y)\n",
    "LR.coef_, LR.intercept_"
   ]
  },
  {
   "cell_type": "markdown",
   "id": "4ff0ee5f-0871-4370-b8b5-c671387f9d19",
   "metadata": {},
   "source": [
    "**Метрики**"
   ]
  },
  {
   "cell_type": "code",
   "execution_count": 13,
   "id": "b76755c5-1023-41a5-9260-ca58cd33fc8f",
   "metadata": {},
   "outputs": [],
   "source": [
    "from sklearn.metrics import (mean_absolute_error,\n",
    "                            mean_squared_error,\n",
    "                            root_mean_squared_error,\n",
    "                            r2_score)"
   ]
  },
  {
   "cell_type": "code",
   "execution_count": 14,
   "id": "69ab9d48-44b9-48aa-9fd6-aac8d6791403",
   "metadata": {},
   "outputs": [
    {
     "data": {
      "text/plain": [
       "7.404045172044802"
      ]
     },
     "execution_count": 14,
     "metadata": {},
     "output_type": "execute_result"
    }
   ],
   "source": [
    "mean_absolute_error(y, LR.predict(X))"
   ]
  },
  {
   "cell_type": "code",
   "execution_count": 15,
   "id": "fae9d54f-7633-40a2-95b9-533d33943994",
   "metadata": {},
   "outputs": [
    {
     "data": {
      "text/plain": [
       "7.404045172044802"
      ]
     },
     "execution_count": 15,
     "metadata": {},
     "output_type": "execute_result"
    }
   ],
   "source": [
    "np.mean(np.abs(y-LR.predict(X)))"
   ]
  },
  {
   "cell_type": "code",
   "execution_count": null,
   "id": "057f4726-01b5-4ba6-8937-90d0d695bf94",
   "metadata": {},
   "outputs": [],
   "source": []
  },
  {
   "cell_type": "code",
   "execution_count": 16,
   "id": "b9da85a2-cd69-47ca-ad1d-138c92084d94",
   "metadata": {},
   "outputs": [
    {
     "data": {
      "text/plain": [
       "90.69597015602255"
      ]
     },
     "execution_count": 16,
     "metadata": {},
     "output_type": "execute_result"
    }
   ],
   "source": [
    "mean_squared_error(y, LR.predict(X))"
   ]
  },
  {
   "cell_type": "code",
   "execution_count": 17,
   "id": "b91368af-de53-48ed-9249-ea9aa31d210b",
   "metadata": {},
   "outputs": [
    {
     "data": {
      "text/plain": [
       "90.69597015602255"
      ]
     },
     "execution_count": 17,
     "metadata": {},
     "output_type": "execute_result"
    }
   ],
   "source": [
    "np.mean((y - LR.predict(X))**2)"
   ]
  },
  {
   "cell_type": "code",
   "execution_count": null,
   "id": "49ed5371-cf04-48db-a065-5a3e7505c692",
   "metadata": {},
   "outputs": [],
   "source": []
  },
  {
   "cell_type": "code",
   "execution_count": 18,
   "id": "119f5540-e569-4d5f-94cb-a16c7a70c94b",
   "metadata": {},
   "outputs": [
    {
     "data": {
      "text/plain": [
       "9.523443188050347"
      ]
     },
     "execution_count": 18,
     "metadata": {},
     "output_type": "execute_result"
    }
   ],
   "source": [
    "root_mean_squared_error(y, LR.predict(X))"
   ]
  },
  {
   "cell_type": "code",
   "execution_count": 19,
   "id": "5ff7d678-f010-4c7c-8eec-31553dd2b91d",
   "metadata": {},
   "outputs": [
    {
     "data": {
      "text/plain": [
       "9.523443188050347"
      ]
     },
     "execution_count": 19,
     "metadata": {},
     "output_type": "execute_result"
    }
   ],
   "source": [
    "np.sqrt(np.mean((y - LR.predict(X))**2))"
   ]
  },
  {
   "cell_type": "code",
   "execution_count": null,
   "id": "bfaac13c-01b5-4e6c-bd12-2daa01a6a936",
   "metadata": {},
   "outputs": [],
   "source": []
  },
  {
   "cell_type": "code",
   "execution_count": 20,
   "id": "129271c3-82d1-4b3c-b177-2e25250a3a8b",
   "metadata": {},
   "outputs": [
    {
     "data": {
      "text/plain": [
       "0.9139999822265741"
      ]
     },
     "execution_count": 20,
     "metadata": {},
     "output_type": "execute_result"
    }
   ],
   "source": [
    "r2_score(y, LR.predict(X))"
   ]
  },
  {
   "cell_type": "markdown",
   "id": "96818774-acca-4131-a0b0-e509ad320eda",
   "metadata": {},
   "source": [
    "# "
   ]
  }
 ],
 "metadata": {
  "kernelspec": {
   "display_name": "Python 3 (ipykernel)",
   "language": "python",
   "name": "python3"
  },
  "language_info": {
   "codemirror_mode": {
    "name": "ipython",
    "version": 3
   },
   "file_extension": ".py",
   "mimetype": "text/x-python",
   "name": "python",
   "nbconvert_exporter": "python",
   "pygments_lexer": "ipython3",
   "version": "3.12.3"
  }
 },
 "nbformat": 4,
 "nbformat_minor": 5
}
