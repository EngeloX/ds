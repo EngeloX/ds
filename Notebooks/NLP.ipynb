{
 "cells": [
  {
   "cell_type": "markdown",
   "id": "968f13ae-ec4a-4f4d-931c-976a08276f0f",
   "metadata": {},
   "source": [
    "https://habr.com/ru/companies/Voximplant/articles/446738/"
   ]
  },
  {
   "cell_type": "markdown",
   "id": "df6b9b73-55e2-48f3-86f8-56c341a658b0",
   "metadata": {},
   "source": [
    "# Bag of words"
   ]
  },
  {
   "cell_type": "markdown",
   "id": "0ad112fa-16a4-4b48-9f6e-62055bbb0ff2",
   "metadata": {},
   "source": [
    "# TF-IDF"
   ]
  },
  {
   "cell_type": "markdown",
   "id": "ba14318f-cf2a-447a-833b-ffb761bf1c88",
   "metadata": {},
   "source": [
    "**Term Frequency — Inverse Document Frequency**\n",
    "\n",
    "$$W_{X,Y} = TF_{X,Y} \\cdot log(\\frac{N}{df_X})$$\n",
    "\n",
    "$$TF()$$"
   ]
  },
  {
   "cell_type": "code",
   "execution_count": 8,
   "id": "6cf79f4f-9260-40f0-b20a-e1a3bcd03d41",
   "metadata": {},
   "outputs": [],
   "source": [
    "import pandas as pd"
   ]
  },
  {
   "cell_type": "code",
   "execution_count": 10,
   "id": "7dd778a6-017e-4999-9ecf-82fa465289a0",
   "metadata": {},
   "outputs": [
    {
     "data": {
      "text/plain": [
       "0    Всем привет, меня зовут Дмитрий\n",
       "dtype: object"
      ]
     },
     "execution_count": 10,
     "metadata": {},
     "output_type": "execute_result"
    }
   ],
   "source": [
    "text = pd.Series(data = 'Всем привет, меня зовут Дмитрий')\n",
    "text"
   ]
  },
  {
   "cell_type": "code",
   "execution_count": 1,
   "id": "96d3fceb-b2e9-4b9b-8b88-f6d0dc5950bf",
   "metadata": {},
   "outputs": [],
   "source": [
    "from sklearn.feature_extraction.text import TfidfVectorizer"
   ]
  },
  {
   "cell_type": "code",
   "execution_count": 12,
   "id": "48892110-012e-4db8-a4c5-f22510bc6e65",
   "metadata": {},
   "outputs": [
    {
     "data": {
      "text/plain": [
       "array([[0.4472136, 0.4472136, 0.4472136, 0.4472136, 0.4472136]])"
      ]
     },
     "execution_count": 12,
     "metadata": {},
     "output_type": "execute_result"
    }
   ],
   "source": [
    "tfidf = TfidfVectorizer()\n",
    "tfidf.fit_transform(text).toarray()"
   ]
  },
  {
   "cell_type": "code",
   "execution_count": null,
   "id": "46035612-cd64-442b-8445-3d1a0678bf00",
   "metadata": {},
   "outputs": [],
   "source": []
  }
 ],
 "metadata": {
  "kernelspec": {
   "display_name": "Python 3 (ipykernel)",
   "language": "python",
   "name": "python3"
  },
  "language_info": {
   "codemirror_mode": {
    "name": "ipython",
    "version": 3
   },
   "file_extension": ".py",
   "mimetype": "text/x-python",
   "name": "python",
   "nbconvert_exporter": "python",
   "pygments_lexer": "ipython3",
   "version": "3.12.3"
  }
 },
 "nbformat": 4,
 "nbformat_minor": 5
}
