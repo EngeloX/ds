{
 "cells": [
  {
   "cell_type": "markdown",
   "id": "a0276b09-2980-461a-9b57-7fe4e9550dcc",
   "metadata": {},
   "source": [
    "1) Первичный осмотр\n",
    "2) Работа с пропусками\n",
    "3) Изучение категориальных признаков\n",
    "4) Изучение числовых признаков\n",
    "5) Корреляции\n",
    "6) Мультиколлениарность - VIF, clustermap\n",
    "7) Исследование целевой переменной\n",
    "8) Аномалии и выбросы\n"
   ]
  },
  {
   "cell_type": "markdown",
   "id": "d3baff47-aec8-4513-864e-966df75f3d6b",
   "metadata": {},
   "source": [
    "https://blog.skillfactory.ru/razvedochnyi-analiz-dannyh-eda/\n",
    "\n",
    "https://www.kaggle.com/code/emstrakhov/eda-with-pandas\n",
    "\n"
   ]
  },
  {
   "cell_type": "code",
   "execution_count": null,
   "id": "cd71523f-9e38-41d2-91f9-0d5903b1043c",
   "metadata": {},
   "outputs": [],
   "source": []
  }
 ],
 "metadata": {
  "kernelspec": {
   "display_name": "Python 3 (ipykernel)",
   "language": "python",
   "name": "python3"
  },
  "language_info": {
   "codemirror_mode": {
    "name": "ipython",
    "version": 3
   },
   "file_extension": ".py",
   "mimetype": "text/x-python",
   "name": "python",
   "nbconvert_exporter": "python",
   "pygments_lexer": "ipython3",
   "version": "3.12.3"
  }
 },
 "nbformat": 4,
 "nbformat_minor": 5
}
