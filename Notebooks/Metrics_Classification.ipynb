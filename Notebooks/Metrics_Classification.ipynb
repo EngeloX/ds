{
 "cells": [
  {
   "cell_type": "code",
   "execution_count": 33,
   "id": "0fd164bc-a12c-40c9-9105-21c5fedca35f",
   "metadata": {},
   "outputs": [],
   "source": [
    "import numpy as np\n",
    "import seaborn as sns\n",
    "import matplotlib.pyplot as plt\n",
    "\n",
    "from sklearn.datasets import make_classification\n",
    "from sklearn.model_selection import train_test_split\n",
    "X, y = make_classification(n_samples=100, n_features=10, n_informative=6, n_redundant=4, n_classes=2, random_state=10)\n",
    "X_train, X_test, y_train, y_test = train_test_split(X, y)\n",
    "from sklearn.linear_model import LogisticRegression\n",
    "model = LogisticRegression()\n",
    "model.fit(X_train, y_train)\n",
    "y_pred = model.predict(X_test)"
   ]
  },
  {
   "cell_type": "markdown",
   "id": "e8642e75-0a54-48bd-ad4f-65aba9813a9a",
   "metadata": {},
   "source": [
    "## Confusion Matrix\n",
    "\n",
    "$\n",
    "\\begin{bmatrix}\n",
    "TN & FP \\\\\n",
    "FN & TP\\\\\n",
    "\\end{bmatrix}\n",
    "$"
   ]
  },
  {
   "cell_type": "code",
   "execution_count": 44,
   "id": "3e825dd0-94a7-4294-a581-25ec9667111a",
   "metadata": {},
   "outputs": [
    {
     "data": {
      "image/png": "[encoded data removed]",
      "text/plain": [
       "<Figure size 600x500 with 2 Axes>"
      ]
     },
     "metadata": {},
     "output_type": "display_data"
    }
   ],
   "source": [
    "from sklearn.metrics import confusion_matrix\n",
    "conf_matrix = confusion_matrix(y_test, y_pred)\n",
    "plt.figure(figsize=(6, 5))\n",
    "sns.heatmap(conf_matrix, annot=True, cmap='Reds');"
   ]
  },
  {
   "cell_type": "code",
   "execution_count": 45,
   "id": "66d550e2-f217-4bf8-a8d9-20a30782c9d6",
   "metadata": {},
   "outputs": [
    {
     "data": {
      "text/plain": [
       "(11, 0, 0, 14)"
      ]
     },
     "execution_count": 45,
     "metadata": {},
     "output_type": "execute_result"
    }
   ],
   "source": [
    "TN, FP, FN, TP = confusion_matrix(y_test, y_pred).ravel()\n",
    "TN, FP, FN, TP"
   ]
  },
  {
   "cell_type": "markdown",
   "id": "6e948a01-36ab-4c34-a763-b4c8e6ab6b36",
   "metadata": {},
   "source": [
    "## Accuracy\n",
    "Доля правильных предсказаний к общей сумме предсказаний\n",
    "$$\n",
    "Accuracy = \\frac{1}{N}\\sum_{i=1}^N [y_i = \\hat{y_i}] = \\frac{Number\\ of\\ Correct\\ Predictions}{Number\\ of\\ Total\\ Predictions} = \\frac{TP+TN}{TP+TN+FP+FN}\n",
    "$$"
   ]
  },
  {
   "cell_type": "markdown",
   "id": "f886a168-48f2-454b-9dbb-d8e7ea168776",
   "metadata": {},
   "source": [
    "## Precision\n",
    "$$\n",
    "Precision = \\frac{TP}{TP+FP}\n",
    "$$\n",
    "$$\n",
    "Recall = \\frac{TP}{TP+FN}\n",
    "$$"
   ]
  }
 ],
 "metadata": {
  "kernelspec": {
   "display_name": "Python 3 (ipykernel)",
   "language": "python",
   "name": "python3"
  },
  "language_info": {
   "codemirror_mode": {
    "name": "ipython",
    "version": 3
   },
   "file_extension": ".py",
   "mimetype": "text/x-python",
   "name": "python",
   "nbconvert_exporter": "python",
   "pygments_lexer": "ipython3",
   "version": "3.12.3"
  }
 },
 "nbformat": 4,
 "nbformat_minor": 5
}
